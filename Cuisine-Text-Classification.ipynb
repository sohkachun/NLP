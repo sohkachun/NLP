{
 "cells": [
  {
   "cell_type": "code",
   "execution_count": 1,
   "id": "d4a0b1bb",
   "metadata": {
    "_cell_guid": "b1076dfc-b9ad-4769-8c92-a6c4dae69d19",
    "_uuid": "8f2839f25d086af736a60e9eeb907d3b93b6e0e5",
    "execution": {
     "iopub.execute_input": "2024-02-17T01:43:28.818511Z",
     "iopub.status.busy": "2024-02-17T01:43:28.818056Z",
     "iopub.status.idle": "2024-02-17T01:43:29.995124Z",
     "shell.execute_reply": "2024-02-17T01:43:29.993437Z"
    },
    "papermill": {
     "duration": 1.195797,
     "end_time": "2024-02-17T01:43:29.998491",
     "exception": false,
     "start_time": "2024-02-17T01:43:28.802694",
     "status": "completed"
    },
    "tags": []
   },
   "outputs": [
    {
     "name": "stdout",
     "output_type": "stream",
     "text": [
      "/kaggle/input/whats-cooking-kernels-only/sample_submission.csv.zip\n",
      "/kaggle/input/whats-cooking-kernels-only/train.json\n",
      "/kaggle/input/whats-cooking-kernels-only/test.json\n"
     ]
    }
   ],
   "source": [
    "# This Python 3 environment comes with many helpful analytics libraries installed\n",
    "# It is defined by the kaggle/python Docker image: https://github.com/kaggle/docker-python\n",
    "# For example, here's several helpful packages to load\n",
    "\n",
    "import numpy as np # linear algebra\n",
    "import pandas as pd # data processing, CSV file I/O (e.g. pd.read_csv)\n",
    "\n",
    "# Input data files are available in the read-only \"../input/\" directory\n",
    "# For example, running this (by clicking run or pressing Shift+Enter) will list all files under the input directory\n",
    "\n",
    "import os\n",
    "for dirname, _, filenames in os.walk('/kaggle/input'):\n",
    "    for filename in filenames:\n",
    "        print(os.path.join(dirname, filename))\n",
    "\n",
    "# You can write up to 20GB to the current directory (/kaggle/working/) that gets preserved as output when you create a version using \"Save & Run All\" \n",
    "# You can also write temporary files to /kaggle/temp/, but they won't be saved outside of the current session"
   ]
  },
  {
   "cell_type": "markdown",
   "id": "dfd8e089",
   "metadata": {},
   "source": [
    "# Import NLTK"
   ]
  },
  {
   "cell_type": "code",
   "execution_count": 4,
   "id": "14335cd6",
   "metadata": {
    "execution": {
     "iopub.execute_input": "2024-02-17T01:43:51.688807Z",
     "iopub.status.busy": "2024-02-17T01:43:51.688297Z",
     "iopub.status.idle": "2024-02-17T01:44:12.975675Z",
     "shell.execute_reply": "2024-02-17T01:44:12.974291Z"
    },
    "papermill": {
     "duration": 21.30607,
     "end_time": "2024-02-17T01:44:12.979260",
     "exception": false,
     "start_time": "2024-02-17T01:43:51.673190",
     "status": "completed"
    },
    "tags": []
   },
   "outputs": [
    {
     "name": "stdout",
     "output_type": "stream",
     "text": [
      "[nltk_data] Downloading collection 'all'\n",
      "[nltk_data]    | \n",
      "[nltk_data]    | Downloading package abc to /usr/share/nltk_data...\n",
      "[nltk_data]    |   Package abc is already up-to-date!\n",
      "[nltk_data]    | Downloading package alpino to /usr/share/nltk_data...\n",
      "[nltk_data]    |   Package alpino is already up-to-date!\n",
      "[nltk_data]    | Downloading package averaged_perceptron_tagger to\n",
      "[nltk_data]    |     /usr/share/nltk_data...\n",
      "[nltk_data]    |   Package averaged_perceptron_tagger is already up-\n",
      "[nltk_data]    |       to-date!\n",
      "[nltk_data]    | Downloading package averaged_perceptron_tagger_ru to\n",
      "[nltk_data]    |     /usr/share/nltk_data...\n",
      "[nltk_data]    |   Unzipping\n",
      "[nltk_data]    |       taggers/averaged_perceptron_tagger_ru.zip.\n",
      "[nltk_data]    | Downloading package basque_grammars to\n",
      "[nltk_data]    |     /usr/share/nltk_data...\n",
      "[nltk_data]    |   Package basque_grammars is already up-to-date!\n",
      "[nltk_data]    | Downloading package bcp47 to /usr/share/nltk_data...\n",
      "[nltk_data]    | Downloading package biocreative_ppi to\n",
      "[nltk_data]    |     /usr/share/nltk_data...\n",
      "[nltk_data]    |   Package biocreative_ppi is already up-to-date!\n",
      "[nltk_data]    | Downloading package bllip_wsj_no_aux to\n",
      "[nltk_data]    |     /usr/share/nltk_data...\n",
      "[nltk_data]    |   Package bllip_wsj_no_aux is already up-to-date!\n",
      "[nltk_data]    | Downloading package book_grammars to\n",
      "[nltk_data]    |     /usr/share/nltk_data...\n",
      "[nltk_data]    |   Package book_grammars is already up-to-date!\n",
      "[nltk_data]    | Downloading package brown to /usr/share/nltk_data...\n",
      "[nltk_data]    |   Package brown is already up-to-date!\n",
      "[nltk_data]    | Downloading package brown_tei to\n",
      "[nltk_data]    |     /usr/share/nltk_data...\n",
      "[nltk_data]    |   Package brown_tei is already up-to-date!\n",
      "[nltk_data]    | Downloading package cess_cat to\n",
      "[nltk_data]    |     /usr/share/nltk_data...\n",
      "[nltk_data]    |   Package cess_cat is already up-to-date!\n",
      "[nltk_data]    | Downloading package cess_esp to\n",
      "[nltk_data]    |     /usr/share/nltk_data...\n",
      "[nltk_data]    |   Package cess_esp is already up-to-date!\n",
      "[nltk_data]    | Downloading package chat80 to /usr/share/nltk_data...\n",
      "[nltk_data]    |   Package chat80 is already up-to-date!\n",
      "[nltk_data]    | Downloading package city_database to\n",
      "[nltk_data]    |     /usr/share/nltk_data...\n",
      "[nltk_data]    |   Package city_database is already up-to-date!\n",
      "[nltk_data]    | Downloading package cmudict to\n",
      "[nltk_data]    |     /usr/share/nltk_data...\n",
      "[nltk_data]    |   Package cmudict is already up-to-date!\n",
      "[nltk_data]    | Downloading package comparative_sentences to\n",
      "[nltk_data]    |     /usr/share/nltk_data...\n",
      "[nltk_data]    |   Unzipping corpora/comparative_sentences.zip.\n",
      "[nltk_data]    | Downloading package comtrans to\n",
      "[nltk_data]    |     /usr/share/nltk_data...\n",
      "[nltk_data]    |   Package comtrans is already up-to-date!\n",
      "[nltk_data]    | Downloading package conll2000 to\n",
      "[nltk_data]    |     /usr/share/nltk_data...\n",
      "[nltk_data]    |   Package conll2000 is already up-to-date!\n",
      "[nltk_data]    | Downloading package conll2002 to\n",
      "[nltk_data]    |     /usr/share/nltk_data...\n",
      "[nltk_data]    |   Package conll2002 is already up-to-date!\n",
      "[nltk_data]    | Downloading package conll2007 to\n",
      "[nltk_data]    |     /usr/share/nltk_data...\n",
      "[nltk_data]    |   Package conll2007 is already up-to-date!\n",
      "[nltk_data]    | Downloading package crubadan to\n",
      "[nltk_data]    |     /usr/share/nltk_data...\n",
      "[nltk_data]    |   Package crubadan is already up-to-date!\n",
      "[nltk_data]    | Downloading package dependency_treebank to\n",
      "[nltk_data]    |     /usr/share/nltk_data...\n",
      "[nltk_data]    |   Package dependency_treebank is already up-to-date!\n",
      "[nltk_data]    | Downloading package dolch to /usr/share/nltk_data...\n",
      "[nltk_data]    |   Unzipping corpora/dolch.zip.\n",
      "[nltk_data]    | Downloading package europarl_raw to\n",
      "[nltk_data]    |     /usr/share/nltk_data...\n",
      "[nltk_data]    |   Package europarl_raw is already up-to-date!\n",
      "[nltk_data]    | Downloading package extended_omw to\n",
      "[nltk_data]    |     /usr/share/nltk_data...\n",
      "[nltk_data]    | Downloading package floresta to\n",
      "[nltk_data]    |     /usr/share/nltk_data...\n",
      "[nltk_data]    |   Package floresta is already up-to-date!\n",
      "[nltk_data]    | Downloading package framenet_v15 to\n",
      "[nltk_data]    |     /usr/share/nltk_data...\n",
      "[nltk_data]    |   Unzipping corpora/framenet_v15.zip.\n",
      "[nltk_data]    | Downloading package framenet_v17 to\n",
      "[nltk_data]    |     /usr/share/nltk_data...\n",
      "[nltk_data]    |   Unzipping corpora/framenet_v17.zip.\n",
      "[nltk_data]    | Downloading package gazetteers to\n",
      "[nltk_data]    |     /usr/share/nltk_data...\n",
      "[nltk_data]    |   Package gazetteers is already up-to-date!\n",
      "[nltk_data]    | Downloading package genesis to\n",
      "[nltk_data]    |     /usr/share/nltk_data...\n",
      "[nltk_data]    |   Package genesis is already up-to-date!\n",
      "[nltk_data]    | Downloading package gutenberg to\n",
      "[nltk_data]    |     /usr/share/nltk_data...\n",
      "[nltk_data]    |   Package gutenberg is already up-to-date!\n",
      "[nltk_data]    | Downloading package ieer to /usr/share/nltk_data...\n",
      "[nltk_data]    |   Package ieer is already up-to-date!\n",
      "[nltk_data]    | Downloading package inaugural to\n",
      "[nltk_data]    |     /usr/share/nltk_data...\n",
      "[nltk_data]    |   Package inaugural is already up-to-date!\n",
      "[nltk_data]    | Downloading package indian to /usr/share/nltk_data...\n",
      "[nltk_data]    |   Package indian is already up-to-date!\n",
      "[nltk_data]    | Downloading package jeita to /usr/share/nltk_data...\n",
      "[nltk_data]    |   Package jeita is already up-to-date!\n",
      "[nltk_data]    | Downloading package kimmo to /usr/share/nltk_data...\n",
      "[nltk_data]    |   Package kimmo is already up-to-date!\n",
      "[nltk_data]    | Downloading package knbc to /usr/share/nltk_data...\n",
      "[nltk_data]    |   Package knbc is already up-to-date!\n",
      "[nltk_data]    | Downloading package large_grammars to\n",
      "[nltk_data]    |     /usr/share/nltk_data...\n",
      "[nltk_data]    |   Package large_grammars is already up-to-date!\n",
      "[nltk_data]    | Downloading package lin_thesaurus to\n",
      "[nltk_data]    |     /usr/share/nltk_data...\n",
      "[nltk_data]    |   Package lin_thesaurus is already up-to-date!\n",
      "[nltk_data]    | Downloading package mac_morpho to\n",
      "[nltk_data]    |     /usr/share/nltk_data...\n",
      "[nltk_data]    |   Package mac_morpho is already up-to-date!\n",
      "[nltk_data]    | Downloading package machado to\n",
      "[nltk_data]    |     /usr/share/nltk_data...\n",
      "[nltk_data]    |   Package machado is already up-to-date!\n",
      "[nltk_data]    | Downloading package masc_tagged to\n",
      "[nltk_data]    |     /usr/share/nltk_data...\n",
      "[nltk_data]    |   Package masc_tagged is already up-to-date!\n",
      "[nltk_data]    | Downloading package maxent_ne_chunker to\n",
      "[nltk_data]    |     /usr/share/nltk_data...\n",
      "[nltk_data]    |   Package maxent_ne_chunker is already up-to-date!\n",
      "[nltk_data]    | Downloading package maxent_treebank_pos_tagger to\n",
      "[nltk_data]    |     /usr/share/nltk_data...\n",
      "[nltk_data]    |   Package maxent_treebank_pos_tagger is already up-\n",
      "[nltk_data]    |       to-date!\n",
      "[nltk_data]    | Downloading package moses_sample to\n",
      "[nltk_data]    |     /usr/share/nltk_data...\n",
      "[nltk_data]    |   Package moses_sample is already up-to-date!\n",
      "[nltk_data]    | Downloading package movie_reviews to\n",
      "[nltk_data]    |     /usr/share/nltk_data...\n",
      "[nltk_data]    |   Package movie_reviews is already up-to-date!\n",
      "[nltk_data]    | Downloading package mte_teip5 to\n",
      "[nltk_data]    |     /usr/share/nltk_data...\n",
      "[nltk_data]    |   Package mte_teip5 is already up-to-date!\n",
      "[nltk_data]    | Downloading package mwa_ppdb to\n",
      "[nltk_data]    |     /usr/share/nltk_data...\n",
      "[nltk_data]    |   Unzipping misc/mwa_ppdb.zip.\n",
      "[nltk_data]    | Downloading package names to /usr/share/nltk_data...\n",
      "[nltk_data]    |   Package names is already up-to-date!\n",
      "[nltk_data]    | Downloading package nombank.1.0 to\n",
      "[nltk_data]    |     /usr/share/nltk_data...\n",
      "[nltk_data]    | Downloading package nonbreaking_prefixes to\n",
      "[nltk_data]    |     /usr/share/nltk_data...\n",
      "[nltk_data]    |   Unzipping corpora/nonbreaking_prefixes.zip.\n",
      "[nltk_data]    | Downloading package nps_chat to\n",
      "[nltk_data]    |     /usr/share/nltk_data...\n",
      "[nltk_data]    |   Package nps_chat is already up-to-date!\n",
      "[nltk_data]    | Downloading package omw to /usr/share/nltk_data...\n",
      "[nltk_data]    |   Package omw is already up-to-date!\n",
      "[nltk_data]    | Downloading package omw-1.4 to\n",
      "[nltk_data]    |     /usr/share/nltk_data...\n",
      "[nltk_data]    | Downloading package opinion_lexicon to\n",
      "[nltk_data]    |     /usr/share/nltk_data...\n",
      "[nltk_data]    |   Package opinion_lexicon is already up-to-date!\n",
      "[nltk_data]    | Downloading package panlex_swadesh to\n",
      "[nltk_data]    |     /usr/share/nltk_data...\n",
      "[nltk_data]    | Downloading package paradigms to\n",
      "[nltk_data]    |     /usr/share/nltk_data...\n",
      "[nltk_data]    |   Package paradigms is already up-to-date!\n",
      "[nltk_data]    | Downloading package pe08 to /usr/share/nltk_data...\n",
      "[nltk_data]    |   Unzipping corpora/pe08.zip.\n",
      "[nltk_data]    | Downloading package perluniprops to\n",
      "[nltk_data]    |     /usr/share/nltk_data...\n",
      "[nltk_data]    |   Unzipping misc/perluniprops.zip.\n",
      "[nltk_data]    | Downloading package pil to /usr/share/nltk_data...\n",
      "[nltk_data]    |   Package pil is already up-to-date!\n",
      "[nltk_data]    | Downloading package pl196x to /usr/share/nltk_data...\n",
      "[nltk_data]    |   Package pl196x is already up-to-date!\n",
      "[nltk_data]    | Downloading package porter_test to\n",
      "[nltk_data]    |     /usr/share/nltk_data...\n",
      "[nltk_data]    |   Package porter_test is already up-to-date!\n",
      "[nltk_data]    | Downloading package ppattach to\n",
      "[nltk_data]    |     /usr/share/nltk_data...\n",
      "[nltk_data]    |   Package ppattach is already up-to-date!\n",
      "[nltk_data]    | Downloading package problem_reports to\n",
      "[nltk_data]    |     /usr/share/nltk_data...\n",
      "[nltk_data]    |   Package problem_reports is already up-to-date!\n",
      "[nltk_data]    | Downloading package product_reviews_1 to\n",
      "[nltk_data]    |     /usr/share/nltk_data...\n",
      "[nltk_data]    |   Package product_reviews_1 is already up-to-date!\n",
      "[nltk_data]    | Downloading package product_reviews_2 to\n",
      "[nltk_data]    |     /usr/share/nltk_data...\n",
      "[nltk_data]    |   Package product_reviews_2 is already up-to-date!\n",
      "[nltk_data]    | Downloading package propbank to\n",
      "[nltk_data]    |     /usr/share/nltk_data...\n",
      "[nltk_data]    |   Package propbank is already up-to-date!\n",
      "[nltk_data]    | Downloading package pros_cons to\n",
      "[nltk_data]    |     /usr/share/nltk_data...\n",
      "[nltk_data]    |   Package pros_cons is already up-to-date!\n",
      "[nltk_data]    | Downloading package ptb to /usr/share/nltk_data...\n",
      "[nltk_data]    |   Package ptb is already up-to-date!\n",
      "[nltk_data]    | Downloading package punkt to /usr/share/nltk_data...\n",
      "[nltk_data]    |   Package punkt is already up-to-date!\n",
      "[nltk_data]    | Downloading package qc to /usr/share/nltk_data...\n",
      "[nltk_data]    |   Package qc is already up-to-date!\n",
      "[nltk_data]    | Downloading package reuters to\n",
      "[nltk_data]    |     /usr/share/nltk_data...\n",
      "[nltk_data]    |   Package reuters is already up-to-date!\n",
      "[nltk_data]    | Downloading package rslp to /usr/share/nltk_data...\n",
      "[nltk_data]    |   Package rslp is already up-to-date!\n",
      "[nltk_data]    | Downloading package rte to /usr/share/nltk_data...\n",
      "[nltk_data]    |   Package rte is already up-to-date!\n",
      "[nltk_data]    | Downloading package sample_grammars to\n",
      "[nltk_data]    |     /usr/share/nltk_data...\n",
      "[nltk_data]    |   Package sample_grammars is already up-to-date!\n",
      "[nltk_data]    | Downloading package semcor to /usr/share/nltk_data...\n",
      "[nltk_data]    |   Package semcor is already up-to-date!\n",
      "[nltk_data]    | Downloading package senseval to\n",
      "[nltk_data]    |     /usr/share/nltk_data...\n",
      "[nltk_data]    |   Package senseval is already up-to-date!\n",
      "[nltk_data]    | Downloading package sentence_polarity to\n",
      "[nltk_data]    |     /usr/share/nltk_data...\n",
      "[nltk_data]    |   Package sentence_polarity is already up-to-date!\n",
      "[nltk_data]    | Downloading package sentiwordnet to\n",
      "[nltk_data]    |     /usr/share/nltk_data...\n",
      "[nltk_data]    |   Package sentiwordnet is already up-to-date!\n",
      "[nltk_data]    | Downloading package shakespeare to\n",
      "[nltk_data]    |     /usr/share/nltk_data...\n",
      "[nltk_data]    |   Package shakespeare is already up-to-date!\n",
      "[nltk_data]    | Downloading package sinica_treebank to\n",
      "[nltk_data]    |     /usr/share/nltk_data...\n",
      "[nltk_data]    |   Package sinica_treebank is already up-to-date!\n",
      "[nltk_data]    | Downloading package smultron to\n",
      "[nltk_data]    |     /usr/share/nltk_data...\n",
      "[nltk_data]    |   Package smultron is already up-to-date!\n",
      "[nltk_data]    | Downloading package snowball_data to\n",
      "[nltk_data]    |     /usr/share/nltk_data...\n",
      "[nltk_data]    |   Package snowball_data is already up-to-date!\n",
      "[nltk_data]    | Downloading package spanish_grammars to\n",
      "[nltk_data]    |     /usr/share/nltk_data...\n",
      "[nltk_data]    |   Package spanish_grammars is already up-to-date!\n",
      "[nltk_data]    | Downloading package state_union to\n",
      "[nltk_data]    |     /usr/share/nltk_data...\n",
      "[nltk_data]    |   Package state_union is already up-to-date!\n",
      "[nltk_data]    | Downloading package stopwords to\n",
      "[nltk_data]    |     /usr/share/nltk_data...\n",
      "[nltk_data]    |   Package stopwords is already up-to-date!\n",
      "[nltk_data]    | Downloading package subjectivity to\n",
      "[nltk_data]    |     /usr/share/nltk_data...\n",
      "[nltk_data]    |   Package subjectivity is already up-to-date!\n",
      "[nltk_data]    | Downloading package swadesh to\n",
      "[nltk_data]    |     /usr/share/nltk_data...\n",
      "[nltk_data]    |   Package swadesh is already up-to-date!\n",
      "[nltk_data]    | Downloading package switchboard to\n",
      "[nltk_data]    |     /usr/share/nltk_data...\n",
      "[nltk_data]    |   Package switchboard is already up-to-date!\n",
      "[nltk_data]    | Downloading package tagsets to\n",
      "[nltk_data]    |     /usr/share/nltk_data...\n",
      "[nltk_data]    |   Package tagsets is already up-to-date!\n",
      "[nltk_data]    | Downloading package timit to /usr/share/nltk_data...\n",
      "[nltk_data]    |   Package timit is already up-to-date!\n",
      "[nltk_data]    | Downloading package toolbox to\n",
      "[nltk_data]    |     /usr/share/nltk_data...\n",
      "[nltk_data]    |   Package toolbox is already up-to-date!\n",
      "[nltk_data]    | Downloading package treebank to\n",
      "[nltk_data]    |     /usr/share/nltk_data...\n",
      "[nltk_data]    |   Package treebank is already up-to-date!\n",
      "[nltk_data]    | Downloading package twitter_samples to\n",
      "[nltk_data]    |     /usr/share/nltk_data...\n",
      "[nltk_data]    |   Package twitter_samples is already up-to-date!\n",
      "[nltk_data]    | Downloading package udhr to /usr/share/nltk_data...\n",
      "[nltk_data]    |   Package udhr is already up-to-date!\n",
      "[nltk_data]    | Downloading package udhr2 to /usr/share/nltk_data...\n",
      "[nltk_data]    |   Package udhr2 is already up-to-date!\n",
      "[nltk_data]    | Downloading package unicode_samples to\n",
      "[nltk_data]    |     /usr/share/nltk_data...\n",
      "[nltk_data]    |   Package unicode_samples is already up-to-date!\n",
      "[nltk_data]    | Downloading package universal_tagset to\n",
      "[nltk_data]    |     /usr/share/nltk_data...\n",
      "[nltk_data]    |   Package universal_tagset is already up-to-date!\n",
      "[nltk_data]    | Downloading package universal_treebanks_v20 to\n",
      "[nltk_data]    |     /usr/share/nltk_data...\n",
      "[nltk_data]    |   Package universal_treebanks_v20 is already up-to-\n",
      "[nltk_data]    |       date!\n",
      "[nltk_data]    | Downloading package vader_lexicon to\n",
      "[nltk_data]    |     /usr/share/nltk_data...\n",
      "[nltk_data]    |   Package vader_lexicon is already up-to-date!\n",
      "[nltk_data]    | Downloading package verbnet to\n",
      "[nltk_data]    |     /usr/share/nltk_data...\n",
      "[nltk_data]    |   Package verbnet is already up-to-date!\n",
      "[nltk_data]    | Downloading package verbnet3 to\n",
      "[nltk_data]    |     /usr/share/nltk_data...\n",
      "[nltk_data]    |   Unzipping corpora/verbnet3.zip.\n",
      "[nltk_data]    | Downloading package webtext to\n",
      "[nltk_data]    |     /usr/share/nltk_data...\n",
      "[nltk_data]    |   Package webtext is already up-to-date!\n",
      "[nltk_data]    | Downloading package wmt15_eval to\n",
      "[nltk_data]    |     /usr/share/nltk_data...\n",
      "[nltk_data]    |   Unzipping models/wmt15_eval.zip.\n",
      "[nltk_data]    | Downloading package word2vec_sample to\n",
      "[nltk_data]    |     /usr/share/nltk_data...\n",
      "[nltk_data]    |   Package word2vec_sample is already up-to-date!\n",
      "[nltk_data]    | Downloading package wordnet to\n",
      "[nltk_data]    |     /usr/share/nltk_data...\n",
      "[nltk_data]    |   Package wordnet is already up-to-date!\n",
      "[nltk_data]    | Downloading package wordnet2021 to\n",
      "[nltk_data]    |     /usr/share/nltk_data...\n",
      "[nltk_data]    | Downloading package wordnet2022 to\n",
      "[nltk_data]    |     /usr/share/nltk_data...\n",
      "[nltk_data]    |   Unzipping corpora/wordnet2022.zip.\n",
      "[nltk_data]    | Downloading package wordnet31 to\n",
      "[nltk_data]    |     /usr/share/nltk_data...\n",
      "[nltk_data]    | Downloading package wordnet_ic to\n",
      "[nltk_data]    |     /usr/share/nltk_data...\n",
      "[nltk_data]    |   Package wordnet_ic is already up-to-date!\n",
      "[nltk_data]    | Downloading package words to /usr/share/nltk_data...\n",
      "[nltk_data]    |   Package words is already up-to-date!\n",
      "[nltk_data]    | Downloading package ycoe to /usr/share/nltk_data...\n",
      "[nltk_data]    |   Package ycoe is already up-to-date!\n",
      "[nltk_data]    | \n",
      "[nltk_data]  Done downloading collection all\n"
     ]
    },
    {
     "data": {
      "text/plain": [
       "True"
      ]
     },
     "execution_count": 4,
     "metadata": {},
     "output_type": "execute_result"
    }
   ],
   "source": [
    "import nltk\n",
    "nltk.download('all')"
   ]
  },
  {
   "cell_type": "code",
   "execution_count": 5,
   "id": "fd328a9e",
   "metadata": {
    "execution": {
     "iopub.execute_input": "2024-02-17T01:44:13.018814Z",
     "iopub.status.busy": "2024-02-17T01:44:13.018385Z",
     "iopub.status.idle": "2024-02-17T01:44:14.572336Z",
     "shell.execute_reply": "2024-02-17T01:44:14.571032Z"
    },
    "papermill": {
     "duration": 1.577059,
     "end_time": "2024-02-17T01:44:14.575787",
     "exception": false,
     "start_time": "2024-02-17T01:44:12.998728",
     "status": "completed"
    },
    "tags": []
   },
   "outputs": [
    {
     "name": "stdout",
     "output_type": "stream",
     "text": [
      "Archive:  /usr/share/nltk_data/corpora/wordnet.zip\r\n",
      "   creating: /usr/share/nltk_data/corpora/wordnet/\r\n",
      "  inflating: /usr/share/nltk_data/corpora/wordnet/lexnames  \r\n",
      "  inflating: /usr/share/nltk_data/corpora/wordnet/data.verb  \r\n",
      "  inflating: /usr/share/nltk_data/corpora/wordnet/index.adv  \r\n",
      "  inflating: /usr/share/nltk_data/corpora/wordnet/adv.exc  \r\n",
      "  inflating: /usr/share/nltk_data/corpora/wordnet/index.verb  \r\n",
      "  inflating: /usr/share/nltk_data/corpora/wordnet/cntlist.rev  \r\n",
      "  inflating: /usr/share/nltk_data/corpora/wordnet/data.adj  \r\n",
      "  inflating: /usr/share/nltk_data/corpora/wordnet/index.adj  \r\n",
      "  inflating: /usr/share/nltk_data/corpora/wordnet/LICENSE  \r\n",
      "  inflating: /usr/share/nltk_data/corpora/wordnet/citation.bib  \r\n",
      "  inflating: /usr/share/nltk_data/corpora/wordnet/noun.exc  \r\n",
      "  inflating: /usr/share/nltk_data/corpora/wordnet/verb.exc  \r\n",
      "  inflating: /usr/share/nltk_data/corpora/wordnet/README  \r\n",
      "  inflating: /usr/share/nltk_data/corpora/wordnet/index.sense  \r\n",
      "  inflating: /usr/share/nltk_data/corpora/wordnet/data.noun  \r\n",
      "  inflating: /usr/share/nltk_data/corpora/wordnet/data.adv  \r\n",
      "  inflating: /usr/share/nltk_data/corpora/wordnet/index.noun  \r\n",
      "  inflating: /usr/share/nltk_data/corpora/wordnet/adj.exc  \r\n"
     ]
    }
   ],
   "source": [
    "!unzip /usr/share/nltk_data/corpora/wordnet.zip -d /usr/share/nltk_data/corpora/ #to unzip wordnet for kaggle "
   ]
  },
  {
   "cell_type": "code",
   "execution_count": 6,
   "id": "6383a713",
   "metadata": {
    "execution": {
     "iopub.execute_input": "2024-02-17T01:44:14.614159Z",
     "iopub.status.busy": "2024-02-17T01:44:14.613367Z",
     "iopub.status.idle": "2024-02-17T01:44:14.620084Z",
     "shell.execute_reply": "2024-02-17T01:44:14.618754Z"
    },
    "papermill": {
     "duration": 0.029795,
     "end_time": "2024-02-17T01:44:14.623208",
     "exception": false,
     "start_time": "2024-02-17T01:44:14.593413",
     "status": "completed"
    },
    "tags": []
   },
   "outputs": [],
   "source": [
    "#basic pakages\n",
    "import pandas as pd\n",
    "import numpy as np"
   ]
  },
  {
   "cell_type": "code",
   "execution_count": 7,
   "id": "7a16cb51",
   "metadata": {
    "execution": {
     "iopub.execute_input": "2024-02-17T01:44:14.661946Z",
     "iopub.status.busy": "2024-02-17T01:44:14.661465Z",
     "iopub.status.idle": "2024-02-17T01:44:15.175387Z",
     "shell.execute_reply": "2024-02-17T01:44:15.173978Z"
    },
    "papermill": {
     "duration": 0.538411,
     "end_time": "2024-02-17T01:44:15.179442",
     "exception": false,
     "start_time": "2024-02-17T01:44:14.641031",
     "status": "completed"
    },
    "tags": []
   },
   "outputs": [],
   "source": [
    "#Visualization packages\n",
    "import seaborn as sns\n",
    "import matplotlib.pyplot as plt"
   ]
  },
  {
   "cell_type": "markdown",
   "id": "17f45b7d",
   "metadata": {},
   "source": [
    "# Load Data"
   ]
  },
  {
   "cell_type": "code",
   "execution_count": 8,
   "id": "3cdc490f",
   "metadata": {
    "execution": {
     "iopub.execute_input": "2024-02-17T01:44:15.221267Z",
     "iopub.status.busy": "2024-02-17T01:44:15.219307Z",
     "iopub.status.idle": "2024-02-17T01:44:16.144994Z",
     "shell.execute_reply": "2024-02-17T01:44:16.139861Z"
    },
    "papermill": {
     "duration": 0.954476,
     "end_time": "2024-02-17T01:44:16.152852",
     "exception": false,
     "start_time": "2024-02-17T01:44:15.198376",
     "status": "completed"
    },
    "tags": []
   },
   "outputs": [],
   "source": [
    "train = pd.read_json('/kaggle/input/whats-cooking-kernels-only/train.json')\n",
    "test = pd.read_json('/kaggle/input/whats-cooking-kernels-only/test.json')"
   ]
  },
  {
   "cell_type": "code",
   "execution_count": 9,
   "id": "823b34a3",
   "metadata": {
    "execution": {
     "iopub.execute_input": "2024-02-17T01:44:16.208817Z",
     "iopub.status.busy": "2024-02-17T01:44:16.208184Z",
     "iopub.status.idle": "2024-02-17T01:44:16.252720Z",
     "shell.execute_reply": "2024-02-17T01:44:16.251289Z"
    },
    "papermill": {
     "duration": 0.075137,
     "end_time": "2024-02-17T01:44:16.256614",
     "exception": false,
     "start_time": "2024-02-17T01:44:16.181477",
     "status": "completed"
    },
    "tags": []
   },
   "outputs": [
    {
     "data": {
      "text/html": [
       "<div>\n",
       "<style scoped>\n",
       "    .dataframe tbody tr th:only-of-type {\n",
       "        vertical-align: middle;\n",
       "    }\n",
       "\n",
       "    .dataframe tbody tr th {\n",
       "        vertical-align: top;\n",
       "    }\n",
       "\n",
       "    .dataframe thead th {\n",
       "        text-align: right;\n",
       "    }\n",
       "</style>\n",
       "<table border=\"1\" class=\"dataframe\">\n",
       "  <thead>\n",
       "    <tr style=\"text-align: right;\">\n",
       "      <th></th>\n",
       "      <th>id</th>\n",
       "      <th>cuisine</th>\n",
       "      <th>ingredients</th>\n",
       "    </tr>\n",
       "  </thead>\n",
       "  <tbody>\n",
       "    <tr>\n",
       "      <th>0</th>\n",
       "      <td>10259</td>\n",
       "      <td>greek</td>\n",
       "      <td>[romaine lettuce, black olives, grape tomatoes...</td>\n",
       "    </tr>\n",
       "    <tr>\n",
       "      <th>1</th>\n",
       "      <td>25693</td>\n",
       "      <td>southern_us</td>\n",
       "      <td>[plain flour, ground pepper, salt, tomatoes, g...</td>\n",
       "    </tr>\n",
       "    <tr>\n",
       "      <th>2</th>\n",
       "      <td>20130</td>\n",
       "      <td>filipino</td>\n",
       "      <td>[eggs, pepper, salt, mayonaise, cooking oil, g...</td>\n",
       "    </tr>\n",
       "    <tr>\n",
       "      <th>3</th>\n",
       "      <td>22213</td>\n",
       "      <td>indian</td>\n",
       "      <td>[water, vegetable oil, wheat, salt]</td>\n",
       "    </tr>\n",
       "    <tr>\n",
       "      <th>4</th>\n",
       "      <td>13162</td>\n",
       "      <td>indian</td>\n",
       "      <td>[black pepper, shallots, cornflour, cayenne pe...</td>\n",
       "    </tr>\n",
       "    <tr>\n",
       "      <th>...</th>\n",
       "      <td>...</td>\n",
       "      <td>...</td>\n",
       "      <td>...</td>\n",
       "    </tr>\n",
       "    <tr>\n",
       "      <th>39769</th>\n",
       "      <td>29109</td>\n",
       "      <td>irish</td>\n",
       "      <td>[light brown sugar, granulated sugar, butter, ...</td>\n",
       "    </tr>\n",
       "    <tr>\n",
       "      <th>39770</th>\n",
       "      <td>11462</td>\n",
       "      <td>italian</td>\n",
       "      <td>[KRAFT Zesty Italian Dressing, purple onion, b...</td>\n",
       "    </tr>\n",
       "    <tr>\n",
       "      <th>39771</th>\n",
       "      <td>2238</td>\n",
       "      <td>irish</td>\n",
       "      <td>[eggs, citrus fruit, raisins, sourdough starte...</td>\n",
       "    </tr>\n",
       "    <tr>\n",
       "      <th>39772</th>\n",
       "      <td>41882</td>\n",
       "      <td>chinese</td>\n",
       "      <td>[boneless chicken skinless thigh, minced garli...</td>\n",
       "    </tr>\n",
       "    <tr>\n",
       "      <th>39773</th>\n",
       "      <td>2362</td>\n",
       "      <td>mexican</td>\n",
       "      <td>[green chile, jalapeno chilies, onions, ground...</td>\n",
       "    </tr>\n",
       "  </tbody>\n",
       "</table>\n",
       "<p>39774 rows × 3 columns</p>\n",
       "</div>"
      ],
      "text/plain": [
       "          id      cuisine                                        ingredients\n",
       "0      10259        greek  [romaine lettuce, black olives, grape tomatoes...\n",
       "1      25693  southern_us  [plain flour, ground pepper, salt, tomatoes, g...\n",
       "2      20130     filipino  [eggs, pepper, salt, mayonaise, cooking oil, g...\n",
       "3      22213       indian                [water, vegetable oil, wheat, salt]\n",
       "4      13162       indian  [black pepper, shallots, cornflour, cayenne pe...\n",
       "...      ...          ...                                                ...\n",
       "39769  29109        irish  [light brown sugar, granulated sugar, butter, ...\n",
       "39770  11462      italian  [KRAFT Zesty Italian Dressing, purple onion, b...\n",
       "39771   2238        irish  [eggs, citrus fruit, raisins, sourdough starte...\n",
       "39772  41882      chinese  [boneless chicken skinless thigh, minced garli...\n",
       "39773   2362      mexican  [green chile, jalapeno chilies, onions, ground...\n",
       "\n",
       "[39774 rows x 3 columns]"
      ]
     },
     "execution_count": 9,
     "metadata": {},
     "output_type": "execute_result"
    }
   ],
   "source": [
    "train"
   ]
  },
  {
   "cell_type": "code",
   "execution_count": 10,
   "id": "ad9cd9a8",
   "metadata": {
    "execution": {
     "iopub.execute_input": "2024-02-17T01:44:16.300600Z",
     "iopub.status.busy": "2024-02-17T01:44:16.299425Z",
     "iopub.status.idle": "2024-02-17T01:44:16.330749Z",
     "shell.execute_reply": "2024-02-17T01:44:16.329145Z"
    },
    "papermill": {
     "duration": 0.056929,
     "end_time": "2024-02-17T01:44:16.334620",
     "exception": false,
     "start_time": "2024-02-17T01:44:16.277691",
     "status": "completed"
    },
    "tags": []
   },
   "outputs": [
    {
     "data": {
      "text/html": [
       "<div>\n",
       "<style scoped>\n",
       "    .dataframe tbody tr th:only-of-type {\n",
       "        vertical-align: middle;\n",
       "    }\n",
       "\n",
       "    .dataframe tbody tr th {\n",
       "        vertical-align: top;\n",
       "    }\n",
       "\n",
       "    .dataframe thead th {\n",
       "        text-align: right;\n",
       "    }\n",
       "</style>\n",
       "<table border=\"1\" class=\"dataframe\">\n",
       "  <thead>\n",
       "    <tr style=\"text-align: right;\">\n",
       "      <th></th>\n",
       "      <th>id</th>\n",
       "      <th>ingredients</th>\n",
       "    </tr>\n",
       "  </thead>\n",
       "  <tbody>\n",
       "    <tr>\n",
       "      <th>0</th>\n",
       "      <td>18009</td>\n",
       "      <td>[baking powder, eggs, all-purpose flour, raisi...</td>\n",
       "    </tr>\n",
       "    <tr>\n",
       "      <th>1</th>\n",
       "      <td>28583</td>\n",
       "      <td>[sugar, egg yolks, corn starch, cream of tarta...</td>\n",
       "    </tr>\n",
       "    <tr>\n",
       "      <th>2</th>\n",
       "      <td>41580</td>\n",
       "      <td>[sausage links, fennel bulb, fronds, olive oil...</td>\n",
       "    </tr>\n",
       "    <tr>\n",
       "      <th>3</th>\n",
       "      <td>29752</td>\n",
       "      <td>[meat cuts, file powder, smoked sausage, okra,...</td>\n",
       "    </tr>\n",
       "    <tr>\n",
       "      <th>4</th>\n",
       "      <td>35687</td>\n",
       "      <td>[ground black pepper, salt, sausage casings, l...</td>\n",
       "    </tr>\n",
       "    <tr>\n",
       "      <th>...</th>\n",
       "      <td>...</td>\n",
       "      <td>...</td>\n",
       "    </tr>\n",
       "    <tr>\n",
       "      <th>9939</th>\n",
       "      <td>30246</td>\n",
       "      <td>[large egg yolks, fresh lemon juice, sugar, bo...</td>\n",
       "    </tr>\n",
       "    <tr>\n",
       "      <th>9940</th>\n",
       "      <td>36028</td>\n",
       "      <td>[hot sauce, butter, sweet potatoes, adobo sauc...</td>\n",
       "    </tr>\n",
       "    <tr>\n",
       "      <th>9941</th>\n",
       "      <td>22339</td>\n",
       "      <td>[black pepper, salt, parmigiano reggiano chees...</td>\n",
       "    </tr>\n",
       "    <tr>\n",
       "      <th>9942</th>\n",
       "      <td>42525</td>\n",
       "      <td>[cheddar cheese, cayenne, paprika, plum tomato...</td>\n",
       "    </tr>\n",
       "    <tr>\n",
       "      <th>9943</th>\n",
       "      <td>1443</td>\n",
       "      <td>[cold water, olive oil, lime wedges, garlic cl...</td>\n",
       "    </tr>\n",
       "  </tbody>\n",
       "</table>\n",
       "<p>9944 rows × 2 columns</p>\n",
       "</div>"
      ],
      "text/plain": [
       "         id                                        ingredients\n",
       "0     18009  [baking powder, eggs, all-purpose flour, raisi...\n",
       "1     28583  [sugar, egg yolks, corn starch, cream of tarta...\n",
       "2     41580  [sausage links, fennel bulb, fronds, olive oil...\n",
       "3     29752  [meat cuts, file powder, smoked sausage, okra,...\n",
       "4     35687  [ground black pepper, salt, sausage casings, l...\n",
       "...     ...                                                ...\n",
       "9939  30246  [large egg yolks, fresh lemon juice, sugar, bo...\n",
       "9940  36028  [hot sauce, butter, sweet potatoes, adobo sauc...\n",
       "9941  22339  [black pepper, salt, parmigiano reggiano chees...\n",
       "9942  42525  [cheddar cheese, cayenne, paprika, plum tomato...\n",
       "9943   1443  [cold water, olive oil, lime wedges, garlic cl...\n",
       "\n",
       "[9944 rows x 2 columns]"
      ]
     },
     "execution_count": 10,
     "metadata": {},
     "output_type": "execute_result"
    }
   ],
   "source": [
    "test"
   ]
  },
  {
   "cell_type": "code",
   "execution_count": 11,
   "id": "f7e85c8a",
   "metadata": {
    "execution": {
     "iopub.execute_input": "2024-02-17T01:44:16.403596Z",
     "iopub.status.busy": "2024-02-17T01:44:16.403034Z",
     "iopub.status.idle": "2024-02-17T01:44:16.416083Z",
     "shell.execute_reply": "2024-02-17T01:44:16.414782Z"
    },
    "papermill": {
     "duration": 0.049855,
     "end_time": "2024-02-17T01:44:16.419854",
     "exception": false,
     "start_time": "2024-02-17T01:44:16.369999",
     "status": "completed"
    },
    "tags": []
   },
   "outputs": [
    {
     "data": {
      "text/plain": [
       "((39774, 3), (9944, 2))"
      ]
     },
     "execution_count": 11,
     "metadata": {},
     "output_type": "execute_result"
    }
   ],
   "source": [
    "train.shape,  test.shape #look at data shape"
   ]
  },
  {
   "cell_type": "code",
   "execution_count": 12,
   "id": "5d3502f2",
   "metadata": {
    "execution": {
     "iopub.execute_input": "2024-02-17T01:44:16.475147Z",
     "iopub.status.busy": "2024-02-17T01:44:16.474598Z",
     "iopub.status.idle": "2024-02-17T01:44:16.512053Z",
     "shell.execute_reply": "2024-02-17T01:44:16.510411Z"
    },
    "papermill": {
     "duration": 0.065638,
     "end_time": "2024-02-17T01:44:16.516138",
     "exception": false,
     "start_time": "2024-02-17T01:44:16.450500",
     "status": "completed"
    },
    "tags": []
   },
   "outputs": [
    {
     "data": {
      "text/plain": [
       "id             0\n",
       "cuisine        0\n",
       "ingredients    0\n",
       "dtype: int64"
      ]
     },
     "execution_count": 12,
     "metadata": {},
     "output_type": "execute_result"
    }
   ],
   "source": [
    "train.isnull().sum()#check for missing value"
   ]
  },
  {
   "cell_type": "markdown",
   "id": "0ce014c2",
   "metadata": {},
   "source": [
    "# Visualization"
   ]
  },
  {
   "cell_type": "code",
   "execution_count": 13,
   "id": "02cc7157",
   "metadata": {
    "execution": {
     "iopub.execute_input": "2024-02-17T01:44:16.569007Z",
     "iopub.status.busy": "2024-02-17T01:44:16.568209Z",
     "iopub.status.idle": "2024-02-17T01:44:17.361986Z",
     "shell.execute_reply": "2024-02-17T01:44:17.360123Z"
    },
    "papermill": {
     "duration": 0.82589,
     "end_time": "2024-02-17T01:44:17.367378",
     "exception": false,
     "start_time": "2024-02-17T01:44:16.541488",
     "status": "completed"
    },
    "tags": []
   },
   "outputs": [
    {
     "data": {
      "image/png": "[encoded data removed]",
      "text/plain": [
       "<Figure size 1500x400 with 1 Axes>"
      ]
     },
     "metadata": {},
     "output_type": "display_data"
    }
   ],
   "source": [
    "# Target Variables (Cuisines) \n",
    "plt.figure(figsize=(15,4))\n",
    "plt.xticks(rotation=45)\n",
    "ax= sns.countplot(x='cuisine', data= train, order = train.cuisine.value_counts().index )"
   ]
  },
  {
   "cell_type": "markdown",
   "id": "5d565609",
   "metadata": {},
   "source": [
    "We can see Italian cusine is the most popular among other cuisines "
   ]
  },
  {
   "cell_type": "code",
   "execution_count": 15,
   "id": "0e106f6f",
   "metadata": {
    "execution": {
     "iopub.execute_input": "2024-02-17T01:44:17.551571Z",
     "iopub.status.busy": "2024-02-17T01:44:17.550046Z",
     "iopub.status.idle": "2024-02-17T01:44:18.347989Z",
     "shell.execute_reply": "2024-02-17T01:44:18.346622Z"
    },
    "papermill": {
     "duration": 0.833212,
     "end_time": "2024-02-17T01:44:18.352621",
     "exception": false,
     "start_time": "2024-02-17T01:44:17.519409",
     "status": "completed"
    },
    "tags": []
   },
   "outputs": [
    {
     "name": "stderr",
     "output_type": "stream",
     "text": [
      "/tmp/ipykernel_18/393779676.py:1: FutureWarning: \n",
      "\n",
      "`shade` is now deprecated in favor of `fill`; setting `fill=True`.\n",
      "This will become an error in seaborn v0.14.0; please update your code.\n",
      "\n",
      "  sns.kdeplot(data=train['number of ingredients'], shade=True)\n",
      "/opt/conda/lib/python3.10/site-packages/seaborn/_oldcore.py:1119: FutureWarning: use_inf_as_na option is deprecated and will be removed in a future version. Convert inf values to NaN before operating instead.\n",
      "  with pd.option_context('mode.use_inf_as_na', True):\n"
     ]
    },
    {
     "data": {
      "text/plain": [
       "Text(0.5, 1.0, 'Distibution plot for number of ingredients')"
      ]
     },
     "execution_count": 15,
     "metadata": {},
     "output_type": "execute_result"
    },
    {
     "data": {
      "image/png": "[encoded data removed]",
      "text/plain": [
       "<Figure size 640x480 with 1 Axes>"
      ]
     },
     "metadata": {},
     "output_type": "display_data"
    }
   ],
   "source": [
    "train['number of ingredients'] = train['ingredients'].str.len() #number of ingredients needed for different cuisine\n",
    "sns.kdeplot(data=train['number of ingredients'], shade=True)\n",
    "plt.title('Distibution plot for number of ingredients')"
   ]
  },
  {
   "cell_type": "code",
   "execution_count": 16,
   "id": "7e6377bb",
   "metadata": {
    "execution": {
     "iopub.execute_input": "2024-02-17T01:44:18.417933Z",
     "iopub.status.busy": "2024-02-17T01:44:18.417140Z",
     "iopub.status.idle": "2024-02-17T01:44:19.221849Z",
     "shell.execute_reply": "2024-02-17T01:44:19.220489Z"
    },
    "papermill": {
     "duration": 0.842981,
     "end_time": "2024-02-17T01:44:19.224588",
     "exception": false,
     "start_time": "2024-02-17T01:44:18.381607",
     "status": "completed"
    },
    "tags": []
   },
   "outputs": [
    {
     "data": {
      "text/plain": [
       "<Axes: xlabel='number of ingredients', ylabel='count'>"
      ]
     },
     "execution_count": 16,
     "metadata": {},
     "output_type": "execute_result"
    },
    {
     "data": {
      "image/png": "[encoded data removed]",
      "text/plain": [
       "<Figure size 1200x400 with 1 Axes>"
      ]
     },
     "metadata": {},
     "output_type": "display_data"
    }
   ],
   "source": [
    "plt.figure(figsize=(12,4))\n",
    "sns.countplot(data=train, x='number of ingredients')"
   ]
  },
  {
   "cell_type": "markdown",
   "id": "9138c7d5",
   "metadata": {},
   "source": [
    "We can see that most cuisines used avaragely 9 ingredients "
   ]
  },
  {
   "cell_type": "code",
   "execution_count": 17,
   "id": "20a655fa",
   "metadata": {
    "execution": {
     "iopub.execute_input": "2024-02-17T01:44:19.275236Z",
     "iopub.status.busy": "2024-02-17T01:44:19.273743Z",
     "iopub.status.idle": "2024-02-17T01:44:19.311922Z",
     "shell.execute_reply": "2024-02-17T01:44:19.310416Z"
    },
    "papermill": {
     "duration": 0.06704,
     "end_time": "2024-02-17T01:44:19.315813",
     "exception": false,
     "start_time": "2024-02-17T01:44:19.248773",
     "status": "completed"
    },
    "tags": []
   },
   "outputs": [],
   "source": [
    "#Most common ingredients\n",
    "ingredients_list = [ing for ingredient in train['ingredients'] for ing in ingredient]"
   ]
  },
  {
   "cell_type": "code",
   "execution_count": 18,
   "id": "783d2e72",
   "metadata": {
    "execution": {
     "iopub.execute_input": "2024-02-17T01:44:19.364396Z",
     "iopub.status.busy": "2024-02-17T01:44:19.362673Z",
     "iopub.status.idle": "2024-02-17T01:44:19.539136Z",
     "shell.execute_reply": "2024-02-17T01:44:19.538184Z"
    },
    "papermill": {
     "duration": 0.204605,
     "end_time": "2024-02-17T01:44:19.542399",
     "exception": false,
     "start_time": "2024-02-17T01:44:19.337794",
     "status": "completed"
    },
    "tags": []
   },
   "outputs": [],
   "source": [
    "from collections import Counter\n",
    "ingredients_count = pd.Series(dict(Counter(','.join(ingredients_list).split(',')))).sort_values(ascending=False)"
   ]
  },
  {
   "cell_type": "code",
   "execution_count": 19,
   "id": "45695bbb",
   "metadata": {
    "execution": {
     "iopub.execute_input": "2024-02-17T01:44:19.593765Z",
     "iopub.status.busy": "2024-02-17T01:44:19.593317Z",
     "iopub.status.idle": "2024-02-17T01:44:19.602816Z",
     "shell.execute_reply": "2024-02-17T01:44:19.601960Z"
    },
    "papermill": {
     "duration": 0.041552,
     "end_time": "2024-02-17T01:44:19.606945",
     "exception": false,
     "start_time": "2024-02-17T01:44:19.565393",
     "status": "completed"
    },
    "tags": []
   },
   "outputs": [
    {
     "data": {
      "text/plain": [
       "salt                                  18049\n",
       "olive oil                              7972\n",
       "onions                                 7972\n",
       "water                                  7457\n",
       "garlic                                 7380\n",
       "                                      ...  \n",
       "osetra caviar                             1\n",
       "loose leaf black tea                      1\n",
       "pepperidge farm puff pastry sheets        1\n",
       "dark crème de cacao                       1\n",
       "crushed cheese crackers                   1\n",
       "Length: 6725, dtype: int64"
      ]
     },
     "execution_count": 19,
     "metadata": {},
     "output_type": "execute_result"
    }
   ],
   "source": [
    "ingredients_count# ingredient that used most in the dataset"
   ]
  },
  {
   "cell_type": "markdown",
   "id": "79de3fc9",
   "metadata": {},
   "source": [
    "We can see that salt is an ingredients that used most in this dataset"
   ]
  },
  {
   "cell_type": "code",
   "execution_count": 20,
   "id": "1b41cdf6",
   "metadata": {
    "execution": {
     "iopub.execute_input": "2024-02-17T01:44:19.703689Z",
     "iopub.status.busy": "2024-02-17T01:44:19.702921Z",
     "iopub.status.idle": "2024-02-17T01:44:20.084049Z",
     "shell.execute_reply": "2024-02-17T01:44:20.082634Z"
    },
    "papermill": {
     "duration": 0.409518,
     "end_time": "2024-02-17T01:44:20.087498",
     "exception": false,
     "start_time": "2024-02-17T01:44:19.677980",
     "status": "completed"
    },
    "tags": []
   },
   "outputs": [
    {
     "data": {
      "image/png": "[encoded data removed]",
      "text/plain": [
       "<Figure size 1300x400 with 1 Axes>"
      ]
     },
     "metadata": {},
     "output_type": "display_data"
    }
   ],
   "source": [
    "plt.figure(figsize=(13,4))\n",
    "plt.xticks(rotation=60)\n",
    "sns.barplot(x = ingredients_count.head(10).index, y=ingredients_count.head(10))\n",
    "plt.title('10 common ingredients', fontsize=15, fontweight='bold')\n",
    "plt.xlabel('ingredients')\n",
    "plt.show()\n"
   ]
  },
  {
   "cell_type": "markdown",
   "id": "103d58ed",
   "metadata": {
    "papermill": {
     "duration": 0.023083,
     "end_time": "2024-02-17T01:44:20.133329",
     "exception": false,
     "start_time": "2024-02-17T01:44:20.110246",
     "status": "completed"
    },
    "tags": []
   },
   "source": [
    "# Preprocessing"
   ]
  },
  {
   "cell_type": "code",
   "execution_count": 21,
   "id": "dd152a46",
   "metadata": {
    "execution": {
     "iopub.execute_input": "2024-02-17T01:44:20.285296Z",
     "iopub.status.busy": "2024-02-17T01:44:20.284499Z",
     "iopub.status.idle": "2024-02-17T01:44:23.422293Z",
     "shell.execute_reply": "2024-02-17T01:44:23.421157Z"
    },
    "papermill": {
     "duration": 3.269054,
     "end_time": "2024-02-17T01:44:23.425036",
     "exception": false,
     "start_time": "2024-02-17T01:44:20.155982",
     "status": "completed"
    },
    "tags": []
   },
   "outputs": [],
   "source": [
    "import re\n",
    "from num2words import num2words\n",
    "from string import punctuation\n",
    "from nltk.stem import WordNetLemmatizer\n",
    "from nltk.corpus import wordnet\n",
    "from nltk.tokenize import word_tokenize\n",
    "\n",
    "lemmatizer = WordNetLemmatizer()\n",
    "stop_words = set(nltk.corpus.stopwords.words('english'))\n",
    "wordnet_map = {\"N\":wordnet.NOUN, \"V\":wordnet.VERB, \"J\":wordnet.ADJ,\"R\":wordnet.ADV}"
   ]
  },
  {
   "cell_type": "code",
   "execution_count": 22,
   "id": "dd0e131d",
   "metadata": {
    "execution": {
     "iopub.execute_input": "2024-02-17T01:44:23.487276Z",
     "iopub.status.busy": "2024-02-17T01:44:23.486502Z",
     "iopub.status.idle": "2024-02-17T01:44:23.503033Z",
     "shell.execute_reply": "2024-02-17T01:44:23.500476Z"
    },
    "papermill": {
     "duration": 0.050003,
     "end_time": "2024-02-17T01:44:23.506413",
     "exception": false,
     "start_time": "2024-02-17T01:44:23.456410",
     "status": "completed"
    },
    "tags": []
   },
   "outputs": [],
   "source": [
    "def clean_html(text):\n",
    "  CLEANR = re.compile('<.*?>') \n",
    "  text = re.sub(CLEANR, '', text)\n",
    "  return text\n",
    "\n",
    "#join ingredients into a string\n",
    "def join_string(text):\n",
    "    return ' '.join(text)#join ingredients into a string\n",
    "\n",
    "#remove punctuations in a string\n",
    "def strip_punctuation(text):\n",
    "    return ''.join(c for c in text if c not in punctuation)+' ' \n",
    "\n",
    " #remove stop words\n",
    "def remove_stopwords(text):\n",
    "    return [word for word in word_tokenize(text) if not word in stop_words]\n",
    "\n",
    "\n",
    "#lemmatize words\n",
    "def lemmatize_words(text):\n",
    "    pos_tagged_text = nltk.pos_tag(text.split())\n",
    "    return ' '.join([lemmatizer.lemmatize(word,wordnet_map.get(pos[0], wordnet.NOUN)) for word, pos in pos_tagged_text])\n"
   ]
  },
  {
   "cell_type": "code",
   "execution_count": 23,
   "id": "a3d1a234",
   "metadata": {
    "execution": {
     "iopub.execute_input": "2024-02-17T01:44:23.564806Z",
     "iopub.status.busy": "2024-02-17T01:44:23.564010Z",
     "iopub.status.idle": "2024-02-17T01:44:23.570372Z",
     "shell.execute_reply": "2024-02-17T01:44:23.569060Z"
    },
    "papermill": {
     "duration": 0.038139,
     "end_time": "2024-02-17T01:44:23.574427",
     "exception": false,
     "start_time": "2024-02-17T01:44:23.536288",
     "status": "completed"
    },
    "tags": []
   },
   "outputs": [],
   "source": [
    "#train['processed'] = train['ingredients'].apply(join_string)\n",
    "#train['processed'] = train['processed'].astype('str').apply(to_number)\n",
    "#train['processed'] = train['processed'].str.lower()\n",
    "#train['processed'] = train['processed'].astype('str').apply(clean_html)\n",
    "#train['processed'] = train['processed'].astype('str').apply(remove_stopwords)\n",
    "#train['processed'] = train['processed'].astype('str').apply(strip_punctuation)\n",
    "#train['processed'] = train['processed'].astype('str').apply(lemmatize_words)\n",
    "\n",
    "#test['processed'] = test['ingredients'].apply(join_string)\n",
    "#test['processed'] = test['processed'].astype('str').apply(to_number)\n",
    "#test['processed'] = test['processed'].str.lower()\n",
    "#test['processed'] = test['processed'].astype('str').apply(clean_html)\n",
    "#test['processed'] = test['processed'].astype('str').apply(remove_stopwords)\n",
    "#test['processed'] = test['processed'].astype('str').apply(strip_punctuation)\n",
    "#test['processed'] = test['processed'].astype('str').apply(lemmatize_words)"
   ]
  },
  {
   "cell_type": "markdown",
   "id": "6862b3ac",
   "metadata": {},
   "source": [
    "I choose to remove numbers instead of changing numbers to words"
   ]
  },
  {
   "cell_type": "code",
   "execution_count": 24,
   "id": "56e8078d",
   "metadata": {
    "execution": {
     "iopub.execute_input": "2024-02-17T01:44:23.624089Z",
     "iopub.status.busy": "2024-02-17T01:44:23.623199Z",
     "iopub.status.idle": "2024-02-17T01:46:50.309378Z",
     "shell.execute_reply": "2024-02-17T01:46:50.307677Z"
    },
    "papermill": {
     "duration": 146.715665,
     "end_time": "2024-02-17T01:46:50.313359",
     "exception": false,
     "start_time": "2024-02-17T01:44:23.597694",
     "status": "completed"
    },
    "tags": []
   },
   "outputs": [],
   "source": [
    "train['processed'] = train['ingredients'].apply(join_string)\n",
    "train['processed'] = train['processed'].str.replace('\\d+', '')\n",
    "train['processed'] = train['processed'].str.lower()\n",
    "train['processed'] = train['processed'].astype('str').apply(clean_html)\n",
    "train['processed'] = train['processed'].astype('str').apply(remove_stopwords)\n",
    "train['processed'] = train['processed'].astype('str').apply(strip_punctuation)\n",
    "train['processed'] = train['processed'].astype('str').apply(lemmatize_words)\n",
    "\n",
    "test['processed'] = test['ingredients'].apply(join_string)\n",
    "test['processed'] = test['processed'].str.replace('\\d+', '')\n",
    "test['processed'] = test['processed'].str.lower()\n",
    "test['processed'] = test['processed'].astype('str').apply(clean_html)\n",
    "test['processed'] = test['processed'].astype('str').apply(remove_stopwords)\n",
    "test['processed'] = test['processed'].astype('str').apply(strip_punctuation)\n",
    "test['processed'] = test['processed'].astype('str').apply(lemmatize_words)"
   ]
  },
  {
   "cell_type": "code",
   "execution_count": 25,
   "id": "327bf9db",
   "metadata": {
    "execution": {
     "iopub.execute_input": "2024-02-17T01:46:50.363382Z",
     "iopub.status.busy": "2024-02-17T01:46:50.362229Z",
     "iopub.status.idle": "2024-02-17T01:46:50.374860Z",
     "shell.execute_reply": "2024-02-17T01:46:50.372970Z"
    },
    "papermill": {
     "duration": 0.040443,
     "end_time": "2024-02-17T01:46:50.377673",
     "exception": false,
     "start_time": "2024-02-17T01:46:50.337230",
     "status": "completed"
    },
    "tags": []
   },
   "outputs": [
    {
     "data": {
      "text/plain": [
       "0        romaine lettuce black olives grape tomato garl...\n",
       "1        plain flour ground pepper salt tomato grind bl...\n",
       "2        egg pepper salt mayonaise cooking oil green ch...\n",
       "3                           water vegetable oil wheat salt\n",
       "4        black pepper shallot cornflour cayenne pepper ...\n",
       "                               ...                        \n",
       "39769    light brown sugar granulate sugar butter warm ...\n",
       "39770    kraft zesty italian dress purple onion broccol...\n",
       "39771    egg citrus fruit raisin sourdough starter flou...\n",
       "39772    boneless chicken skinless thigh mince garlic s...\n",
       "39773    green chile jalapeno chilies onions ground bla...\n",
       "Name: processed, Length: 39774, dtype: object"
      ]
     },
     "execution_count": 25,
     "metadata": {},
     "output_type": "execute_result"
    }
   ],
   "source": [
    "train['processed']"
   ]
  },
  {
   "cell_type": "markdown",
   "id": "bbae2b6e",
   "metadata": {},
   "source": [
    "# Train Test Split"
   ]
  },
  {
   "cell_type": "code",
   "execution_count": 27,
   "id": "3abb6533",
   "metadata": {
    "execution": {
     "iopub.execute_input": "2024-02-17T01:46:50.528093Z",
     "iopub.status.busy": "2024-02-17T01:46:50.527597Z",
     "iopub.status.idle": "2024-02-17T01:46:50.545407Z",
     "shell.execute_reply": "2024-02-17T01:46:50.543662Z"
    },
    "papermill": {
     "duration": 0.045841,
     "end_time": "2024-02-17T01:46:50.548663",
     "exception": false,
     "start_time": "2024-02-17T01:46:50.502822",
     "status": "completed"
    },
    "tags": []
   },
   "outputs": [],
   "source": [
    "from sklearn.model_selection import train_test_split\n",
    "X_train, X_val, y_train,y_val = train_test_split(train['processed'], train['cuisine'], test_size=0.2, random_state = 88)"
   ]
  },
  {
   "cell_type": "markdown",
   "id": "88339c8d",
   "metadata": {
    "papermill": {
     "duration": 0.022308,
     "end_time": "2024-02-17T01:46:50.422584",
     "exception": false,
     "start_time": "2024-02-17T01:46:50.400276",
     "status": "completed"
    },
    "tags": []
   },
   "source": [
    "# Feature Extraction"
   ]
  },
  {
   "cell_type": "code",
   "execution_count": 28,
   "id": "a8baf43c",
   "metadata": {
    "execution": {
     "iopub.execute_input": "2024-02-17T01:46:50.597880Z",
     "iopub.status.busy": "2024-02-17T01:46:50.596361Z",
     "iopub.status.idle": "2024-02-17T01:46:53.175558Z",
     "shell.execute_reply": "2024-02-17T01:46:53.173887Z"
    },
    "papermill": {
     "duration": 2.607326,
     "end_time": "2024-02-17T01:46:53.178666",
     "exception": false,
     "start_time": "2024-02-17T01:46:50.571340",
     "status": "completed"
    },
    "tags": []
   },
   "outputs": [],
   "source": [
    "from sklearn.feature_extraction.text import TfidfVectorizer\n",
    "vectorizer = TfidfVectorizer(sublinear_tf=True) \n",
    "# sublinear_tf scaling addresses the problem that 20 occurrences of a word is probably not 20 times more important than 1 occurrence\n",
    "X_train = vectorizer.fit_transform(X_train)\n",
    "X_val = vectorizer.transform(X_val)\n"
   ]
  },
  {
   "cell_type": "code",
   "execution_count": 30,
   "id": "8f9822ad",
   "metadata": {
    "execution": {
     "iopub.execute_input": "2024-02-17T01:46:55.326870Z",
     "iopub.status.busy": "2024-02-17T01:46:55.325317Z",
     "iopub.status.idle": "2024-02-17T01:46:55.357442Z",
     "shell.execute_reply": "2024-02-17T01:46:55.356025Z"
    },
    "papermill": {
     "duration": 0.059174,
     "end_time": "2024-02-17T01:46:55.360688",
     "exception": false,
     "start_time": "2024-02-17T01:46:55.301514",
     "status": "completed"
    },
    "tags": []
   },
   "outputs": [],
   "source": [
    "#Label Encode the target variable\n",
    "from sklearn.preprocessing import LabelEncoder\n",
    "label_encoder = LabelEncoder()\n",
    "y_train = label_encoder.fit_transform(y_train)"
   ]
  },
  {
   "cell_type": "markdown",
   "id": "cafd60af",
   "metadata": {},
   "source": [
    "# Models "
   ]
  },
  {
   "cell_type": "code",
   "execution_count": 31,
   "id": "233c9ed7",
   "metadata": {
    "execution": {
     "iopub.execute_input": "2024-02-17T01:46:55.411080Z",
     "iopub.status.busy": "2024-02-17T01:46:55.410692Z",
     "iopub.status.idle": "2024-02-17T01:53:12.189828Z",
     "shell.execute_reply": "2024-02-17T01:53:12.188406Z"
    },
    "papermill": {
     "duration": 376.809112,
     "end_time": "2024-02-17T01:53:12.194249",
     "exception": false,
     "start_time": "2024-02-17T01:46:55.385137",
     "status": "completed"
    },
    "tags": []
   },
   "outputs": [
    {
     "name": "stdout",
     "output_type": "stream",
     "text": [
      "BernoulliNB(alpha=0.1)\n",
      "              precision    recall  f1-score   support\n",
      "\n",
      "   brazilian       0.52      0.40      0.45       103\n",
      "     british       0.55      0.27      0.36       319\n",
      "cajun_creole       0.72      0.58      0.64       379\n",
      "     chinese       0.78      0.81      0.79       487\n",
      "    filipino       0.62      0.52      0.57       185\n",
      "      french       0.46      0.55      0.50       465\n",
      "       greek       0.72      0.63      0.67       261\n",
      "      indian       0.84      0.87      0.86       577\n",
      "       irish       0.52      0.49      0.50       137\n",
      "     italian       0.76      0.86      0.81      1405\n",
      "    jamaican       0.66      0.77      0.71        97\n",
      "    japanese       0.65      0.74      0.69       245\n",
      "      korean       0.73      0.80      0.76       163\n",
      "     mexican       0.86      0.93      0.89      1187\n",
      "    moroccan       0.75      0.69      0.72       174\n",
      "     russian       0.43      0.35      0.38       110\n",
      " southern_us       0.66      0.60      0.63       947\n",
      "     spanish       0.53      0.38      0.45       262\n",
      "        thai       0.72      0.77      0.74       296\n",
      "  vietnamese       0.58      0.64      0.61       156\n",
      "\n",
      "    accuracy                           0.71      7955\n",
      "   macro avg       0.65      0.63      0.64      7955\n",
      "weighted avg       0.71      0.71      0.71      7955\n",
      "\n",
      "LogisticRegression(C=1, max_iter=500, random_state=42)\n",
      "              precision    recall  f1-score   support\n",
      "\n",
      "   brazilian       0.48      0.68      0.56        56\n",
      "     british       0.35      0.60      0.44        92\n",
      "cajun_creole       0.69      0.76      0.72       272\n",
      "     chinese       0.85      0.77      0.81       559\n",
      "    filipino       0.60      0.70      0.65       134\n",
      "      french       0.63      0.57      0.60       605\n",
      "       greek       0.69      0.84      0.75       187\n",
      "      indian       0.92      0.86      0.89       635\n",
      "       irish       0.46      0.69      0.55        87\n",
      "     italian       0.90      0.81      0.86      1779\n",
      "    jamaican       0.69      0.95      0.80        83\n",
      "    japanese       0.67      0.85      0.75       220\n",
      "      korean       0.70      0.83      0.76       151\n",
      "     mexican       0.93      0.90      0.91      1314\n",
      "    moroccan       0.69      0.86      0.77       128\n",
      "     russian       0.38      0.63      0.48        54\n",
      " southern_us       0.80      0.67      0.73      1020\n",
      "     spanish       0.45      0.68      0.54       124\n",
      "        thai       0.81      0.79      0.80       326\n",
      "  vietnamese       0.55      0.74      0.63       129\n",
      "\n",
      "    accuracy                           0.78      7955\n",
      "   macro avg       0.66      0.76      0.70      7955\n",
      "weighted avg       0.80      0.78      0.79      7955\n",
      "\n",
      "LinearSVC(C=1, max_iter=100, random_state=42)\n",
      "              precision    recall  f1-score   support\n",
      "\n",
      "   brazilian       0.54      0.63      0.59        68\n",
      "     british       0.42      0.56      0.48       119\n",
      "cajun_creole       0.72      0.77      0.74       285\n",
      "     chinese       0.84      0.77      0.80       552\n",
      "    filipino       0.65      0.71      0.68       143\n",
      "      french       0.62      0.60      0.61       579\n",
      "       greek       0.72      0.76      0.74       216\n",
      "      indian       0.92      0.85      0.88       646\n",
      "       irish       0.43      0.60      0.50        93\n",
      "     italian       0.89      0.83      0.86      1702\n",
      "    jamaican       0.77      0.90      0.83        98\n",
      "    japanese       0.68      0.87      0.76       218\n",
      "      korean       0.73      0.78      0.75       169\n",
      "     mexican       0.93      0.91      0.92      1306\n",
      "    moroccan       0.77      0.83      0.80       147\n",
      "     russian       0.43      0.58      0.49        65\n",
      " southern_us       0.78      0.71      0.74       946\n",
      "     spanish       0.50      0.68      0.58       136\n",
      "        thai       0.81      0.78      0.80       329\n",
      "  vietnamese       0.55      0.69      0.61       138\n",
      "\n",
      "    accuracy                           0.79      7955\n",
      "   macro avg       0.69      0.74      0.71      7955\n",
      "weighted avg       0.80      0.79      0.79      7955\n",
      "\n",
      "SGDClassifier(max_iter=500, random_state=42)\n",
      "              precision    recall  f1-score   support\n",
      "\n",
      "   brazilian       0.41      0.68      0.51        47\n",
      "     british       0.27      0.64      0.38        67\n",
      "cajun_creole       0.72      0.76      0.74       289\n",
      "     chinese       0.86      0.76      0.81       578\n",
      "    filipino       0.56      0.73      0.64       121\n",
      "      french       0.56      0.62      0.59       505\n",
      "       greek       0.70      0.78      0.74       205\n",
      "      indian       0.92      0.84      0.88       656\n",
      "       irish       0.32      0.70      0.44        60\n",
      "     italian       0.92      0.80      0.86      1829\n",
      "    jamaican       0.73      0.83      0.78       100\n",
      "    japanese       0.67      0.83      0.74       228\n",
      "      korean       0.73      0.82      0.78       159\n",
      "     mexican       0.93      0.89      0.91      1341\n",
      "    moroccan       0.71      0.84      0.77       135\n",
      "     russian       0.43      0.51      0.47        74\n",
      " southern_us       0.79      0.68      0.73      1000\n",
      "     spanish       0.40      0.73      0.51       102\n",
      "        thai       0.81      0.74      0.77       352\n",
      "  vietnamese       0.46      0.75      0.57       107\n",
      "\n",
      "    accuracy                           0.78      7955\n",
      "   macro avg       0.65      0.75      0.68      7955\n",
      "weighted avg       0.81      0.78      0.79      7955\n",
      "\n",
      "RandomForestClassifier(n_estimators=50, random_state=42)\n",
      "              precision    recall  f1-score   support\n",
      "\n",
      "   brazilian       0.48      0.78      0.59        49\n",
      "     british       0.24      0.69      0.36        55\n",
      "cajun_creole       0.68      0.75      0.71       272\n",
      "     chinese       0.86      0.70      0.77       624\n",
      "    filipino       0.45      0.81      0.58        86\n",
      "      french       0.52      0.55      0.53       518\n",
      "       greek       0.55      0.84      0.67       152\n",
      "      indian       0.91      0.81      0.86       672\n",
      "       irish       0.35      0.82      0.49        55\n",
      "     italian       0.91      0.71      0.80      2054\n",
      "    jamaican       0.49      0.93      0.64        60\n",
      "    japanese       0.63      0.81      0.71       219\n",
      "      korean       0.57      0.86      0.68       119\n",
      "     mexican       0.94      0.84      0.88      1428\n",
      "    moroccan       0.59      0.88      0.71       107\n",
      "     russian       0.24      0.72      0.36        29\n",
      " southern_us       0.76      0.66      0.71       985\n",
      "     spanish       0.29      0.80      0.43        69\n",
      "        thai       0.74      0.75      0.75       313\n",
      "  vietnamese       0.44      0.85      0.58        89\n",
      "\n",
      "    accuracy                           0.74      7955\n",
      "   macro avg       0.58      0.78      0.64      7955\n",
      "weighted avg       0.80      0.74      0.76      7955\n",
      "\n",
      "GradientBoostingClassifier(n_estimators=50, random_state=42)\n",
      "              precision    recall  f1-score   support\n",
      "\n",
      "   brazilian       0.42      0.58      0.49        57\n",
      "     british       0.29      0.60      0.39        77\n",
      "cajun_creole       0.69      0.77      0.73       271\n",
      "     chinese       0.77      0.70      0.73       558\n",
      "    filipino       0.37      0.65      0.47        89\n",
      "      french       0.46      0.55      0.50       464\n",
      "       greek       0.68      0.83      0.75       186\n",
      "      indian       0.87      0.83      0.85       624\n",
      "       irish       0.39      0.57      0.47        89\n",
      "     italian       0.89      0.69      0.77      2067\n",
      "    jamaican       0.64      0.79      0.71        92\n",
      "    japanese       0.58      0.92      0.71       179\n",
      "      korean       0.58      0.70      0.63       149\n",
      "     mexican       0.90      0.88      0.89      1310\n",
      "    moroccan       0.64      0.86      0.73       118\n",
      "     russian       0.30      0.54      0.39        50\n",
      " southern_us       0.70      0.57      0.63      1054\n",
      "     spanish       0.34      0.76      0.47        83\n",
      "        thai       0.74      0.78      0.76       303\n",
      "  vietnamese       0.53      0.68      0.60       135\n",
      "\n",
      "    accuracy                           0.72      7955\n",
      "   macro avg       0.59      0.71      0.63      7955\n",
      "weighted avg       0.76      0.72      0.73      7955\n",
      "\n",
      "OneVsRestClassifier(estimator=Perceptron())\n",
      "              precision    recall  f1-score   support\n",
      "\n",
      "   brazilian       0.49      0.51      0.50        77\n",
      "     british       0.38      0.41      0.39       148\n",
      "cajun_creole       0.69      0.60      0.64       348\n",
      "     chinese       0.70      0.79      0.74       450\n",
      "    filipino       0.68      0.45      0.54       234\n",
      "      french       0.49      0.56      0.52       490\n",
      "       greek       0.67      0.73      0.70       209\n",
      "      indian       0.89      0.80      0.85       668\n",
      "       irish       0.38      0.54      0.45        90\n",
      "     italian       0.83      0.79      0.81      1669\n",
      "    jamaican       0.73      0.68      0.70       122\n",
      "    japanese       0.67      0.71      0.69       267\n",
      "      korean       0.73      0.73      0.73       179\n",
      "     mexican       0.91      0.85      0.88      1380\n",
      "    moroccan       0.64      0.69      0.66       148\n",
      "     russian       0.38      0.38      0.38        89\n",
      " southern_us       0.63      0.72      0.67       747\n",
      "     spanish       0.42      0.44      0.43       179\n",
      "        thai       0.75      0.67      0.71       358\n",
      "  vietnamese       0.38      0.63      0.47       103\n",
      "\n",
      "    accuracy                           0.72      7955\n",
      "   macro avg       0.62      0.63      0.62      7955\n",
      "weighted avg       0.73      0.72      0.73      7955\n",
      "\n"
     ]
    }
   ],
   "source": [
    "from sklearn.metrics import classification_report as CR\n",
    "from sklearn.naive_bayes import BernoulliNB as NB\n",
    "from sklearn.linear_model import LogisticRegression as LR\n",
    "from sklearn.svm import LinearSVC as SVM\n",
    "from sklearn.linear_model import SGDClassifier as SGD\n",
    "from sklearn.ensemble import RandomForestClassifier as RFC\n",
    "from sklearn.ensemble import GradientBoostingClassifier as GBC\n",
    "from sklearn.linear_model import Perceptron as P\n",
    "from sklearn.multiclass import OneVsRestClassifier\n",
    "\n",
    "nb=NB(alpha=.1)\n",
    "lr=LR(penalty='l2', max_iter=500, C=1, random_state=42)\n",
    "svm=SVM(penalty='l2', max_iter=100, C=1, random_state=42)\n",
    "sgd=SGD(loss='hinge', penalty=\"l2\", max_iter=500, random_state=42)\n",
    "rfc=RFC(n_estimators=50, random_state=42)\n",
    "gbc=GBC(n_estimators=50, random_state=42)\n",
    "p = OneVsRestClassifier(P(tol=1e-3, random_state=0))\n",
    "\n",
    "models=[nb, lr,svm, sgd, rfc, gbc, p]\n",
    "\n",
    "def fit(x1,y1,x2,y2):\n",
    "    for model in models:\n",
    "        model.fit(x1,y1)\n",
    "        print(model)\n",
    "        mypred=model.predict(x2)\n",
    "        mypred = label_encoder.inverse_transform(mypred)\n",
    "        print(CR(mypred, y2))\n",
    "\n",
    "\n",
    "fit(X_train,y_train, X_val, y_val)"
   ]
  },
  {
   "cell_type": "markdown",
   "id": "9e11f7fd",
   "metadata": {},
   "source": [
    "I choose to use SVM for predicting the test data because it has the highest accuracy."
   ]
  },
  {
   "cell_type": "code",
   "execution_count": 32,
   "id": "9d466854",
   "metadata": {
    "execution": {
     "iopub.execute_input": "2024-02-17T01:53:12.249811Z",
     "iopub.status.busy": "2024-02-17T01:53:12.249106Z",
     "iopub.status.idle": "2024-02-17T01:53:13.786193Z",
     "shell.execute_reply": "2024-02-17T01:53:13.784783Z"
    },
    "papermill": {
     "duration": 1.569284,
     "end_time": "2024-02-17T01:53:13.789362",
     "exception": false,
     "start_time": "2024-02-17T01:53:12.220078",
     "status": "completed"
    },
    "tags": []
   },
   "outputs": [],
   "source": [
    "X_train1 = vectorizer.fit_transform(train['processed'])\n",
    "X_test1 = vectorizer.transform(test['processed'])\n"
   ]
  },
  {
   "cell_type": "code",
   "execution_count": 33,
   "id": "cdf6980c",
   "metadata": {
    "execution": {
     "iopub.execute_input": "2024-02-17T01:53:13.842389Z",
     "iopub.status.busy": "2024-02-17T01:53:13.841186Z",
     "iopub.status.idle": "2024-02-17T01:53:13.878270Z",
     "shell.execute_reply": "2024-02-17T01:53:13.876900Z"
    },
    "papermill": {
     "duration": 0.067847,
     "end_time": "2024-02-17T01:53:13.881918",
     "exception": false,
     "start_time": "2024-02-17T01:53:13.814071",
     "status": "completed"
    },
    "tags": []
   },
   "outputs": [],
   "source": [
    "label_encoder = LabelEncoder()\n",
    "y_train1 = train['cuisine']\n",
    "y_train1 = label_encoder.fit_transform(y_train1)"
   ]
  },
  {
   "cell_type": "code",
   "execution_count": 34,
   "id": "1781231b",
   "metadata": {
    "execution": {
     "iopub.execute_input": "2024-02-17T01:53:13.934709Z",
     "iopub.status.busy": "2024-02-17T01:53:13.934156Z",
     "iopub.status.idle": "2024-02-17T01:53:19.185398Z",
     "shell.execute_reply": "2024-02-17T01:53:19.183444Z"
    },
    "papermill": {
     "duration": 5.282586,
     "end_time": "2024-02-17T01:53:19.189669",
     "exception": false,
     "start_time": "2024-02-17T01:53:13.907083",
     "status": "completed"
    },
    "tags": []
   },
   "outputs": [],
   "source": [
    "svm=SVM( max_iter=100, C=1, random_state=42)\n",
    "svm.fit(X_train1, y_train1)# use the train data to train the model\n",
    "mypred=svm.predict(X_test1)\n",
    "mypred=label_encoder.inverse_transform(mypred)"
   ]
  },
  {
   "cell_type": "markdown",
   "id": "cdf67f48",
   "metadata": {},
   "source": [
    "# Submission"
   ]
  },
  {
   "cell_type": "code",
   "execution_count": 35,
   "id": "50ea9c75",
   "metadata": {
    "execution": {
     "iopub.execute_input": "2024-02-17T01:53:19.242005Z",
     "iopub.status.busy": "2024-02-17T01:53:19.241430Z",
     "iopub.status.idle": "2024-02-17T01:53:19.272869Z",
     "shell.execute_reply": "2024-02-17T01:53:19.271391Z"
    },
    "papermill": {
     "duration": 0.060057,
     "end_time": "2024-02-17T01:53:19.275765",
     "exception": false,
     "start_time": "2024-02-17T01:53:19.215708",
     "status": "completed"
    },
    "tags": []
   },
   "outputs": [],
   "source": [
    "test_id = test['id']\n",
    "submission = pd.DataFrame({'id': test_id, 'cuisine': mypred}, columns=['id', 'cuisine'])\n",
    "submission.to_csv('submission.csv', index=False)"
   ]
  },
  {
   "cell_type": "code",
   "execution_count": null,
   "id": "4d41d2ef",
   "metadata": {
    "papermill": {
     "duration": 0.023616,
     "end_time": "2024-02-17T01:53:19.323727",
     "exception": false,
     "start_time": "2024-02-17T01:53:19.300111",
     "status": "completed"
    },
    "tags": []
   },
   "outputs": [],
   "source": []
  }
 ],
 "metadata": {
  "kaggle": {
   "accelerator": "none",
   "dataSources": [
    {
     "databundleVersionId": 46172,
     "sourceId": 10012,
     "sourceType": "competition"
    }
   ],
   "dockerImageVersionId": 30646,
   "isGpuEnabled": false,
   "isInternetEnabled": true,
   "language": "python",
   "sourceType": "notebook"
  },
  "kernelspec": {
   "display_name": "Python 3",
   "language": "python",
   "name": "python3"
  },
  "language_info": {
   "codemirror_mode": {
    "name": "ipython",
    "version": 3
   },
   "file_extension": ".py",
   "mimetype": "text/x-python",
   "name": "python",
   "nbconvert_exporter": "python",
   "pygments_lexer": "ipython3",
   "version": "3.10.13"
  },
  "papermill": {
   "default_parameters": {},
   "duration": 595.652771,
   "end_time": "2024-02-17T01:53:20.990890",
   "environment_variables": {},
   "exception": null,
   "input_path": "__notebook__.ipynb",
   "output_path": "__notebook__.ipynb",
   "parameters": {},
   "start_time": "2024-02-17T01:43:25.338119",
   "version": "2.5.0"
  }
 },
 "nbformat": 4,
 "nbformat_minor": 5
}
