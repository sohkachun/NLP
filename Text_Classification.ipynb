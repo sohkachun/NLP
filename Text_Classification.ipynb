{
  "nbformat": 4,
  "nbformat_minor": 0,
  "metadata": {
    "colab": {
      "provenance": []
    },
    "kernelspec": {
      "name": "python3",
      "display_name": "Python 3"
    },
    "language_info": {
      "name": "python"
    }
  },
  "cells": [
    {
      "cell_type": "code",
      "execution_count": 1,
      "metadata": {
        "colab": {
          "base_uri": "https://localhost:8080/"
        },
        "id": "8HVRZkRtXJmN",
        "outputId": "41857fb6-7b73-4231-e4ca-0f023c4510f8"
      },
      "outputs": [
        {
          "output_type": "stream",
          "name": "stdout",
          "text": [
            "Mounted at /content/gdrive\n"
          ]
        }
      ],
      "source": [
        "from google.colab import drive\n",
        "\n",
        "drive.mount('/content/gdrive')"
      ]
    },
    {
      "cell_type": "code",
      "source": [
        "pip install num2words"
      ],
      "metadata": {
        "colab": {
          "base_uri": "https://localhost:8080/"
        },
        "id": "q-Td7umQX2mN",
        "outputId": "a943c50b-1c09-4ef0-96d2-97b41892c4b9"
      },
      "execution_count": 2,
      "outputs": [
        {
          "output_type": "stream",
          "name": "stdout",
          "text": [
            "Collecting num2words\n",
            "  Downloading num2words-0.5.13-py3-none-any.whl (143 kB)\n",
            "\u001b[2K     \u001b[90m━━━━━━━━━━━━━━━━━━━━━━━━━━━━━━━━━━━━━━━━\u001b[0m \u001b[32m143.3/143.3 kB\u001b[0m \u001b[31m1.8 MB/s\u001b[0m eta \u001b[36m0:00:00\u001b[0m\n",
            "\u001b[?25hCollecting docopt>=0.6.2 (from num2words)\n",
            "  Downloading docopt-0.6.2.tar.gz (25 kB)\n",
            "  Preparing metadata (setup.py) ... \u001b[?25l\u001b[?25hdone\n",
            "Building wheels for collected packages: docopt\n",
            "  Building wheel for docopt (setup.py) ... \u001b[?25l\u001b[?25hdone\n",
            "  Created wheel for docopt: filename=docopt-0.6.2-py2.py3-none-any.whl size=13706 sha256=5f24b98bfe168b6c0cee304a169cc4172710bff4b5933b42ed0958bf0f9b9ae1\n",
            "  Stored in directory: /root/.cache/pip/wheels/fc/ab/d4/5da2067ac95b36618c629a5f93f809425700506f72c9732fac\n",
            "Successfully built docopt\n",
            "Installing collected packages: docopt, num2words\n",
            "Successfully installed docopt-0.6.2 num2words-0.5.13\n"
          ]
        }
      ]
    },
    {
      "cell_type": "code",
      "source": [
        "import pandas as pd\n",
        "import numpy as np\n",
        "import matplotlib\n",
        "import matplotlib.pyplot as plt\n"
      ],
      "metadata": {
        "id": "LoG4PapQZFJI"
      },
      "execution_count": 3,
      "outputs": []
    },
    {
      "cell_type": "code",
      "source": [
        "from sklearn.model_selection import train_test_split"
      ],
      "metadata": {
        "id": "8Q7FVp6KsST-"
      },
      "execution_count": 4,
      "outputs": []
    },
    {
      "cell_type": "code",
      "source": [
        "import nltk\n",
        "from nltk.corpus import wordnet, gutenberg, stopwords\n",
        "from nltk.stem import WordNetLemmatizer\n",
        "from nltk.tokenize import word_tokenize\n"
      ],
      "metadata": {
        "id": "y_vU39MFYEt9"
      },
      "execution_count": 5,
      "outputs": []
    },
    {
      "cell_type": "code",
      "source": [
        "nltk.download('all')"
      ],
      "metadata": {
        "id": "ivmM5nE3Yaw_",
        "colab": {
          "base_uri": "https://localhost:8080/"
        },
        "outputId": "72eec11d-3127-44cc-e12c-2d25b4710f48"
      },
      "execution_count": 6,
      "outputs": [
        {
          "output_type": "stream",
          "name": "stderr",
          "text": [
            "[nltk_data] Downloading collection 'all'\n",
            "[nltk_data]    | \n",
            "[nltk_data]    | Downloading package abc to /root/nltk_data...\n",
            "[nltk_data]    |   Unzipping corpora/abc.zip.\n",
            "[nltk_data]    | Downloading package alpino to /root/nltk_data...\n",
            "[nltk_data]    |   Unzipping corpora/alpino.zip.\n",
            "[nltk_data]    | Downloading package averaged_perceptron_tagger to\n",
            "[nltk_data]    |     /root/nltk_data...\n",
            "[nltk_data]    |   Unzipping taggers/averaged_perceptron_tagger.zip.\n",
            "[nltk_data]    | Downloading package averaged_perceptron_tagger_ru to\n",
            "[nltk_data]    |     /root/nltk_data...\n",
            "[nltk_data]    |   Unzipping\n",
            "[nltk_data]    |       taggers/averaged_perceptron_tagger_ru.zip.\n",
            "[nltk_data]    | Downloading package basque_grammars to\n",
            "[nltk_data]    |     /root/nltk_data...\n",
            "[nltk_data]    |   Unzipping grammars/basque_grammars.zip.\n",
            "[nltk_data]    | Downloading package bcp47 to /root/nltk_data...\n",
            "[nltk_data]    | Downloading package biocreative_ppi to\n",
            "[nltk_data]    |     /root/nltk_data...\n",
            "[nltk_data]    |   Unzipping corpora/biocreative_ppi.zip.\n",
            "[nltk_data]    | Downloading package bllip_wsj_no_aux to\n",
            "[nltk_data]    |     /root/nltk_data...\n",
            "[nltk_data]    |   Unzipping models/bllip_wsj_no_aux.zip.\n",
            "[nltk_data]    | Downloading package book_grammars to\n",
            "[nltk_data]    |     /root/nltk_data...\n",
            "[nltk_data]    |   Unzipping grammars/book_grammars.zip.\n",
            "[nltk_data]    | Downloading package brown to /root/nltk_data...\n",
            "[nltk_data]    |   Unzipping corpora/brown.zip.\n",
            "[nltk_data]    | Downloading package brown_tei to /root/nltk_data...\n",
            "[nltk_data]    |   Unzipping corpora/brown_tei.zip.\n",
            "[nltk_data]    | Downloading package cess_cat to /root/nltk_data...\n",
            "[nltk_data]    |   Unzipping corpora/cess_cat.zip.\n",
            "[nltk_data]    | Downloading package cess_esp to /root/nltk_data...\n",
            "[nltk_data]    |   Unzipping corpora/cess_esp.zip.\n",
            "[nltk_data]    | Downloading package chat80 to /root/nltk_data...\n",
            "[nltk_data]    |   Unzipping corpora/chat80.zip.\n",
            "[nltk_data]    | Downloading package city_database to\n",
            "[nltk_data]    |     /root/nltk_data...\n",
            "[nltk_data]    |   Unzipping corpora/city_database.zip.\n",
            "[nltk_data]    | Downloading package cmudict to /root/nltk_data...\n",
            "[nltk_data]    |   Unzipping corpora/cmudict.zip.\n",
            "[nltk_data]    | Downloading package comparative_sentences to\n",
            "[nltk_data]    |     /root/nltk_data...\n",
            "[nltk_data]    |   Unzipping corpora/comparative_sentences.zip.\n",
            "[nltk_data]    | Downloading package comtrans to /root/nltk_data...\n",
            "[nltk_data]    | Downloading package conll2000 to /root/nltk_data...\n",
            "[nltk_data]    |   Unzipping corpora/conll2000.zip.\n",
            "[nltk_data]    | Downloading package conll2002 to /root/nltk_data...\n",
            "[nltk_data]    |   Unzipping corpora/conll2002.zip.\n",
            "[nltk_data]    | Downloading package conll2007 to /root/nltk_data...\n",
            "[nltk_data]    | Downloading package crubadan to /root/nltk_data...\n",
            "[nltk_data]    |   Unzipping corpora/crubadan.zip.\n",
            "[nltk_data]    | Downloading package dependency_treebank to\n",
            "[nltk_data]    |     /root/nltk_data...\n",
            "[nltk_data]    |   Unzipping corpora/dependency_treebank.zip.\n",
            "[nltk_data]    | Downloading package dolch to /root/nltk_data...\n",
            "[nltk_data]    |   Unzipping corpora/dolch.zip.\n",
            "[nltk_data]    | Downloading package europarl_raw to\n",
            "[nltk_data]    |     /root/nltk_data...\n",
            "[nltk_data]    |   Unzipping corpora/europarl_raw.zip.\n",
            "[nltk_data]    | Downloading package extended_omw to\n",
            "[nltk_data]    |     /root/nltk_data...\n",
            "[nltk_data]    | Downloading package floresta to /root/nltk_data...\n",
            "[nltk_data]    |   Unzipping corpora/floresta.zip.\n",
            "[nltk_data]    | Downloading package framenet_v15 to\n",
            "[nltk_data]    |     /root/nltk_data...\n",
            "[nltk_data]    |   Unzipping corpora/framenet_v15.zip.\n",
            "[nltk_data]    | Downloading package framenet_v17 to\n",
            "[nltk_data]    |     /root/nltk_data...\n",
            "[nltk_data]    |   Unzipping corpora/framenet_v17.zip.\n",
            "[nltk_data]    | Downloading package gazetteers to /root/nltk_data...\n",
            "[nltk_data]    |   Unzipping corpora/gazetteers.zip.\n",
            "[nltk_data]    | Downloading package genesis to /root/nltk_data...\n",
            "[nltk_data]    |   Unzipping corpora/genesis.zip.\n",
            "[nltk_data]    | Downloading package gutenberg to /root/nltk_data...\n",
            "[nltk_data]    |   Unzipping corpora/gutenberg.zip.\n",
            "[nltk_data]    | Downloading package ieer to /root/nltk_data...\n",
            "[nltk_data]    |   Unzipping corpora/ieer.zip.\n",
            "[nltk_data]    | Downloading package inaugural to /root/nltk_data...\n",
            "[nltk_data]    |   Unzipping corpora/inaugural.zip.\n",
            "[nltk_data]    | Downloading package indian to /root/nltk_data...\n",
            "[nltk_data]    |   Unzipping corpora/indian.zip.\n",
            "[nltk_data]    | Downloading package jeita to /root/nltk_data...\n",
            "[nltk_data]    | Downloading package kimmo to /root/nltk_data...\n",
            "[nltk_data]    |   Unzipping corpora/kimmo.zip.\n",
            "[nltk_data]    | Downloading package knbc to /root/nltk_data...\n",
            "[nltk_data]    | Downloading package large_grammars to\n",
            "[nltk_data]    |     /root/nltk_data...\n",
            "[nltk_data]    |   Unzipping grammars/large_grammars.zip.\n",
            "[nltk_data]    | Downloading package lin_thesaurus to\n",
            "[nltk_data]    |     /root/nltk_data...\n",
            "[nltk_data]    |   Unzipping corpora/lin_thesaurus.zip.\n",
            "[nltk_data]    | Downloading package mac_morpho to /root/nltk_data...\n",
            "[nltk_data]    |   Unzipping corpora/mac_morpho.zip.\n",
            "[nltk_data]    | Downloading package machado to /root/nltk_data...\n",
            "[nltk_data]    | Downloading package masc_tagged to /root/nltk_data...\n",
            "[nltk_data]    | Downloading package maxent_ne_chunker to\n",
            "[nltk_data]    |     /root/nltk_data...\n",
            "[nltk_data]    |   Unzipping chunkers/maxent_ne_chunker.zip.\n",
            "[nltk_data]    | Downloading package maxent_treebank_pos_tagger to\n",
            "[nltk_data]    |     /root/nltk_data...\n",
            "[nltk_data]    |   Unzipping taggers/maxent_treebank_pos_tagger.zip.\n",
            "[nltk_data]    | Downloading package moses_sample to\n",
            "[nltk_data]    |     /root/nltk_data...\n",
            "[nltk_data]    |   Unzipping models/moses_sample.zip.\n",
            "[nltk_data]    | Downloading package movie_reviews to\n",
            "[nltk_data]    |     /root/nltk_data...\n",
            "[nltk_data]    |   Unzipping corpora/movie_reviews.zip.\n",
            "[nltk_data]    | Downloading package mte_teip5 to /root/nltk_data...\n",
            "[nltk_data]    |   Unzipping corpora/mte_teip5.zip.\n",
            "[nltk_data]    | Downloading package mwa_ppdb to /root/nltk_data...\n",
            "[nltk_data]    |   Unzipping misc/mwa_ppdb.zip.\n",
            "[nltk_data]    | Downloading package names to /root/nltk_data...\n",
            "[nltk_data]    |   Unzipping corpora/names.zip.\n",
            "[nltk_data]    | Downloading package nombank.1.0 to /root/nltk_data...\n",
            "[nltk_data]    | Downloading package nonbreaking_prefixes to\n",
            "[nltk_data]    |     /root/nltk_data...\n",
            "[nltk_data]    |   Unzipping corpora/nonbreaking_prefixes.zip.\n",
            "[nltk_data]    | Downloading package nps_chat to /root/nltk_data...\n",
            "[nltk_data]    |   Unzipping corpora/nps_chat.zip.\n",
            "[nltk_data]    | Downloading package omw to /root/nltk_data...\n",
            "[nltk_data]    | Downloading package omw-1.4 to /root/nltk_data...\n",
            "[nltk_data]    | Downloading package opinion_lexicon to\n",
            "[nltk_data]    |     /root/nltk_data...\n",
            "[nltk_data]    |   Unzipping corpora/opinion_lexicon.zip.\n",
            "[nltk_data]    | Downloading package panlex_swadesh to\n",
            "[nltk_data]    |     /root/nltk_data...\n",
            "[nltk_data]    | Downloading package paradigms to /root/nltk_data...\n",
            "[nltk_data]    |   Unzipping corpora/paradigms.zip.\n",
            "[nltk_data]    | Downloading package pe08 to /root/nltk_data...\n",
            "[nltk_data]    |   Unzipping corpora/pe08.zip.\n",
            "[nltk_data]    | Downloading package perluniprops to\n",
            "[nltk_data]    |     /root/nltk_data...\n",
            "[nltk_data]    |   Unzipping misc/perluniprops.zip.\n",
            "[nltk_data]    | Downloading package pil to /root/nltk_data...\n",
            "[nltk_data]    |   Unzipping corpora/pil.zip.\n",
            "[nltk_data]    | Downloading package pl196x to /root/nltk_data...\n",
            "[nltk_data]    |   Unzipping corpora/pl196x.zip.\n",
            "[nltk_data]    | Downloading package porter_test to /root/nltk_data...\n",
            "[nltk_data]    |   Unzipping stemmers/porter_test.zip.\n",
            "[nltk_data]    | Downloading package ppattach to /root/nltk_data...\n",
            "[nltk_data]    |   Unzipping corpora/ppattach.zip.\n",
            "[nltk_data]    | Downloading package problem_reports to\n",
            "[nltk_data]    |     /root/nltk_data...\n",
            "[nltk_data]    |   Unzipping corpora/problem_reports.zip.\n",
            "[nltk_data]    | Downloading package product_reviews_1 to\n",
            "[nltk_data]    |     /root/nltk_data...\n",
            "[nltk_data]    |   Unzipping corpora/product_reviews_1.zip.\n",
            "[nltk_data]    | Downloading package product_reviews_2 to\n",
            "[nltk_data]    |     /root/nltk_data...\n",
            "[nltk_data]    |   Unzipping corpora/product_reviews_2.zip.\n",
            "[nltk_data]    | Downloading package propbank to /root/nltk_data...\n",
            "[nltk_data]    | Downloading package pros_cons to /root/nltk_data...\n",
            "[nltk_data]    |   Unzipping corpora/pros_cons.zip.\n",
            "[nltk_data]    | Downloading package ptb to /root/nltk_data...\n",
            "[nltk_data]    |   Unzipping corpora/ptb.zip.\n",
            "[nltk_data]    | Downloading package punkt to /root/nltk_data...\n",
            "[nltk_data]    |   Unzipping tokenizers/punkt.zip.\n",
            "[nltk_data]    | Downloading package qc to /root/nltk_data...\n",
            "[nltk_data]    |   Unzipping corpora/qc.zip.\n",
            "[nltk_data]    | Downloading package reuters to /root/nltk_data...\n",
            "[nltk_data]    | Downloading package rslp to /root/nltk_data...\n",
            "[nltk_data]    |   Unzipping stemmers/rslp.zip.\n",
            "[nltk_data]    | Downloading package rte to /root/nltk_data...\n",
            "[nltk_data]    |   Unzipping corpora/rte.zip.\n",
            "[nltk_data]    | Downloading package sample_grammars to\n",
            "[nltk_data]    |     /root/nltk_data...\n",
            "[nltk_data]    |   Unzipping grammars/sample_grammars.zip.\n",
            "[nltk_data]    | Downloading package semcor to /root/nltk_data...\n",
            "[nltk_data]    | Downloading package senseval to /root/nltk_data...\n",
            "[nltk_data]    |   Unzipping corpora/senseval.zip.\n",
            "[nltk_data]    | Downloading package sentence_polarity to\n",
            "[nltk_data]    |     /root/nltk_data...\n",
            "[nltk_data]    |   Unzipping corpora/sentence_polarity.zip.\n",
            "[nltk_data]    | Downloading package sentiwordnet to\n",
            "[nltk_data]    |     /root/nltk_data...\n",
            "[nltk_data]    |   Unzipping corpora/sentiwordnet.zip.\n",
            "[nltk_data]    | Downloading package shakespeare to /root/nltk_data...\n",
            "[nltk_data]    |   Unzipping corpora/shakespeare.zip.\n",
            "[nltk_data]    | Downloading package sinica_treebank to\n",
            "[nltk_data]    |     /root/nltk_data...\n",
            "[nltk_data]    |   Unzipping corpora/sinica_treebank.zip.\n",
            "[nltk_data]    | Downloading package smultron to /root/nltk_data...\n",
            "[nltk_data]    |   Unzipping corpora/smultron.zip.\n",
            "[nltk_data]    | Downloading package snowball_data to\n",
            "[nltk_data]    |     /root/nltk_data...\n",
            "[nltk_data]    | Downloading package spanish_grammars to\n",
            "[nltk_data]    |     /root/nltk_data...\n",
            "[nltk_data]    |   Unzipping grammars/spanish_grammars.zip.\n",
            "[nltk_data]    | Downloading package state_union to /root/nltk_data...\n",
            "[nltk_data]    |   Unzipping corpora/state_union.zip.\n",
            "[nltk_data]    | Downloading package stopwords to /root/nltk_data...\n",
            "[nltk_data]    |   Unzipping corpora/stopwords.zip.\n",
            "[nltk_data]    | Downloading package subjectivity to\n",
            "[nltk_data]    |     /root/nltk_data...\n",
            "[nltk_data]    |   Unzipping corpora/subjectivity.zip.\n",
            "[nltk_data]    | Downloading package swadesh to /root/nltk_data...\n",
            "[nltk_data]    |   Unzipping corpora/swadesh.zip.\n",
            "[nltk_data]    | Downloading package switchboard to /root/nltk_data...\n",
            "[nltk_data]    |   Unzipping corpora/switchboard.zip.\n",
            "[nltk_data]    | Downloading package tagsets to /root/nltk_data...\n",
            "[nltk_data]    |   Unzipping help/tagsets.zip.\n",
            "[nltk_data]    | Downloading package timit to /root/nltk_data...\n",
            "[nltk_data]    |   Unzipping corpora/timit.zip.\n",
            "[nltk_data]    | Downloading package toolbox to /root/nltk_data...\n",
            "[nltk_data]    |   Unzipping corpora/toolbox.zip.\n",
            "[nltk_data]    | Downloading package treebank to /root/nltk_data...\n",
            "[nltk_data]    |   Unzipping corpora/treebank.zip.\n",
            "[nltk_data]    | Downloading package twitter_samples to\n",
            "[nltk_data]    |     /root/nltk_data...\n",
            "[nltk_data]    |   Unzipping corpora/twitter_samples.zip.\n",
            "[nltk_data]    | Downloading package udhr to /root/nltk_data...\n",
            "[nltk_data]    |   Unzipping corpora/udhr.zip.\n",
            "[nltk_data]    | Downloading package udhr2 to /root/nltk_data...\n",
            "[nltk_data]    |   Unzipping corpora/udhr2.zip.\n",
            "[nltk_data]    | Downloading package unicode_samples to\n",
            "[nltk_data]    |     /root/nltk_data...\n",
            "[nltk_data]    |   Unzipping corpora/unicode_samples.zip.\n",
            "[nltk_data]    | Downloading package universal_tagset to\n",
            "[nltk_data]    |     /root/nltk_data...\n",
            "[nltk_data]    |   Unzipping taggers/universal_tagset.zip.\n",
            "[nltk_data]    | Downloading package universal_treebanks_v20 to\n",
            "[nltk_data]    |     /root/nltk_data...\n",
            "[nltk_data]    | Downloading package vader_lexicon to\n",
            "[nltk_data]    |     /root/nltk_data...\n",
            "[nltk_data]    | Downloading package verbnet to /root/nltk_data...\n",
            "[nltk_data]    |   Unzipping corpora/verbnet.zip.\n",
            "[nltk_data]    | Downloading package verbnet3 to /root/nltk_data...\n",
            "[nltk_data]    |   Unzipping corpora/verbnet3.zip.\n",
            "[nltk_data]    | Downloading package webtext to /root/nltk_data...\n",
            "[nltk_data]    |   Unzipping corpora/webtext.zip.\n",
            "[nltk_data]    | Downloading package wmt15_eval to /root/nltk_data...\n",
            "[nltk_data]    |   Unzipping models/wmt15_eval.zip.\n",
            "[nltk_data]    | Downloading package word2vec_sample to\n",
            "[nltk_data]    |     /root/nltk_data...\n",
            "[nltk_data]    |   Unzipping models/word2vec_sample.zip.\n",
            "[nltk_data]    | Downloading package wordnet to /root/nltk_data...\n",
            "[nltk_data]    | Downloading package wordnet2021 to /root/nltk_data...\n",
            "[nltk_data]    | Downloading package wordnet2022 to /root/nltk_data...\n",
            "[nltk_data]    |   Unzipping corpora/wordnet2022.zip.\n",
            "[nltk_data]    | Downloading package wordnet31 to /root/nltk_data...\n",
            "[nltk_data]    | Downloading package wordnet_ic to /root/nltk_data...\n",
            "[nltk_data]    |   Unzipping corpora/wordnet_ic.zip.\n",
            "[nltk_data]    | Downloading package words to /root/nltk_data...\n",
            "[nltk_data]    |   Unzipping corpora/words.zip.\n",
            "[nltk_data]    | Downloading package ycoe to /root/nltk_data...\n",
            "[nltk_data]    |   Unzipping corpora/ycoe.zip.\n",
            "[nltk_data]    | \n",
            "[nltk_data]  Done downloading collection all\n"
          ]
        },
        {
          "output_type": "execute_result",
          "data": {
            "text/plain": [
              "True"
            ]
          },
          "metadata": {},
          "execution_count": 6
        }
      ]
    },
    {
      "cell_type": "code",
      "source": [
        "#Text and Number manipulation\n",
        "import re\n",
        "import string\n",
        "from string import punctuation\n",
        "from num2words import num2words"
      ],
      "metadata": {
        "id": "QEMFXHZWYNnr"
      },
      "execution_count": 7,
      "outputs": []
    },
    {
      "cell_type": "code",
      "source": [
        "lemmatizer = WordNetLemmatizer()\n",
        "stopwords = set(nltk.corpus.stopwords.words('english'))\n",
        "wordnet_map = {\n",
        "    'N': wordnet.NOUN,\n",
        "    'V': wordnet.VERB,\n",
        "    'J': wordnet.ADJ,\n",
        "    'R': wordnet.ADV\n",
        "}\n"
      ],
      "metadata": {
        "id": "JEUei1vqYRri"
      },
      "execution_count": 9,
      "outputs": []
    },
    {
      "cell_type": "code",
      "source": [
        "train = pd.read_csv('/content/gdrive/MyDrive/train.csv')\n",
        "test = pd.read_csv('/content/gdrive/MyDrive/test.csv')"
      ],
      "metadata": {
        "id": "5O9u8GIGYXbA"
      },
      "execution_count": 10,
      "outputs": []
    },
    {
      "cell_type": "code",
      "source": [
        "#Combine columns except Survived\n",
        "column_list = ['PassengerId', 'Pclass', 'Name', 'Sex', \"Age\", 'SibSp', 'Parch', 'Ticket', 'Fare', 'Embarked', 'Cabin' ]\n",
        "train['concatenated'] = train[column_list].astype(str).agg(' '.join, axis =1)\n",
        "test['concatenated'] = train[column_list].astype(str).agg(' '.join, axis =1)"
      ],
      "metadata": {
        "id": "XDQFMHyiZL3g"
      },
      "execution_count": 11,
      "outputs": []
    },
    {
      "cell_type": "code",
      "source": [
        "def to_number(text):\n",
        "    # Define a regular expression pattern to capture the letter and number separately\n",
        "    pattern = r\"(?P<letter>[A-Za-z]*)(?P<number>\\d+)\"\n",
        "\n",
        "    # Define a function to convert the matched number to words\n",
        "    def replace(match):\n",
        "        # Extract the letter and number from the match\n",
        "        letter = match.group('letter')\n",
        "        number = int(match.group('number'))\n",
        "\n",
        "        # Convert the number to words\n",
        "        words = num2words(number)\n",
        "\n",
        "        # Return the original letter with the number in words\n",
        "        return f\"{letter} {words}\" if letter else words\n",
        "\n",
        "    # Use regular expression substitution to replace the number with words\n",
        "    return re.sub(pattern, replace, text)"
      ],
      "metadata": {
        "id": "fG_OfKhyp8Sh"
      },
      "execution_count": 12,
      "outputs": []
    },
    {
      "cell_type": "markdown",
      "source": [
        "This function is able to avoid converting C85 to Ceighty five\n",
        "\n",
        "\n"
      ],
      "metadata": {
        "id": "0R-wknloZXlH"
      }
    },
    {
      "cell_type": "code",
      "source": [
        "def clean_html(text):\n",
        "    Cleaner = re.compile('<.*?:') #\n",
        "    text = re.sub(Cleaner, ' ', text)\n",
        "    text = re.sub(r'[^a-zA-Z\\s]',' ', text, flags=re.I)\n",
        "    return text"
      ],
      "metadata": {
        "id": "zUEUrnHGZcf0"
      },
      "execution_count": 13,
      "outputs": []
    },
    {
      "cell_type": "markdown",
      "source": [
        "The pattern <.?: will match any substring that starts with \"<\" and ends with \":\". The .? part ensures that the pattern matches the shortest possible substring between \"<\" and \":\".\n",
        "re.sub() function is being used to replace substrings in the text variable that match the pattern specified by CLEANR with a space ' '.\n",
        "re.sub(r'[^a-zA-Z\\s]',' ', text, flags=re.I) removes any characters from the text string that are not alphabetic characters (both uppercase and lowercase) or whitespace characters.\n",
        "flags=re.I stands for re.IGNORECASE"
      ],
      "metadata": {
        "id": "P8e12DzRZjBd"
      }
    },
    {
      "cell_type": "code",
      "source": [
        "def remove_stopwords(text):\n",
        "    return [word for word in word_tokenize(text) if not word in stopwords]"
      ],
      "metadata": {
        "id": "VGayotpylPpr"
      },
      "execution_count": 14,
      "outputs": []
    },
    {
      "cell_type": "code",
      "source": [
        "def rem_lines(text):\n",
        "    return text.strip().replace('\\n',' ')"
      ],
      "metadata": {
        "id": "42qNZNWXZigV"
      },
      "execution_count": 15,
      "outputs": []
    },
    {
      "cell_type": "code",
      "source": [
        "def strip_punctuation(text):\n",
        "    return ''.join(c for c in text if not c in punctuation)+ ' '"
      ],
      "metadata": {
        "id": "txmxEe5JZnrR"
      },
      "execution_count": 16,
      "outputs": []
    },
    {
      "cell_type": "code",
      "source": [
        "def lemmatize_words(text):\n",
        "    lemmatizer = WordNetLemmatizer()\n",
        "    pos_tagged_text = nltk.pos_tag(text.split())\n",
        "    return ' '.join([lemmatizer.lemmatize(word, wordnet_map.get(pos[0], wordnet.NOUN)) for word, pos in pos_tagged_text])"
      ],
      "metadata": {
        "id": "T3F6l7ObZpoH"
      },
      "execution_count": 17,
      "outputs": []
    },
    {
      "cell_type": "markdown",
      "source": [
        "If a POS tag is not provided, the default POS tag used is wordnet.NOUN."
      ],
      "metadata": {
        "id": "MVni2TtdZthK"
      }
    },
    {
      "cell_type": "code",
      "source": [
        "train['concatenated'] = train['concatenated'].astype('str').apply(to_number)\n",
        "train['concatenated'] = train['concatenated'].astype('str').apply(clean_html)\n",
        "train['concatenated'] = train['concatenated'].astype('str').apply(remove_stopwords)\n",
        "train['concatenated'] = train['concatenated'].astype('str').apply(strip_punctuation)\n",
        "train['concatenated'] = train['concatenated'].astype('str').apply(lemmatize_words)\n",
        "\n",
        "\n",
        "test['concatenated'] = test['concatenated'].astype('str').apply(to_number)\n",
        "test['concatenated'] = test['concatenated'].astype('str').apply(clean_html)\n",
        "test['concatenated'] = test['concatenated'].astype('str').apply(remove_stopwords)\n",
        "test['concatenated'] = test['concatenated'].astype('str').apply(strip_punctuation)\n",
        "test['concatenated'] = test['concatenated'].astype('str').apply(lemmatize_words)"
      ],
      "metadata": {
        "id": "PnB3LuFGZ0kN"
      },
      "execution_count": 18,
      "outputs": []
    },
    {
      "cell_type": "code",
      "source": [
        "txt = train.concatenated.str.cat(sep=' ')\n",
        "words = nltk.tokenize.word_tokenize(txt) #tokenizes the concatenated text string into individual words\n",
        "word_dist = nltk.FreqDist(words)#creates a frequency distribution of words\n",
        "rslt = pd.DataFrame(word_dist.most_common(10),\n",
        "                    columns=['Word', 'Frequency']).set_index('Word')\n",
        "matplotlib.style.use('ggplot')\n",
        "rslt.plot.bar(rot=0)"
      ],
      "metadata": {
        "colab": {
          "base_uri": "https://localhost:8080/",
          "height": 470
        },
        "id": "rheySuMuseEt",
        "outputId": "31f7c9fd-fb4f-4f0b-89da-f9949a338ee1"
      },
      "execution_count": 19,
      "outputs": [
        {
          "output_type": "execute_result",
          "data": {
            "text/plain": [
              "<Axes: xlabel='Word'>"
            ]
          },
          "metadata": {},
          "execution_count": 19
        },
        {
          "output_type": "display_data",
          "data": {
            "text/plain": [
              "<Figure size 640x480 with 1 Axes>"
            ],
            "image/png": "[encoded data removed]"
          },
          "metadata": {}
        }
      ]
    },
    {
      "cell_type": "code",
      "source": [
        "X_train,X_test,y_train,y_test = train_test_split(train['concatenated'],train['Survived'], test_size=.30, random_state=88)"
      ],
      "metadata": {
        "id": "B6Wn0Vm_s9_S"
      },
      "execution_count": 20,
      "outputs": []
    },
    {
      "cell_type": "markdown",
      "source": [
        "#Bag of words"
      ],
      "metadata": {
        "id": "_3Ur1zOlWkhp"
      }
    },
    {
      "cell_type": "code",
      "source": [
        "from sklearn.feature_extraction.text import CountVectorizer\n",
        "from sklearn.model_selection import cross_val_score as CVScore\n",
        "cv = CountVectorizer(binary=True,ngram_range=(1,2),min_df=0.0, max_df=1.0)\n",
        "cv_train = cv.fit_transform(X_train)\n",
        "cv_test = cv.transform(X_test)"
      ],
      "metadata": {
        "id": "WhwKO8NRuEiu"
      },
      "execution_count": 21,
      "outputs": []
    },
    {
      "cell_type": "markdown",
      "source": [
        "# TF-IDF Grouping"
      ],
      "metadata": {
        "id": "2oBJ5iTBWm09"
      }
    },
    {
      "cell_type": "code",
      "source": [
        "from sklearn.feature_extraction.text import TfidfVectorizer as TFIDF\n",
        "tv = TFIDF(use_idf=True, min_df=0.0, max_df=1.0)\n",
        "tv_train = tv.fit_transform(X_train)\n",
        "tv_test = tv.transform(X_test)"
      ],
      "metadata": {
        "id": "P5RqiKkluF9P"
      },
      "execution_count": 22,
      "outputs": []
    },
    {
      "cell_type": "markdown",
      "source": [
        "# Models\n",
        "\n",
        "I am using professor's code to train and predict. The structure of the code is neat and clean."
      ],
      "metadata": {
        "id": "e2VA_VqJW2Vg"
      }
    },
    {
      "cell_type": "code",
      "source": [
        "from sklearn.metrics import classification_report as CR\n",
        "from sklearn.naive_bayes import BernoulliNB as NB\n",
        "from sklearn.linear_model import LogisticRegression as LR\n",
        "from sklearn.svm import LinearSVC as SVM\n",
        "from sklearn.linear_model import SGDClassifier as SGD\n",
        "from sklearn.ensemble import RandomForestClassifier as RFC\n",
        "from sklearn.ensemble import GradientBoostingClassifier as GBC\n",
        "from sklearn.linear_model import Perceptron as P\n",
        "\n",
        "nb=NB(alpha=.1)\n",
        "lr=LR(penalty='l2', max_iter=500, C=1, random_state=42)\n",
        "svm=SVM(penalty='l2', max_iter=50, C=1, random_state=42)\n",
        "sgd=SGD(loss='hinge', penalty=\"l2\", max_iter=500, random_state=42)\n",
        "rfc=RFC(n_estimators=50, random_state=42)\n",
        "gbc=GBC(n_estimators=50, random_state=42)\n",
        "p=P(tol=1e-3, random_state=0)\n",
        "\n",
        "models=[nb, lr,svm, sgd, rfc, gbc, p]\n",
        "\n",
        "def fit(x1,y1,x2,y2):\n",
        "    for model in models:\n",
        "        model.fit(x1,y1)\n",
        "        print(model)\n",
        "        mypred=model.predict(x2)\n",
        "        print(CR(mypred, y2))\n",
        "\n",
        "\n",
        "fit(cv_train,y_train, cv_test, y_test)# try on bag of words grouping data"
      ],
      "metadata": {
        "colab": {
          "base_uri": "https://localhost:8080/"
        },
        "id": "gO303vdSvLvU",
        "outputId": "8fdb3628-0051-4aad-9c69-757805715c7f"
      },
      "execution_count": 23,
      "outputs": [
        {
          "output_type": "stream",
          "name": "stdout",
          "text": [
            "BernoulliNB(alpha=0.1)\n",
            "              precision    recall  f1-score   support\n",
            "\n",
            "           0       0.85      0.84      0.84       176\n",
            "           1       0.70      0.71      0.70        92\n",
            "\n",
            "    accuracy                           0.79       268\n",
            "   macro avg       0.77      0.77      0.77       268\n",
            "weighted avg       0.80      0.79      0.80       268\n",
            "\n",
            "LogisticRegression(C=1, max_iter=500, random_state=42)\n",
            "              precision    recall  f1-score   support\n",
            "\n",
            "           0       0.83      0.83      0.83       176\n",
            "           1       0.68      0.68      0.68        92\n",
            "\n",
            "    accuracy                           0.78       268\n",
            "   macro avg       0.76      0.76      0.76       268\n",
            "weighted avg       0.78      0.78      0.78       268\n",
            "\n",
            "LinearSVC(C=1, max_iter=50, random_state=42)\n",
            "              precision    recall  f1-score   support\n",
            "\n",
            "           0       0.83      0.82      0.83       177\n",
            "           1       0.67      0.68      0.67        91\n",
            "\n",
            "    accuracy                           0.78       268\n",
            "   macro avg       0.75      0.75      0.75       268\n",
            "weighted avg       0.78      0.78      0.78       268\n",
            "\n",
            "SGDClassifier(max_iter=500, random_state=42)\n",
            "              precision    recall  f1-score   support\n",
            "\n",
            "           0       0.83      0.82      0.83       178\n",
            "           1       0.66      0.68      0.67        90\n",
            "\n",
            "    accuracy                           0.77       268\n",
            "   macro avg       0.75      0.75      0.75       268\n",
            "weighted avg       0.77      0.77      0.77       268\n",
            "\n"
          ]
        },
        {
          "output_type": "stream",
          "name": "stderr",
          "text": [
            "/usr/local/lib/python3.10/dist-packages/sklearn/svm/_base.py:1244: ConvergenceWarning: Liblinear failed to converge, increase the number of iterations.\n",
            "  warnings.warn(\n"
          ]
        },
        {
          "output_type": "stream",
          "name": "stdout",
          "text": [
            "RandomForestClassifier(n_estimators=50, random_state=42)\n",
            "              precision    recall  f1-score   support\n",
            "\n",
            "           0       0.88      0.83      0.85       186\n",
            "           1       0.66      0.74      0.70        82\n",
            "\n",
            "    accuracy                           0.80       268\n",
            "   macro avg       0.77      0.79      0.78       268\n",
            "weighted avg       0.81      0.80      0.81       268\n",
            "\n",
            "GradientBoostingClassifier(n_estimators=50, random_state=42)\n",
            "              precision    recall  f1-score   support\n",
            "\n",
            "           0       0.85      0.84      0.84       177\n",
            "           1       0.69      0.70      0.70        91\n",
            "\n",
            "    accuracy                           0.79       268\n",
            "   macro avg       0.77      0.77      0.77       268\n",
            "weighted avg       0.79      0.79      0.79       268\n",
            "\n",
            "Perceptron()\n",
            "              precision    recall  f1-score   support\n",
            "\n",
            "           0       0.83      0.81      0.82       181\n",
            "           1       0.62      0.67      0.64        87\n",
            "\n",
            "    accuracy                           0.76       268\n",
            "   macro avg       0.73      0.74      0.73       268\n",
            "weighted avg       0.77      0.76      0.76       268\n",
            "\n"
          ]
        }
      ]
    },
    {
      "cell_type": "code",
      "source": [
        "fit(tv_train,y_train, tv_test, y_test)#try on TF-IDF grouping data"
      ],
      "metadata": {
        "colab": {
          "base_uri": "https://localhost:8080/"
        },
        "id": "a0bBA99avl8F",
        "outputId": "b24e87bf-480a-4345-d280-2e383d60e420"
      },
      "execution_count": 24,
      "outputs": [
        {
          "output_type": "stream",
          "name": "stdout",
          "text": [
            "BernoulliNB(alpha=0.1)\n",
            "              precision    recall  f1-score   support\n",
            "\n",
            "           0       0.84      0.81      0.83       181\n",
            "           1       0.63      0.68      0.66        87\n",
            "\n",
            "    accuracy                           0.77       268\n",
            "   macro avg       0.74      0.75      0.74       268\n",
            "weighted avg       0.77      0.77      0.77       268\n",
            "\n",
            "LogisticRegression(C=1, max_iter=500, random_state=42)\n",
            "              precision    recall  f1-score   support\n",
            "\n",
            "           0       0.89      0.82      0.85       190\n",
            "           1       0.62      0.74      0.68        78\n",
            "\n",
            "    accuracy                           0.79       268\n",
            "   macro avg       0.75      0.78      0.76       268\n",
            "weighted avg       0.81      0.79      0.80       268\n",
            "\n",
            "LinearSVC(C=1, max_iter=50, random_state=42)\n",
            "              precision    recall  f1-score   support\n",
            "\n",
            "           0       0.86      0.83      0.84       181\n",
            "           1       0.67      0.71      0.69        87\n",
            "\n",
            "    accuracy                           0.79       268\n",
            "   macro avg       0.76      0.77      0.77       268\n",
            "weighted avg       0.80      0.79      0.79       268\n",
            "\n",
            "SGDClassifier(max_iter=500, random_state=42)\n",
            "              precision    recall  f1-score   support\n",
            "\n",
            "           0       0.78      0.81      0.79       168\n",
            "           1       0.66      0.61      0.63       100\n",
            "\n",
            "    accuracy                           0.74       268\n",
            "   macro avg       0.72      0.71      0.71       268\n",
            "weighted avg       0.73      0.74      0.73       268\n",
            "\n",
            "RandomForestClassifier(n_estimators=50, random_state=42)\n",
            "              precision    recall  f1-score   support\n",
            "\n",
            "           0       0.89      0.81      0.84       192\n",
            "           1       0.60      0.74      0.66        76\n",
            "\n",
            "    accuracy                           0.79       268\n",
            "   macro avg       0.74      0.77      0.75       268\n",
            "weighted avg       0.81      0.79      0.79       268\n",
            "\n",
            "GradientBoostingClassifier(n_estimators=50, random_state=42)\n",
            "              precision    recall  f1-score   support\n",
            "\n",
            "           0       0.85      0.82      0.84       181\n",
            "           1       0.66      0.70      0.68        87\n",
            "\n",
            "    accuracy                           0.78       268\n",
            "   macro avg       0.75      0.76      0.76       268\n",
            "weighted avg       0.79      0.78      0.79       268\n",
            "\n",
            "Perceptron()\n",
            "              precision    recall  f1-score   support\n",
            "\n",
            "           0       0.82      0.81      0.81       177\n",
            "           1       0.63      0.65      0.64        91\n",
            "\n",
            "    accuracy                           0.75       268\n",
            "   macro avg       0.73      0.73      0.73       268\n",
            "weighted avg       0.76      0.75      0.75       268\n",
            "\n"
          ]
        }
      ]
    },
    {
      "cell_type": "markdown",
      "source": [
        "# RNN\n",
        "I give a try using rnn to train and predict the concatenated data."
      ],
      "metadata": {
        "id": "UDkPWmib3J1B"
      }
    },
    {
      "cell_type": "code",
      "source": [
        "import numpy as np\n",
        "import tensorflow as tf\n",
        "from tensorflow.keras.preprocessing.text import Tokenizer\n",
        "from tensorflow.keras.preprocessing.sequence import pad_sequences\n",
        "from tensorflow.keras.models import Sequential, Model\n",
        "from tensorflow.keras.layers import Embedding, LSTM, Dense, Input,  Bidirectional"
      ],
      "metadata": {
        "id": "RiFZVn4axZ6v"
      },
      "execution_count": 46,
      "outputs": []
    },
    {
      "cell_type": "code",
      "source": [
        "mybatch=64   #set batch size\n",
        "embedding_size=512 #set out size for embedding\n",
        "num_epochs=4 #set the number of epochs..\n",
        "num_words = 50000     #number of words to tokenize, 50000 was start\n",
        "tf.random.set_seed(1234) #set random number seed for tensorflow, python, etc."
      ],
      "metadata": {
        "id": "CkabnuMcxxav"
      },
      "execution_count": 47,
      "outputs": []
    },
    {
      "cell_type": "code",
      "source": [
        "oov_token = '<UNK>'   #out of vocabulary replacement\n",
        "pad_type = 'post'     #padding type\n",
        "trunc_type = 'post'   #truncation type\n",
        "\n",
        "tokenizer = Tokenizer(num_words=num_words, oov_token=oov_token)\n",
        "\n",
        "tokenizer.fit_on_texts(X_train.astype('str'))\n",
        "#tokenizer.fit_on_texts(x_train2.astype('str'))\n",
        "\n",
        "# Encode training data sentences into sequences\n",
        "train_sequences1 = tokenizer.texts_to_sequences(X_train.astype('str'))\n",
        "\n",
        "# Get max training sequence length\n",
        "maxlen1 = max([len(x) for x in train_sequences1])\n",
        "\n",
        "# Pad the training sequences to the maximum sentence length\n",
        "x_train1 = pad_sequences(train_sequences1, padding=pad_type, truncating=trunc_type, maxlen=maxlen1)"
      ],
      "metadata": {
        "id": "qcSXKkztvxdo"
      },
      "execution_count": 48,
      "outputs": []
    },
    {
      "cell_type": "code",
      "source": [
        "# Encode test data sentences into sequences\n",
        "test_sequences1 = tokenizer.texts_to_sequences(X_test.astype('str'))\n",
        "\n",
        "# Pad the training sequences to the maximum sentence length of training set\n",
        "x_test1 = pad_sequences(test_sequences1, padding=pad_type, truncating=trunc_type, maxlen=maxlen1)"
      ],
      "metadata": {
        "id": "lzqrdoKSxy8-"
      },
      "execution_count": 49,
      "outputs": []
    },
    {
      "cell_type": "code",
      "source": [
        "#RNN\n",
        "input_1 = Input(shape=(x_train1.shape[1]))\n",
        "v=Embedding(len(tokenizer.word_index) + 1, embedding_size)(input_1)\n",
        "v=Bidirectional(LSTM(embedding_size, return_sequences=True, dropout=.5))(v)\n",
        "v=Bidirectional(LSTM(embedding_size, return_sequences=False, dropout=.2))(v)\n",
        "output=Dense(1, activation='sigmoid')(v)\n",
        "model=Model(inputs=[input_1], outputs=output)"
      ],
      "metadata": {
        "id": "SADkJ9Ykybw4"
      },
      "execution_count": 50,
      "outputs": []
    },
    {
      "cell_type": "code",
      "source": [
        "model = model\n",
        "SGD= tf.keras.optimizers.SGD(lr=0.0001, nesterov=True)\n",
        "adam=tf.keras.optimizers.Adam(lr=0.0001)\n",
        "model.compile(loss=tf.keras.losses.binary_crossentropy,\n",
        "          optimizer=adam, metrics=['binary_accuracy'])\n",
        "model.summary()"
      ],
      "metadata": {
        "colab": {
          "base_uri": "https://localhost:8080/"
        },
        "id": "cYnnysQpygB1",
        "outputId": "5d50903e-658f-4444-fc21-5c2e6cf2a012"
      },
      "execution_count": 51,
      "outputs": [
        {
          "output_type": "stream",
          "name": "stderr",
          "text": [
            "WARNING:absl:`lr` is deprecated in Keras optimizer, please use `learning_rate` or use the legacy optimizer, e.g.,tf.keras.optimizers.legacy.SGD.\n",
            "WARNING:absl:`lr` is deprecated in Keras optimizer, please use `learning_rate` or use the legacy optimizer, e.g.,tf.keras.optimizers.legacy.Adam.\n"
          ]
        },
        {
          "output_type": "stream",
          "name": "stdout",
          "text": [
            "Model: \"model_2\"\n",
            "_________________________________________________________________\n",
            " Layer (type)                Output Shape              Param #   \n",
            "=================================================================\n",
            " input_3 (InputLayer)        [(None, 43)]              0         \n",
            "                                                                 \n",
            " embedding_2 (Embedding)     (None, 43, 512)           633344    \n",
            "                                                                 \n",
            " bidirectional_4 (Bidirecti  (None, 43, 1024)          4198400   \n",
            " onal)                                                           \n",
            "                                                                 \n",
            " bidirectional_5 (Bidirecti  (None, 1024)              6295552   \n",
            " onal)                                                           \n",
            "                                                                 \n",
            " dense_2 (Dense)             (None, 1)                 1025      \n",
            "                                                                 \n",
            "=================================================================\n",
            "Total params: 11128321 (42.45 MB)\n",
            "Trainable params: 11128321 (42.45 MB)\n",
            "Non-trainable params: 0 (0.00 Byte)\n",
            "_________________________________________________________________\n"
          ]
        }
      ]
    },
    {
      "cell_type": "code",
      "source": [
        "history=model.fit(\n",
        "              x=x_train1,y=y_train,\n",
        "              batch_size=mybatch,verbose=1,epochs=num_epochs)"
      ],
      "metadata": {
        "colab": {
          "base_uri": "https://localhost:8080/"
        },
        "id": "cr_JeBW0z1TN",
        "outputId": "457da6bf-2071-495f-bd93-c92a041042a8"
      },
      "execution_count": 52,
      "outputs": [
        {
          "output_type": "stream",
          "name": "stdout",
          "text": [
            "Epoch 1/4\n",
            "10/10 [==============================] - 86s 8s/step - loss: 0.6619 - binary_accuracy: 0.6565\n",
            "Epoch 2/4\n",
            "10/10 [==============================] - 73s 7s/step - loss: 0.4933 - binary_accuracy: 0.8090\n",
            "Epoch 3/4\n",
            "10/10 [==============================] - 79s 8s/step - loss: 0.3549 - binary_accuracy: 0.8555\n",
            "Epoch 4/4\n",
            "10/10 [==============================] - 81s 8s/step - loss: 0.2427 - binary_accuracy: 0.9181\n"
          ]
        }
      ]
    },
    {
      "cell_type": "code",
      "source": [
        "mypred=model.predict(x_test1)\n",
        "print(CR(np.round(np.squeeze(mypred),0), y_test))\n"
      ],
      "metadata": {
        "colab": {
          "base_uri": "https://localhost:8080/"
        },
        "id": "mX82w3Gn0b0O",
        "outputId": "a4ba49bb-0937-4eea-9191-1f7a13105cf7"
      },
      "execution_count": 53,
      "outputs": [
        {
          "output_type": "stream",
          "name": "stdout",
          "text": [
            "9/9 [==============================] - 12s 955ms/step\n",
            "              precision    recall  f1-score   support\n",
            "\n",
            "         0.0       0.81      0.85      0.83       165\n",
            "         1.0       0.74      0.67      0.70       103\n",
            "\n",
            "    accuracy                           0.78       268\n",
            "   macro avg       0.77      0.76      0.77       268\n",
            "weighted avg       0.78      0.78      0.78       268\n",
            "\n"
          ]
        }
      ]
    },
    {
      "cell_type": "code",
      "source": [],
      "metadata": {
        "id": "j0iYkMUUjLpu"
      },
      "execution_count": null,
      "outputs": []
    }
  ]
}
