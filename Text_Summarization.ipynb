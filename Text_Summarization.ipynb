{
  "nbformat": 4,
  "nbformat_minor": 0,
  "metadata": {
    "colab": {
      "provenance": []
    },
    "kernelspec": {
      "name": "python3",
      "display_name": "Python 3"
    },
    "language_info": {
      "name": "python"
    }
  },
  "cells": [
    {
      "cell_type": "code",
      "source": [
        "pip install gensim==3.6.0"
      ],
      "metadata": {
        "colab": {
          "base_uri": "https://localhost:8080/",
          "height": 444
        },
        "id": "cR3AEOqjZqPL",
        "outputId": "6477a6ba-2b42-4748-d493-8cb369bfd61b"
      },
      "execution_count": 23,
      "outputs": [
        {
          "output_type": "stream",
          "name": "stdout",
          "text": [
            "Collecting gensim==3.6.0\n",
            "  Downloading gensim-3.6.0.tar.gz (23.1 MB)\n",
            "\u001b[2K     \u001b[90m━━━━━━━━━━━━━━━━━━━━━━━━━━━━━━━━━━━━━━━━\u001b[0m \u001b[32m23.1/23.1 MB\u001b[0m \u001b[31m5.9 MB/s\u001b[0m eta \u001b[36m0:00:00\u001b[0m\n",
            "\u001b[?25h  Preparing metadata (setup.py) ... \u001b[?25l\u001b[?25hdone\n",
            "Requirement already satisfied: numpy>=1.11.3 in /usr/local/lib/python3.10/dist-packages (from gensim==3.6.0) (1.25.2)\n",
            "Requirement already satisfied: scipy>=0.18.1 in /usr/local/lib/python3.10/dist-packages (from gensim==3.6.0) (1.11.4)\n",
            "Requirement already satisfied: six>=1.5.0 in /usr/local/lib/python3.10/dist-packages (from gensim==3.6.0) (1.16.0)\n",
            "Requirement already satisfied: smart_open>=1.2.1 in /usr/local/lib/python3.10/dist-packages (from gensim==3.6.0) (6.4.0)\n",
            "Building wheels for collected packages: gensim\n",
            "  Building wheel for gensim (setup.py) ... \u001b[?25l\u001b[?25hdone\n",
            "  Created wheel for gensim: filename=gensim-3.6.0-cp310-cp310-linux_x86_64.whl size=23777925 sha256=45e99b52e75eb1cf0fe22c79fbaf74679fb2395b8950f26956cb3f1b5d78762b\n",
            "  Stored in directory: /root/.cache/pip/wheels/00/e8/47/96f55c3144a5ea3537f549f7a97607011f5004b9f13fa8dcc5\n",
            "Successfully built gensim\n",
            "Installing collected packages: gensim\n",
            "  Attempting uninstall: gensim\n",
            "    Found existing installation: gensim 4.3.2\n",
            "    Uninstalling gensim-4.3.2:\n",
            "      Successfully uninstalled gensim-4.3.2\n",
            "Successfully installed gensim-3.6.0\n"
          ]
        },
        {
          "output_type": "display_data",
          "data": {
            "application/vnd.colab-display-data+json": {
              "pip_warning": {
                "packages": [
                  "gensim"
                ]
              }
            }
          },
          "metadata": {}
        }
      ]
    },
    {
      "cell_type": "code",
      "execution_count": 1,
      "metadata": {
        "id": "yBPQo2xsXAW9"
      },
      "outputs": [],
      "source": [
        "import requests\n",
        "from bs4 import BeautifulSoup\n",
        "\n"
      ]
    },
    {
      "cell_type": "code",
      "source": [
        "def extract_article(url):\n",
        "    # Send a GET request to the URL\n",
        "    response = requests.get(url)\n",
        "\n",
        "    # Parse the HTML content of the page\n",
        "    soup = BeautifulSoup(response.text, 'html.parser')\n",
        "\n",
        "    # Find the main content element(s) based on HTML tags, class names, etc.\n",
        "    main_content = soup.find('article')  # Example: find article tag\n",
        "\n",
        "    # Extract the text from the main content element(s)\n",
        "    article_text = main_content.get_text() if main_content else \"Article not found or format not recognized\"\n",
        "\n",
        "    return article_text\n",
        "\n"
      ],
      "metadata": {
        "id": "dWQ2ro_mXRwk"
      },
      "execution_count": 3,
      "outputs": []
    },
    {
      "cell_type": "code",
      "source": [
        "# Example usage:\n",
        "url = 'https://www.bbc.com/future/article/20240213-valentines-day-the-interspecies-relationships-that-evolved-in-nature'\n",
        "article = extract_article(url)\n",
        "print(article)"
      ],
      "metadata": {
        "colab": {
          "base_uri": "https://localhost:8080/"
        },
        "id": "IlWYBvlgYwaw",
        "outputId": "c6e47a4d-f68d-4618-dd98-4d360109b6d8"
      },
      "execution_count": 4,
      "outputs": [
        {
          "output_type": "stream",
          "name": "stdout",
          "text": [
            "By Lucy Sherriff14th February 2024From bats and carnivorous plants to crocodiles and birds, nature is full of remarkable pairings that depend on each other to survive.AA green-brown spongy sludge congregates en masse across the surface of the Everglades' shallow marshes in southern Florida. At first glance, it may look like a harmful algal bloom that sucks oxygen from the water, suffocating the surrounding ecosystem and releasing toxins. But it is in fact a beautifully productive coupling of algae, fungi and a few other third, fourth and fifth wheels, such as plant detritus, microbes and bacteria.\n",
            "This cluster of beings forms a perfectly matched relationship, known as a periphyton, and provides the cornerstone of the Everglades' highly biodiverse ecosystem explains Meenakshi Chabba, a scientist with the non-profit Florida's Everglades Foundation. \"It's incredible because you have this community of organisms coming together and they form this matter which is the basis of the entire food chain here.\"\n",
            "A periphyton is an example of mutualism; an unexpectedly close cross-species relationship. As with any relationship, mutualism involves various, complex types of codependency and benefits – yet it roughly breaks down into two types: species that are highly dependent on each other, known as obligate mutualism; and species that have a friends-with-benefits approach, known as facultative mutualism. This latter type gets something out of the relationship, but they'd survive without each other just fine.Periphytons are formed from a cross-species coupling of algae and fungi, together with plant detritus, microbes and bacteria (Credit: Getty Images)In this sense, while periphyton's slimy mixing of algae and fungal matter perhaps isn't nature's most glamourous pairing, it has resulted in a symbiotic romance which has lasted for \"probably hundreds of millions of years\" says Chabba.\n",
            "You might also like:\n",
            "\n",
            "The bees learning to fight off invasive hornets\n",
            "The mysterious inner life of the octopus\n",
            "Squirrel and Japanese knotweed: Pests on the menu\n",
            "\n",
            "So as Valentine's Day leads many to dwell on the ingredients of a good relationship, we explore some other unusual – yet wildly successful – couples of the animal and plant kingdom that could give humanity some romantic inspiration.\n",
            "Woolly bats and pitcher plants\n",
            "Not everyone could handle the carnivorous pitcher plant but the Borneo-based beauty has found its perfect match in the form of a woolly bat. The plant, which usually suffocates its victims via a sticky slime, lures the bat in with an echo reflector. But it's not the bat the plant is after; this tropical hunter has eyes for only one thing: the bat's droppings. The pitcher plants grow in soil that's low in nutrients, and they need additional fertiliser – which the droppings provide. In return, the bats find the perfect bed. They spend their days resting inside the plant, which offers the bats a safe refuge instead of turning them into food.Pitcher plants receive additional fertiliser from the droppings of woolly bats (Credit: Getty Images)Clover roots and sugar-munching bacteria\n",
            "Legumes, such as beans, peas, chickpeas and clover, form a symbiotic relationship with bacteria that can fix nitrogen from the air, and turn it into ammonia – which the plants then convert into protein and use to grow. It's a mutually beneficial relationship that is around 60 million years old. In return for the bacteria's support, the plant houses the bacteria in root nodules – tiny pinkish balls – and provides them with sugars and oxygen so they too can grow. So next time you're weeding and pull out a clover, have a look at the roots and marvel at this ancient partnership.Legumes form a symbiotic relationship with bacteria that can fix nitrogen from the air (Credit: Getty Images)Crocodiles and birds\n",
            "The Nile crocodile and Egyptian plover may seem like unlikely bedfellows but it's an alliance that's been documented since ancient times – at least 440BC. What makes this couple tick is still poorly understood, with some experts even arguing that the teeth-cleaning plover bird's relationship with the crocodile is just a myth. But there is evidence that crocodilians and wading birds across the globe have a thing going on. In the US, long-legged wading birds actively choose nesting sites above American alligators, to take advantage of the protection these reptiles can offer from other egg-stealing predators. And the benefits for alligators? A tasty feast provided by the chicks that fall out of the nests.Somewhat counter-intuitively, long-legged wading birds can seek protection from predators by nesting above American alligators (Credit: Getty Images)Ostriches and zebras\n",
            "Ostriches have poor eyesight, but smell well. Zebras see well but have a terrible sense of smell. They're a match made in heaven and it's a pairing that has been appreciated since Darwin's first records. They're often spotted together on the African plains, and they help each other out by combining their senses to alert one another to predators.\n",
            "And then there was one\n",
            "But what happens to these mutualisms when one species is under threat – or goes extinct? Humanity's impact on the planet, such as habitat loss or the introduction of non-native species which might affect one half of a pair, is greatly altering these relationships and \"decoupling\" many mutualistic partnerships.Call out Box: Sign up to Future EarthSign up to the Future Earth newsletter to get essential climate news and hopeful developments in your inbox every Tuesday from Carl Nasman. This email is currently available to non-UK readers. In the UK? Sign up for newsletters here.In Hawaii, plants have co-evolved to perfectly fit the beak of the birds that come to feed on them. As these birds go extinct, the plants that relied on them for pollination are expected to follow suit. In other words, these plants have been widowed, and may not be able to survive without their pollinating partners.\n",
            "Mutualisms can \"bind species to a common fate\", noted one study on species partnerships. The relationship breakdown has the potential to expand and accelerate effects of biodiversity loss and ecosystem disruption.\n",
            "But it may not be all breakups and uncoupling; nature is resilient, and these species may find ways to survive outside of these symbiotic relationships. \"There are clear cases in which mutualisms show a surprising ability to adapt to global change, and even cases of new partnership evolving,\" says evolutionary biologist Toby Kiers, who adds that these are mostly with invasive species, such as fungi developing an alliance with non-native eucalyptus. \"It is not all doom-and-gloom.\"\n",
            "--\n",
            "If you liked this story, sign up for The Essential List newsletter – a handpicked selection of features, videos and can't-miss news delivered to your inbox every Friday.\n",
            "Join one million Future fans by liking us on Facebook, or follow us on Twitter or Instagram.\n",
            " Share using EmailShare on TwitterShare on FacebookShare on LinkedinShare\n"
          ]
        }
      ]
    },
    {
      "cell_type": "code",
      "source": [
        "import re\n",
        "\n",
        "Document = re.sub(r'\\n|\\r', ' ', article)\n",
        "Document = re.sub(r' +', ' ', Document)\n",
        "Document = Document.strip()"
      ],
      "metadata": {
        "id": "vll217_3ZM3G"
      },
      "execution_count": 16,
      "outputs": []
    },
    {
      "cell_type": "code",
      "source": [
        "Document"
      ],
      "metadata": {
        "colab": {
          "base_uri": "https://localhost:8080/",
          "height": 608
        },
        "id": "gd2k0dr1dneU",
        "outputId": "692f89b4-cbc0-45d4-c383-0d9f52bc40bd"
      },
      "execution_count": 27,
      "outputs": [
        {
          "output_type": "execute_result",
          "data": {
            "text/plain": [
              "'By Lucy Sherriff14th February 2024From bats and carnivorous plants to crocodiles and birds, nature is full of remarkable pairings that depend on each other to survive.AA green-brown spongy sludge congregates en masse across the surface of the Everglades\\' shallow marshes in southern Florida. At first glance, it may look like a harmful algal bloom that sucks oxygen from the water, suffocating the surrounding ecosystem and releasing toxins. But it is in fact a beautifully productive coupling of algae, fungi and a few other third, fourth and fifth wheels, such as plant detritus, microbes and bacteria. This cluster of beings forms a perfectly matched relationship, known as a periphyton, and provides the cornerstone of the Everglades\\' highly biodiverse ecosystem explains Meenakshi Chabba, a scientist with the non-profit Florida\\'s Everglades Foundation. \"It\\'s incredible because you have this community of organisms coming together and they form this matter which is the basis of the entire food chain here.\" A periphyton is an example of mutualism; an unexpectedly close cross-species relationship. As with any relationship, mutualism involves various, complex types of codependency and benefits – yet it roughly breaks down into two types:\\xa0species that are highly dependent on each other, known as obligate mutualism; and species that have a friends-with-benefits approach, known as facultative mutualism. This latter type gets something out of the relationship, but they\\'d survive without each other just fine.Periphytons are formed from a cross-species coupling of algae and fungi, together with plant detritus, microbes and bacteria (Credit: Getty Images)In this sense, while periphyton\\'s slimy mixing of algae and fungal matter perhaps isn\\'t nature\\'s most glamourous pairing, it has resulted in a symbiotic romance which has lasted for \"probably hundreds of millions of years\" says Chabba. You might also like: The bees learning to fight off invasive hornets The mysterious inner life of the octopus Squirrel and Japanese knotweed: Pests on the menu So as Valentine\\'s Day leads many to dwell on the ingredients of a good relationship, we explore some other unusual – yet wildly successful –\\xa0couples of the animal and plant kingdom that could give humanity some romantic inspiration. Woolly bats and pitcher plants Not everyone could handle the carnivorous pitcher plant but the Borneo-based beauty has found its perfect match in the form of a woolly bat. The plant, which usually suffocates its victims via a sticky slime, lures the bat in with an echo reflector. But it\\'s not the bat the plant is after; this tropical hunter has eyes for only one thing: the bat\\'s droppings. The pitcher plants grow in soil that\\'s low in nutrients, and they need additional fertiliser – which\\xa0the droppings provide. In return, the bats find the perfect bed. They spend their days resting inside the plant, which offers the bats a safe refuge instead of turning them into food.Pitcher plants receive additional fertiliser from the droppings of woolly bats (Credit: Getty Images)Clover roots and sugar-munching bacteria Legumes, such as beans, peas, chickpeas and clover, form a symbiotic relationship with bacteria that can fix nitrogen from the air, and turn it into ammonia –\\xa0which the plants then convert into protein and use to grow. It\\'s a mutually beneficial relationship that is around 60 million years old. In return for the bacteria\\'s support, the plant houses the bacteria in root nodules –\\xa0tiny pinkish balls –\\xa0and provides them with sugars and oxygen so they too can grow. So next time you\\'re weeding and pull out a clover, have a look at the roots and marvel at this ancient partnership.Legumes form a symbiotic relationship with bacteria that can fix nitrogen from the air (Credit: Getty Images)Crocodiles and birds The Nile crocodile and Egyptian plover may seem like unlikely bedfellows but it\\'s an alliance that\\'s been documented since ancient times –\\xa0at least 440BC. What makes this couple tick is still poorly understood, with some experts even arguing that the teeth-cleaning plover bird\\'s relationship with the crocodile is just a myth. But there is evidence that crocodilians and wading birds across the globe have a thing going on. In the US, long-legged wading birds actively choose nesting sites above American alligators, to take advantage of the protection these reptiles can offer from other egg-stealing predators. And the benefits for alligators? A tasty feast provided by the chicks that fall out of the nests.Somewhat counter-intuitively, long-legged wading birds can seek protection from predators by nesting above American alligators (Credit: Getty Images)Ostriches and zebras Ostriches have poor eyesight, but smell well. Zebras see well but have a terrible sense of smell. They\\'re a match made in heaven and it\\'s a pairing that has been appreciated since Darwin\\'s first records. They\\'re often spotted together on the African plains, and they help each other out by combining their senses to alert one another to predators. And then there was one But what happens to these mutualisms when one species is under threat – or goes extinct? Humanity\\'s impact on the planet, such as habitat loss or the introduction of non-native species which might affect one half of a pair,\\xa0is greatly altering these relationships\\xa0and \"decoupling\" many mutualistic partnerships.Call out Box: Sign up to Future EarthSign up to the Future Earth newsletter to get essential climate news and hopeful developments in your inbox every Tuesday from Carl Nasman. This email is currently available to non-UK readers. In the UK? Sign up for newsletters here.In Hawaii,\\xa0plants have co-evolved to perfectly fit the beak of the birds\\xa0that come to feed on them. As\\xa0these birds go extinct, the plants\\xa0that relied on them for pollination are expected to follow suit. In other words, these plants have been widowed, and may not be able to survive without their pollinating partners. Mutualisms can \"bind species to a common fate\", noted one study on species partnerships. The relationship breakdown has the potential to expand and accelerate effects of biodiversity loss and ecosystem disruption. But it may not be all breakups and uncoupling; nature is resilient, and these species may find ways to survive outside of these symbiotic relationships. \"There are clear cases in which mutualisms show a surprising ability to adapt to global change, and even cases of new partnership evolving,\" says evolutionary biologist Toby Kiers, who adds that these are mostly with invasive species, such as fungi developing an alliance with non-native eucalyptus. \"It is not all doom-and-gloom.\" -- If you liked this story, sign up for The Essential List newsletter – a handpicked selection of features, videos and can\\'t-miss news delivered to your inbox every Friday. Join one million Future fans by liking us on Facebook, or follow us on Twitter or Instagram. \\xa0Share using EmailShare on TwitterShare on FacebookShare on LinkedinShare'"
            ],
            "application/vnd.google.colaboratory.intrinsic+json": {
              "type": "string"
            }
          },
          "metadata": {},
          "execution_count": 27
        }
      ]
    },
    {
      "cell_type": "markdown",
      "source": [
        "# Text Wrangling"
      ],
      "metadata": {
        "id": "0xUAh1WleXdB"
      }
    },
    {
      "cell_type": "code",
      "source": [
        "from  gensim.summarization import summarize\n"
      ],
      "metadata": {
        "id": "WykseyFla3_9"
      },
      "execution_count": 24,
      "outputs": []
    },
    {
      "cell_type": "code",
      "source": [
        "print(summarize(Document, ratio=0.2, split = False))"
      ],
      "metadata": {
        "colab": {
          "base_uri": "https://localhost:8080/"
        },
        "id": "5zWyC-PlasRD",
        "outputId": "5c4d97e4-bfe6-4c87-ac60-fc86ea54c694"
      },
      "execution_count": 71,
      "outputs": [
        {
          "output_type": "stream",
          "name": "stdout",
          "text": [
            "By Lucy Sherriff14th February 2024From bats and carnivorous plants to crocodiles and birds, nature is full of remarkable pairings that depend on each other to survive.AA green-brown spongy sludge congregates en masse across the surface of the Everglades' shallow marshes in southern Florida.\n",
            "This cluster of beings forms a perfectly matched relationship, known as a periphyton, and provides the cornerstone of the Everglades' highly biodiverse ecosystem explains Meenakshi Chabba, a scientist with the non-profit Florida's Everglades Foundation.\n",
            "This latter type gets something out of the relationship, but they'd survive without each other just fine.Periphytons are formed from a cross-species coupling of algae and fungi, together with plant detritus, microbes and bacteria (Credit: Getty Images)In this sense, while periphyton's slimy mixing of algae and fungal matter perhaps isn't nature's most glamourous pairing, it has resulted in a symbiotic romance which has lasted for \"probably hundreds of millions of years\" says Chabba.\n",
            "They spend their days resting inside the plant, which offers the bats a safe refuge instead of turning them into food.Pitcher plants receive additional fertiliser from the droppings of woolly bats (Credit: Getty Images)Clover roots and sugar-munching bacteria Legumes, such as beans, peas, chickpeas and clover, form a symbiotic relationship with bacteria that can fix nitrogen from the air, and turn it into ammonia – which the plants then convert into protein and use to grow.\n",
            "So next time you're weeding and pull out a clover, have a look at the roots and marvel at this ancient partnership.Legumes form a symbiotic relationship with bacteria that can fix nitrogen from the air (Credit: Getty Images)Crocodiles and birds The Nile crocodile and Egyptian plover may seem like unlikely bedfellows but it's an alliance that's been documented since ancient times – at least 440BC.\n",
            "A tasty feast provided by the chicks that fall out of the nests.Somewhat counter-intuitively, long-legged wading birds can seek protection from predators by nesting above American alligators (Credit: Getty Images)Ostriches and zebras Ostriches have poor eyesight, but smell well.\n",
            "Humanity's impact on the planet, such as habitat loss or the introduction of non-native species which might affect one half of a pair, is greatly altering these relationships and \"decoupling\" many mutualistic partnerships.Call out Box: Sign up to Future EarthSign up to the Future Earth newsletter to get essential climate news and hopeful developments in your inbox every Tuesday from Carl Nasman.\n"
          ]
        }
      ]
    },
    {
      "cell_type": "code",
      "source": [
        "import nltk"
      ],
      "metadata": {
        "id": "uyckVfAda1q8"
      },
      "execution_count": 33,
      "outputs": []
    },
    {
      "cell_type": "code",
      "source": [
        "nltk.download('all')"
      ],
      "metadata": {
        "colab": {
          "base_uri": "https://localhost:8080/"
        },
        "id": "ms74CP_8fFiK",
        "outputId": "f31fe0d9-98b2-4a0d-b151-beb30da88415"
      },
      "execution_count": 35,
      "outputs": [
        {
          "output_type": "stream",
          "name": "stderr",
          "text": [
            "[nltk_data] Downloading collection 'all'\n",
            "[nltk_data]    | \n",
            "[nltk_data]    | Downloading package abc to /root/nltk_data...\n",
            "[nltk_data]    |   Unzipping corpora/abc.zip.\n",
            "[nltk_data]    | Downloading package alpino to /root/nltk_data...\n",
            "[nltk_data]    |   Unzipping corpora/alpino.zip.\n",
            "[nltk_data]    | Downloading package averaged_perceptron_tagger to\n",
            "[nltk_data]    |     /root/nltk_data...\n",
            "[nltk_data]    |   Unzipping taggers/averaged_perceptron_tagger.zip.\n",
            "[nltk_data]    | Downloading package averaged_perceptron_tagger_ru to\n",
            "[nltk_data]    |     /root/nltk_data...\n",
            "[nltk_data]    |   Unzipping\n",
            "[nltk_data]    |       taggers/averaged_perceptron_tagger_ru.zip.\n",
            "[nltk_data]    | Downloading package basque_grammars to\n",
            "[nltk_data]    |     /root/nltk_data...\n",
            "[nltk_data]    |   Unzipping grammars/basque_grammars.zip.\n",
            "[nltk_data]    | Downloading package bcp47 to /root/nltk_data...\n",
            "[nltk_data]    | Downloading package biocreative_ppi to\n",
            "[nltk_data]    |     /root/nltk_data...\n",
            "[nltk_data]    |   Unzipping corpora/biocreative_ppi.zip.\n",
            "[nltk_data]    | Downloading package bllip_wsj_no_aux to\n",
            "[nltk_data]    |     /root/nltk_data...\n",
            "[nltk_data]    |   Unzipping models/bllip_wsj_no_aux.zip.\n",
            "[nltk_data]    | Downloading package book_grammars to\n",
            "[nltk_data]    |     /root/nltk_data...\n",
            "[nltk_data]    |   Unzipping grammars/book_grammars.zip.\n",
            "[nltk_data]    | Downloading package brown to /root/nltk_data...\n",
            "[nltk_data]    |   Unzipping corpora/brown.zip.\n",
            "[nltk_data]    | Downloading package brown_tei to /root/nltk_data...\n",
            "[nltk_data]    |   Unzipping corpora/brown_tei.zip.\n",
            "[nltk_data]    | Downloading package cess_cat to /root/nltk_data...\n",
            "[nltk_data]    |   Unzipping corpora/cess_cat.zip.\n",
            "[nltk_data]    | Downloading package cess_esp to /root/nltk_data...\n",
            "[nltk_data]    |   Unzipping corpora/cess_esp.zip.\n",
            "[nltk_data]    | Downloading package chat80 to /root/nltk_data...\n",
            "[nltk_data]    |   Unzipping corpora/chat80.zip.\n",
            "[nltk_data]    | Downloading package city_database to\n",
            "[nltk_data]    |     /root/nltk_data...\n",
            "[nltk_data]    |   Unzipping corpora/city_database.zip.\n",
            "[nltk_data]    | Downloading package cmudict to /root/nltk_data...\n",
            "[nltk_data]    |   Unzipping corpora/cmudict.zip.\n",
            "[nltk_data]    | Downloading package comparative_sentences to\n",
            "[nltk_data]    |     /root/nltk_data...\n",
            "[nltk_data]    |   Unzipping corpora/comparative_sentences.zip.\n",
            "[nltk_data]    | Downloading package comtrans to /root/nltk_data...\n",
            "[nltk_data]    | Downloading package conll2000 to /root/nltk_data...\n",
            "[nltk_data]    |   Unzipping corpora/conll2000.zip.\n",
            "[nltk_data]    | Downloading package conll2002 to /root/nltk_data...\n",
            "[nltk_data]    |   Unzipping corpora/conll2002.zip.\n",
            "[nltk_data]    | Downloading package conll2007 to /root/nltk_data...\n",
            "[nltk_data]    | Downloading package crubadan to /root/nltk_data...\n",
            "[nltk_data]    |   Unzipping corpora/crubadan.zip.\n",
            "[nltk_data]    | Downloading package dependency_treebank to\n",
            "[nltk_data]    |     /root/nltk_data...\n",
            "[nltk_data]    |   Unzipping corpora/dependency_treebank.zip.\n",
            "[nltk_data]    | Downloading package dolch to /root/nltk_data...\n",
            "[nltk_data]    |   Unzipping corpora/dolch.zip.\n",
            "[nltk_data]    | Downloading package europarl_raw to\n",
            "[nltk_data]    |     /root/nltk_data...\n",
            "[nltk_data]    |   Unzipping corpora/europarl_raw.zip.\n",
            "[nltk_data]    | Downloading package extended_omw to\n",
            "[nltk_data]    |     /root/nltk_data...\n",
            "[nltk_data]    | Downloading package floresta to /root/nltk_data...\n",
            "[nltk_data]    |   Unzipping corpora/floresta.zip.\n",
            "[nltk_data]    | Downloading package framenet_v15 to\n",
            "[nltk_data]    |     /root/nltk_data...\n",
            "[nltk_data]    |   Unzipping corpora/framenet_v15.zip.\n",
            "[nltk_data]    | Downloading package framenet_v17 to\n",
            "[nltk_data]    |     /root/nltk_data...\n",
            "[nltk_data]    |   Unzipping corpora/framenet_v17.zip.\n",
            "[nltk_data]    | Downloading package gazetteers to /root/nltk_data...\n",
            "[nltk_data]    |   Unzipping corpora/gazetteers.zip.\n",
            "[nltk_data]    | Downloading package genesis to /root/nltk_data...\n",
            "[nltk_data]    |   Unzipping corpora/genesis.zip.\n",
            "[nltk_data]    | Downloading package gutenberg to /root/nltk_data...\n",
            "[nltk_data]    |   Unzipping corpora/gutenberg.zip.\n",
            "[nltk_data]    | Downloading package ieer to /root/nltk_data...\n",
            "[nltk_data]    |   Unzipping corpora/ieer.zip.\n",
            "[nltk_data]    | Downloading package inaugural to /root/nltk_data...\n",
            "[nltk_data]    |   Unzipping corpora/inaugural.zip.\n",
            "[nltk_data]    | Downloading package indian to /root/nltk_data...\n",
            "[nltk_data]    |   Unzipping corpora/indian.zip.\n",
            "[nltk_data]    | Downloading package jeita to /root/nltk_data...\n",
            "[nltk_data]    | Downloading package kimmo to /root/nltk_data...\n",
            "[nltk_data]    |   Unzipping corpora/kimmo.zip.\n",
            "[nltk_data]    | Downloading package knbc to /root/nltk_data...\n",
            "[nltk_data]    | Downloading package large_grammars to\n",
            "[nltk_data]    |     /root/nltk_data...\n",
            "[nltk_data]    |   Unzipping grammars/large_grammars.zip.\n",
            "[nltk_data]    | Downloading package lin_thesaurus to\n",
            "[nltk_data]    |     /root/nltk_data...\n",
            "[nltk_data]    |   Unzipping corpora/lin_thesaurus.zip.\n",
            "[nltk_data]    | Downloading package mac_morpho to /root/nltk_data...\n",
            "[nltk_data]    |   Unzipping corpora/mac_morpho.zip.\n",
            "[nltk_data]    | Downloading package machado to /root/nltk_data...\n",
            "[nltk_data]    | Downloading package masc_tagged to /root/nltk_data...\n",
            "[nltk_data]    | Downloading package maxent_ne_chunker to\n",
            "[nltk_data]    |     /root/nltk_data...\n",
            "[nltk_data]    |   Unzipping chunkers/maxent_ne_chunker.zip.\n",
            "[nltk_data]    | Downloading package maxent_treebank_pos_tagger to\n",
            "[nltk_data]    |     /root/nltk_data...\n",
            "[nltk_data]    |   Unzipping taggers/maxent_treebank_pos_tagger.zip.\n",
            "[nltk_data]    | Downloading package moses_sample to\n",
            "[nltk_data]    |     /root/nltk_data...\n",
            "[nltk_data]    |   Unzipping models/moses_sample.zip.\n",
            "[nltk_data]    | Downloading package movie_reviews to\n",
            "[nltk_data]    |     /root/nltk_data...\n",
            "[nltk_data]    |   Unzipping corpora/movie_reviews.zip.\n",
            "[nltk_data]    | Downloading package mte_teip5 to /root/nltk_data...\n",
            "[nltk_data]    |   Unzipping corpora/mte_teip5.zip.\n",
            "[nltk_data]    | Downloading package mwa_ppdb to /root/nltk_data...\n",
            "[nltk_data]    |   Unzipping misc/mwa_ppdb.zip.\n",
            "[nltk_data]    | Downloading package names to /root/nltk_data...\n",
            "[nltk_data]    |   Unzipping corpora/names.zip.\n",
            "[nltk_data]    | Downloading package nombank.1.0 to /root/nltk_data...\n",
            "[nltk_data]    | Downloading package nonbreaking_prefixes to\n",
            "[nltk_data]    |     /root/nltk_data...\n",
            "[nltk_data]    |   Unzipping corpora/nonbreaking_prefixes.zip.\n",
            "[nltk_data]    | Downloading package nps_chat to /root/nltk_data...\n",
            "[nltk_data]    |   Unzipping corpora/nps_chat.zip.\n",
            "[nltk_data]    | Downloading package omw to /root/nltk_data...\n",
            "[nltk_data]    | Downloading package omw-1.4 to /root/nltk_data...\n",
            "[nltk_data]    | Downloading package opinion_lexicon to\n",
            "[nltk_data]    |     /root/nltk_data...\n",
            "[nltk_data]    |   Unzipping corpora/opinion_lexicon.zip.\n",
            "[nltk_data]    | Downloading package panlex_swadesh to\n",
            "[nltk_data]    |     /root/nltk_data...\n",
            "[nltk_data]    | Downloading package paradigms to /root/nltk_data...\n",
            "[nltk_data]    |   Unzipping corpora/paradigms.zip.\n",
            "[nltk_data]    | Downloading package pe08 to /root/nltk_data...\n",
            "[nltk_data]    |   Unzipping corpora/pe08.zip.\n",
            "[nltk_data]    | Downloading package perluniprops to\n",
            "[nltk_data]    |     /root/nltk_data...\n",
            "[nltk_data]    |   Unzipping misc/perluniprops.zip.\n",
            "[nltk_data]    | Downloading package pil to /root/nltk_data...\n",
            "[nltk_data]    |   Unzipping corpora/pil.zip.\n",
            "[nltk_data]    | Downloading package pl196x to /root/nltk_data...\n",
            "[nltk_data]    |   Unzipping corpora/pl196x.zip.\n",
            "[nltk_data]    | Downloading package porter_test to /root/nltk_data...\n",
            "[nltk_data]    |   Unzipping stemmers/porter_test.zip.\n",
            "[nltk_data]    | Downloading package ppattach to /root/nltk_data...\n",
            "[nltk_data]    |   Unzipping corpora/ppattach.zip.\n",
            "[nltk_data]    | Downloading package problem_reports to\n",
            "[nltk_data]    |     /root/nltk_data...\n",
            "[nltk_data]    |   Unzipping corpora/problem_reports.zip.\n",
            "[nltk_data]    | Downloading package product_reviews_1 to\n",
            "[nltk_data]    |     /root/nltk_data...\n",
            "[nltk_data]    |   Unzipping corpora/product_reviews_1.zip.\n",
            "[nltk_data]    | Downloading package product_reviews_2 to\n",
            "[nltk_data]    |     /root/nltk_data...\n",
            "[nltk_data]    |   Unzipping corpora/product_reviews_2.zip.\n",
            "[nltk_data]    | Downloading package propbank to /root/nltk_data...\n",
            "[nltk_data]    | Downloading package pros_cons to /root/nltk_data...\n",
            "[nltk_data]    |   Unzipping corpora/pros_cons.zip.\n",
            "[nltk_data]    | Downloading package ptb to /root/nltk_data...\n",
            "[nltk_data]    |   Unzipping corpora/ptb.zip.\n",
            "[nltk_data]    | Downloading package punkt to /root/nltk_data...\n",
            "[nltk_data]    |   Unzipping tokenizers/punkt.zip.\n",
            "[nltk_data]    | Downloading package qc to /root/nltk_data...\n",
            "[nltk_data]    |   Unzipping corpora/qc.zip.\n",
            "[nltk_data]    | Downloading package reuters to /root/nltk_data...\n",
            "[nltk_data]    | Downloading package rslp to /root/nltk_data...\n",
            "[nltk_data]    |   Unzipping stemmers/rslp.zip.\n",
            "[nltk_data]    | Downloading package rte to /root/nltk_data...\n",
            "[nltk_data]    |   Unzipping corpora/rte.zip.\n",
            "[nltk_data]    | Downloading package sample_grammars to\n",
            "[nltk_data]    |     /root/nltk_data...\n",
            "[nltk_data]    |   Unzipping grammars/sample_grammars.zip.\n",
            "[nltk_data]    | Downloading package semcor to /root/nltk_data...\n",
            "[nltk_data]    | Downloading package senseval to /root/nltk_data...\n",
            "[nltk_data]    |   Unzipping corpora/senseval.zip.\n",
            "[nltk_data]    | Downloading package sentence_polarity to\n",
            "[nltk_data]    |     /root/nltk_data...\n",
            "[nltk_data]    |   Unzipping corpora/sentence_polarity.zip.\n",
            "[nltk_data]    | Downloading package sentiwordnet to\n",
            "[nltk_data]    |     /root/nltk_data...\n",
            "[nltk_data]    |   Unzipping corpora/sentiwordnet.zip.\n",
            "[nltk_data]    | Downloading package shakespeare to /root/nltk_data...\n",
            "[nltk_data]    |   Unzipping corpora/shakespeare.zip.\n",
            "[nltk_data]    | Downloading package sinica_treebank to\n",
            "[nltk_data]    |     /root/nltk_data...\n",
            "[nltk_data]    |   Unzipping corpora/sinica_treebank.zip.\n",
            "[nltk_data]    | Downloading package smultron to /root/nltk_data...\n",
            "[nltk_data]    |   Unzipping corpora/smultron.zip.\n",
            "[nltk_data]    | Downloading package snowball_data to\n",
            "[nltk_data]    |     /root/nltk_data...\n",
            "[nltk_data]    | Downloading package spanish_grammars to\n",
            "[nltk_data]    |     /root/nltk_data...\n",
            "[nltk_data]    |   Unzipping grammars/spanish_grammars.zip.\n",
            "[nltk_data]    | Downloading package state_union to /root/nltk_data...\n",
            "[nltk_data]    |   Unzipping corpora/state_union.zip.\n",
            "[nltk_data]    | Downloading package stopwords to /root/nltk_data...\n",
            "[nltk_data]    |   Unzipping corpora/stopwords.zip.\n",
            "[nltk_data]    | Downloading package subjectivity to\n",
            "[nltk_data]    |     /root/nltk_data...\n",
            "[nltk_data]    |   Unzipping corpora/subjectivity.zip.\n",
            "[nltk_data]    | Downloading package swadesh to /root/nltk_data...\n",
            "[nltk_data]    |   Unzipping corpora/swadesh.zip.\n",
            "[nltk_data]    | Downloading package switchboard to /root/nltk_data...\n",
            "[nltk_data]    |   Unzipping corpora/switchboard.zip.\n",
            "[nltk_data]    | Downloading package tagsets to /root/nltk_data...\n",
            "[nltk_data]    |   Unzipping help/tagsets.zip.\n",
            "[nltk_data]    | Downloading package timit to /root/nltk_data...\n",
            "[nltk_data]    |   Unzipping corpora/timit.zip.\n",
            "[nltk_data]    | Downloading package toolbox to /root/nltk_data...\n",
            "[nltk_data]    |   Unzipping corpora/toolbox.zip.\n",
            "[nltk_data]    | Downloading package treebank to /root/nltk_data...\n",
            "[nltk_data]    |   Unzipping corpora/treebank.zip.\n",
            "[nltk_data]    | Downloading package twitter_samples to\n",
            "[nltk_data]    |     /root/nltk_data...\n",
            "[nltk_data]    |   Unzipping corpora/twitter_samples.zip.\n",
            "[nltk_data]    | Downloading package udhr to /root/nltk_data...\n",
            "[nltk_data]    |   Unzipping corpora/udhr.zip.\n",
            "[nltk_data]    | Downloading package udhr2 to /root/nltk_data...\n",
            "[nltk_data]    |   Unzipping corpora/udhr2.zip.\n",
            "[nltk_data]    | Downloading package unicode_samples to\n",
            "[nltk_data]    |     /root/nltk_data...\n",
            "[nltk_data]    |   Unzipping corpora/unicode_samples.zip.\n",
            "[nltk_data]    | Downloading package universal_tagset to\n",
            "[nltk_data]    |     /root/nltk_data...\n",
            "[nltk_data]    |   Unzipping taggers/universal_tagset.zip.\n",
            "[nltk_data]    | Downloading package universal_treebanks_v20 to\n",
            "[nltk_data]    |     /root/nltk_data...\n",
            "[nltk_data]    | Downloading package vader_lexicon to\n",
            "[nltk_data]    |     /root/nltk_data...\n",
            "[nltk_data]    | Downloading package verbnet to /root/nltk_data...\n",
            "[nltk_data]    |   Unzipping corpora/verbnet.zip.\n",
            "[nltk_data]    | Downloading package verbnet3 to /root/nltk_data...\n",
            "[nltk_data]    |   Unzipping corpora/verbnet3.zip.\n",
            "[nltk_data]    | Downloading package webtext to /root/nltk_data...\n",
            "[nltk_data]    |   Unzipping corpora/webtext.zip.\n",
            "[nltk_data]    | Downloading package wmt15_eval to /root/nltk_data...\n",
            "[nltk_data]    |   Unzipping models/wmt15_eval.zip.\n",
            "[nltk_data]    | Downloading package word2vec_sample to\n",
            "[nltk_data]    |     /root/nltk_data...\n",
            "[nltk_data]    |   Unzipping models/word2vec_sample.zip.\n",
            "[nltk_data]    | Downloading package wordnet to /root/nltk_data...\n",
            "[nltk_data]    | Downloading package wordnet2021 to /root/nltk_data...\n",
            "[nltk_data]    | Downloading package wordnet2022 to /root/nltk_data...\n",
            "[nltk_data]    |   Unzipping corpora/wordnet2022.zip.\n",
            "[nltk_data]    | Downloading package wordnet31 to /root/nltk_data...\n",
            "[nltk_data]    | Downloading package wordnet_ic to /root/nltk_data...\n",
            "[nltk_data]    |   Unzipping corpora/wordnet_ic.zip.\n",
            "[nltk_data]    | Downloading package words to /root/nltk_data...\n",
            "[nltk_data]    |   Unzipping corpora/words.zip.\n",
            "[nltk_data]    | Downloading package ycoe to /root/nltk_data...\n",
            "[nltk_data]    |   Unzipping corpora/ycoe.zip.\n",
            "[nltk_data]    | \n",
            "[nltk_data]  Done downloading collection all\n"
          ]
        },
        {
          "output_type": "execute_result",
          "data": {
            "text/plain": [
              "True"
            ]
          },
          "metadata": {},
          "execution_count": 35
        }
      ]
    },
    {
      "cell_type": "code",
      "source": [
        "sentence = nltk.sent_tokenize(Document)"
      ],
      "metadata": {
        "id": "q4IxB5uUe7Y-"
      },
      "execution_count": 36,
      "outputs": []
    },
    {
      "cell_type": "code",
      "source": [
        "import numpy as np\n",
        "import re\n",
        "\n",
        "stop_words = nltk.corpus.stopwords.words('english')\n",
        "\n",
        "def normalize_document(doc):\n",
        "  doc = re.sub(r'[^a-zA-Z\\s]', '',doc , re.I|re.A)\n",
        "  doc = doc.lower()\n",
        "  doc = doc.strip()\n",
        "\n",
        "  #tokenize\n",
        "  tokens = nltk.word_tokenize(doc)\n",
        "\n",
        "  #filter stopwords out of document\n",
        "  filtered_tokens = [token for token in tokens if token not in stop_words]\n",
        "\n",
        "  #recreate the document from filtered tokens\n",
        "  doc = ' '.join(filtered_tokens)\n",
        "  return doc\n",
        "\n",
        "  normalize_corpus = np.vectorize(normalize_document)"
      ],
      "metadata": {
        "id": "WRmUfW0efynx"
      },
      "execution_count": 39,
      "outputs": []
    },
    {
      "cell_type": "code",
      "source": [
        "norm_sentences = normalize_corpus(sentence)"
      ],
      "metadata": {
        "id": "H6ZMmgeihSsF"
      },
      "execution_count": 41,
      "outputs": []
    },
    {
      "cell_type": "code",
      "source": [
        "norm_sentences[:3]"
      ],
      "metadata": {
        "colab": {
          "base_uri": "https://localhost:8080/"
        },
        "id": "gNMxiyashiSN",
        "outputId": "529cfb68-0ed2-42a4-fa6b-2f8deddde70b"
      },
      "execution_count": 43,
      "outputs": [
        {
          "output_type": "execute_result",
          "data": {
            "text/plain": [
              "array(['lucy sherriffth february bats carnivorous plants crocodiles birds nature full remarkable pairings depend surviveaa greenbrown spongy sludge congregates en masse across surface everglades shallow marshes southern florida',\n",
              "       'first glance may look like harmful algal bloom sucks oxygen water suffocating surrounding ecosystem releasing toxins',\n",
              "       'fact beautifully productive coupling algae fungi third fourth fifth wheels plant detritus microbes bacteria'],\n",
              "      dtype='<U352')"
            ]
          },
          "metadata": {},
          "execution_count": 43
        }
      ]
    },
    {
      "cell_type": "markdown",
      "source": [
        "# Feature Engineering (Tfidf)"
      ],
      "metadata": {
        "id": "3EHX5Yl4hu5v"
      }
    },
    {
      "cell_type": "code",
      "source": [
        "from sklearn.feature_extraction.text import TfidfVectorizer\n",
        "import pandas as pd\n",
        "\n",
        "tv = TfidfVectorizer(min_df=0. , max_df = 1. , use_idf=True)\n",
        "dt_matrix = tv.fit_transform(norm_sentences)\n",
        "dt_matrix = dt_matrix.toarray()\n",
        "\n",
        "vocab = tv.get_feature_names_out()\n",
        "td_matrix = dt_matrix.T\n",
        "print(td_matrix.shape)\n",
        "pd.DataFrame(np.round(td_matrix,2), index=vocab).head(10)"
      ],
      "metadata": {
        "colab": {
          "base_uri": "https://localhost:8080/",
          "height": 410
        },
        "id": "xdhlaPvIhkCl",
        "outputId": "fdc9e7fd-fd7d-48bd-cbfd-269d22ef8453"
      },
      "execution_count": 48,
      "outputs": [
        {
          "output_type": "stream",
          "name": "stdout",
          "text": [
            "(460, 41)\n"
          ]
        },
        {
          "output_type": "execute_result",
          "data": {
            "text/plain": [
              "              0    1    2    3    4    5    6    7    8    9   ...   31    32  \\\n",
              "ability     0.00  0.0  0.0  0.0  0.0  0.0  0.0  0.0  0.0  0.0  ...  0.0  0.00   \n",
              "able        0.00  0.0  0.0  0.0  0.0  0.0  0.0  0.0  0.0  0.0  ...  0.0  0.36   \n",
              "accelerate  0.00  0.0  0.0  0.0  0.0  0.0  0.0  0.0  0.0  0.0  ...  0.0  0.00   \n",
              "across      0.18  0.0  0.0  0.0  0.0  0.0  0.0  0.0  0.0  0.0  ...  0.0  0.00   \n",
              "actively    0.00  0.0  0.0  0.0  0.0  0.0  0.0  0.0  0.0  0.0  ...  0.0  0.00   \n",
              "adapt       0.00  0.0  0.0  0.0  0.0  0.0  0.0  0.0  0.0  0.0  ...  0.0  0.00   \n",
              "additional  0.00  0.0  0.0  0.0  0.0  0.0  0.0  0.0  0.0  0.0  ...  0.0  0.00   \n",
              "adds        0.00  0.0  0.0  0.0  0.0  0.0  0.0  0.0  0.0  0.0  ...  0.0  0.00   \n",
              "advantage   0.00  0.0  0.0  0.0  0.0  0.0  0.0  0.0  0.0  0.0  ...  0.0  0.00   \n",
              "affect      0.00  0.0  0.0  0.0  0.0  0.0  0.0  0.0  0.0  0.0  ...  0.0  0.00   \n",
              "\n",
              "             33    34   35    36   37   38   39   40  \n",
              "ability     0.0  0.00  0.0  0.19  0.0  0.0  0.0  0.0  \n",
              "able        0.0  0.00  0.0  0.00  0.0  0.0  0.0  0.0  \n",
              "accelerate  0.0  0.34  0.0  0.00  0.0  0.0  0.0  0.0  \n",
              "across      0.0  0.00  0.0  0.00  0.0  0.0  0.0  0.0  \n",
              "actively    0.0  0.00  0.0  0.00  0.0  0.0  0.0  0.0  \n",
              "adapt       0.0  0.00  0.0  0.19  0.0  0.0  0.0  0.0  \n",
              "additional  0.0  0.00  0.0  0.00  0.0  0.0  0.0  0.0  \n",
              "adds        0.0  0.00  0.0  0.19  0.0  0.0  0.0  0.0  \n",
              "advantage   0.0  0.00  0.0  0.00  0.0  0.0  0.0  0.0  \n",
              "affect      0.0  0.00  0.0  0.00  0.0  0.0  0.0  0.0  \n",
              "\n",
              "[10 rows x 41 columns]"
            ],
            "text/html": [
              "\n",
              "  <div id=\"df-ccae7c7b-f319-45e4-b047-6a6fce0d4711\" class=\"colab-df-container\">\n",
              "    <div>\n",
              "<style scoped>\n",
              "    .dataframe tbody tr th:only-of-type {\n",
              "        vertical-align: middle;\n",
              "    }\n",
              "\n",
              "    .dataframe tbody tr th {\n",
              "        vertical-align: top;\n",
              "    }\n",
              "\n",
              "    .dataframe thead th {\n",
              "        text-align: right;\n",
              "    }\n",
              "</style>\n",
              "<table border=\"1\" class=\"dataframe\">\n",
              "  <thead>\n",
              "    <tr style=\"text-align: right;\">\n",
              "      <th></th>\n",
              "      <th>0</th>\n",
              "      <th>1</th>\n",
              "      <th>2</th>\n",
              "      <th>3</th>\n",
              "      <th>4</th>\n",
              "      <th>5</th>\n",
              "      <th>6</th>\n",
              "      <th>7</th>\n",
              "      <th>8</th>\n",
              "      <th>9</th>\n",
              "      <th>...</th>\n",
              "      <th>31</th>\n",
              "      <th>32</th>\n",
              "      <th>33</th>\n",
              "      <th>34</th>\n",
              "      <th>35</th>\n",
              "      <th>36</th>\n",
              "      <th>37</th>\n",
              "      <th>38</th>\n",
              "      <th>39</th>\n",
              "      <th>40</th>\n",
              "    </tr>\n",
              "  </thead>\n",
              "  <tbody>\n",
              "    <tr>\n",
              "      <th>ability</th>\n",
              "      <td>0.00</td>\n",
              "      <td>0.0</td>\n",
              "      <td>0.0</td>\n",
              "      <td>0.0</td>\n",
              "      <td>0.0</td>\n",
              "      <td>0.0</td>\n",
              "      <td>0.0</td>\n",
              "      <td>0.0</td>\n",
              "      <td>0.0</td>\n",
              "      <td>0.0</td>\n",
              "      <td>...</td>\n",
              "      <td>0.0</td>\n",
              "      <td>0.00</td>\n",
              "      <td>0.0</td>\n",
              "      <td>0.00</td>\n",
              "      <td>0.0</td>\n",
              "      <td>0.19</td>\n",
              "      <td>0.0</td>\n",
              "      <td>0.0</td>\n",
              "      <td>0.0</td>\n",
              "      <td>0.0</td>\n",
              "    </tr>\n",
              "    <tr>\n",
              "      <th>able</th>\n",
              "      <td>0.00</td>\n",
              "      <td>0.0</td>\n",
              "      <td>0.0</td>\n",
              "      <td>0.0</td>\n",
              "      <td>0.0</td>\n",
              "      <td>0.0</td>\n",
              "      <td>0.0</td>\n",
              "      <td>0.0</td>\n",
              "      <td>0.0</td>\n",
              "      <td>0.0</td>\n",
              "      <td>...</td>\n",
              "      <td>0.0</td>\n",
              "      <td>0.36</td>\n",
              "      <td>0.0</td>\n",
              "      <td>0.00</td>\n",
              "      <td>0.0</td>\n",
              "      <td>0.00</td>\n",
              "      <td>0.0</td>\n",
              "      <td>0.0</td>\n",
              "      <td>0.0</td>\n",
              "      <td>0.0</td>\n",
              "    </tr>\n",
              "    <tr>\n",
              "      <th>accelerate</th>\n",
              "      <td>0.00</td>\n",
              "      <td>0.0</td>\n",
              "      <td>0.0</td>\n",
              "      <td>0.0</td>\n",
              "      <td>0.0</td>\n",
              "      <td>0.0</td>\n",
              "      <td>0.0</td>\n",
              "      <td>0.0</td>\n",
              "      <td>0.0</td>\n",
              "      <td>0.0</td>\n",
              "      <td>...</td>\n",
              "      <td>0.0</td>\n",
              "      <td>0.00</td>\n",
              "      <td>0.0</td>\n",
              "      <td>0.34</td>\n",
              "      <td>0.0</td>\n",
              "      <td>0.00</td>\n",
              "      <td>0.0</td>\n",
              "      <td>0.0</td>\n",
              "      <td>0.0</td>\n",
              "      <td>0.0</td>\n",
              "    </tr>\n",
              "    <tr>\n",
              "      <th>across</th>\n",
              "      <td>0.18</td>\n",
              "      <td>0.0</td>\n",
              "      <td>0.0</td>\n",
              "      <td>0.0</td>\n",
              "      <td>0.0</td>\n",
              "      <td>0.0</td>\n",
              "      <td>0.0</td>\n",
              "      <td>0.0</td>\n",
              "      <td>0.0</td>\n",
              "      <td>0.0</td>\n",
              "      <td>...</td>\n",
              "      <td>0.0</td>\n",
              "      <td>0.00</td>\n",
              "      <td>0.0</td>\n",
              "      <td>0.00</td>\n",
              "      <td>0.0</td>\n",
              "      <td>0.00</td>\n",
              "      <td>0.0</td>\n",
              "      <td>0.0</td>\n",
              "      <td>0.0</td>\n",
              "      <td>0.0</td>\n",
              "    </tr>\n",
              "    <tr>\n",
              "      <th>actively</th>\n",
              "      <td>0.00</td>\n",
              "      <td>0.0</td>\n",
              "      <td>0.0</td>\n",
              "      <td>0.0</td>\n",
              "      <td>0.0</td>\n",
              "      <td>0.0</td>\n",
              "      <td>0.0</td>\n",
              "      <td>0.0</td>\n",
              "      <td>0.0</td>\n",
              "      <td>0.0</td>\n",
              "      <td>...</td>\n",
              "      <td>0.0</td>\n",
              "      <td>0.00</td>\n",
              "      <td>0.0</td>\n",
              "      <td>0.00</td>\n",
              "      <td>0.0</td>\n",
              "      <td>0.00</td>\n",
              "      <td>0.0</td>\n",
              "      <td>0.0</td>\n",
              "      <td>0.0</td>\n",
              "      <td>0.0</td>\n",
              "    </tr>\n",
              "    <tr>\n",
              "      <th>adapt</th>\n",
              "      <td>0.00</td>\n",
              "      <td>0.0</td>\n",
              "      <td>0.0</td>\n",
              "      <td>0.0</td>\n",
              "      <td>0.0</td>\n",
              "      <td>0.0</td>\n",
              "      <td>0.0</td>\n",
              "      <td>0.0</td>\n",
              "      <td>0.0</td>\n",
              "      <td>0.0</td>\n",
              "      <td>...</td>\n",
              "      <td>0.0</td>\n",
              "      <td>0.00</td>\n",
              "      <td>0.0</td>\n",
              "      <td>0.00</td>\n",
              "      <td>0.0</td>\n",
              "      <td>0.19</td>\n",
              "      <td>0.0</td>\n",
              "      <td>0.0</td>\n",
              "      <td>0.0</td>\n",
              "      <td>0.0</td>\n",
              "    </tr>\n",
              "    <tr>\n",
              "      <th>additional</th>\n",
              "      <td>0.00</td>\n",
              "      <td>0.0</td>\n",
              "      <td>0.0</td>\n",
              "      <td>0.0</td>\n",
              "      <td>0.0</td>\n",
              "      <td>0.0</td>\n",
              "      <td>0.0</td>\n",
              "      <td>0.0</td>\n",
              "      <td>0.0</td>\n",
              "      <td>0.0</td>\n",
              "      <td>...</td>\n",
              "      <td>0.0</td>\n",
              "      <td>0.00</td>\n",
              "      <td>0.0</td>\n",
              "      <td>0.00</td>\n",
              "      <td>0.0</td>\n",
              "      <td>0.00</td>\n",
              "      <td>0.0</td>\n",
              "      <td>0.0</td>\n",
              "      <td>0.0</td>\n",
              "      <td>0.0</td>\n",
              "    </tr>\n",
              "    <tr>\n",
              "      <th>adds</th>\n",
              "      <td>0.00</td>\n",
              "      <td>0.0</td>\n",
              "      <td>0.0</td>\n",
              "      <td>0.0</td>\n",
              "      <td>0.0</td>\n",
              "      <td>0.0</td>\n",
              "      <td>0.0</td>\n",
              "      <td>0.0</td>\n",
              "      <td>0.0</td>\n",
              "      <td>0.0</td>\n",
              "      <td>...</td>\n",
              "      <td>0.0</td>\n",
              "      <td>0.00</td>\n",
              "      <td>0.0</td>\n",
              "      <td>0.00</td>\n",
              "      <td>0.0</td>\n",
              "      <td>0.19</td>\n",
              "      <td>0.0</td>\n",
              "      <td>0.0</td>\n",
              "      <td>0.0</td>\n",
              "      <td>0.0</td>\n",
              "    </tr>\n",
              "    <tr>\n",
              "      <th>advantage</th>\n",
              "      <td>0.00</td>\n",
              "      <td>0.0</td>\n",
              "      <td>0.0</td>\n",
              "      <td>0.0</td>\n",
              "      <td>0.0</td>\n",
              "      <td>0.0</td>\n",
              "      <td>0.0</td>\n",
              "      <td>0.0</td>\n",
              "      <td>0.0</td>\n",
              "      <td>0.0</td>\n",
              "      <td>...</td>\n",
              "      <td>0.0</td>\n",
              "      <td>0.00</td>\n",
              "      <td>0.0</td>\n",
              "      <td>0.00</td>\n",
              "      <td>0.0</td>\n",
              "      <td>0.00</td>\n",
              "      <td>0.0</td>\n",
              "      <td>0.0</td>\n",
              "      <td>0.0</td>\n",
              "      <td>0.0</td>\n",
              "    </tr>\n",
              "    <tr>\n",
              "      <th>affect</th>\n",
              "      <td>0.00</td>\n",
              "      <td>0.0</td>\n",
              "      <td>0.0</td>\n",
              "      <td>0.0</td>\n",
              "      <td>0.0</td>\n",
              "      <td>0.0</td>\n",
              "      <td>0.0</td>\n",
              "      <td>0.0</td>\n",
              "      <td>0.0</td>\n",
              "      <td>0.0</td>\n",
              "      <td>...</td>\n",
              "      <td>0.0</td>\n",
              "      <td>0.00</td>\n",
              "      <td>0.0</td>\n",
              "      <td>0.00</td>\n",
              "      <td>0.0</td>\n",
              "      <td>0.00</td>\n",
              "      <td>0.0</td>\n",
              "      <td>0.0</td>\n",
              "      <td>0.0</td>\n",
              "      <td>0.0</td>\n",
              "    </tr>\n",
              "  </tbody>\n",
              "</table>\n",
              "<p>10 rows × 41 columns</p>\n",
              "</div>\n",
              "    <div class=\"colab-df-buttons\">\n",
              "\n",
              "  <div class=\"colab-df-container\">\n",
              "    <button class=\"colab-df-convert\" onclick=\"convertToInteractive('df-ccae7c7b-f319-45e4-b047-6a6fce0d4711')\"\n",
              "            title=\"Convert this dataframe to an interactive table.\"\n",
              "            style=\"display:none;\">\n",
              "\n",
              "  <svg xmlns=\"http://www.w3.org/2000/svg\" height=\"24px\" viewBox=\"0 -960 960 960\">\n",
              "    <path d=\"M120-120v-720h720v720H120Zm60-500h600v-160H180v160Zm220 220h160v-160H400v160Zm0 220h160v-160H400v160ZM180-400h160v-160H180v160Zm440 0h160v-160H620v160ZM180-180h160v-160H180v160Zm440 0h160v-160H620v160Z\"/>\n",
              "  </svg>\n",
              "    </button>\n",
              "\n",
              "  <style>\n",
              "    .colab-df-container {\n",
              "      display:flex;\n",
              "      gap: 12px;\n",
              "    }\n",
              "\n",
              "    .colab-df-convert {\n",
              "      background-color: #E8F0FE;\n",
              "      border: none;\n",
              "      border-radius: 50%;\n",
              "      cursor: pointer;\n",
              "      display: none;\n",
              "      fill: #1967D2;\n",
              "      height: 32px;\n",
              "      padding: 0 0 0 0;\n",
              "      width: 32px;\n",
              "    }\n",
              "\n",
              "    .colab-df-convert:hover {\n",
              "      background-color: #E2EBFA;\n",
              "      box-shadow: 0px 1px 2px rgba(60, 64, 67, 0.3), 0px 1px 3px 1px rgba(60, 64, 67, 0.15);\n",
              "      fill: #174EA6;\n",
              "    }\n",
              "\n",
              "    .colab-df-buttons div {\n",
              "      margin-bottom: 4px;\n",
              "    }\n",
              "\n",
              "    [theme=dark] .colab-df-convert {\n",
              "      background-color: #3B4455;\n",
              "      fill: #D2E3FC;\n",
              "    }\n",
              "\n",
              "    [theme=dark] .colab-df-convert:hover {\n",
              "      background-color: #434B5C;\n",
              "      box-shadow: 0px 1px 3px 1px rgba(0, 0, 0, 0.15);\n",
              "      filter: drop-shadow(0px 1px 2px rgba(0, 0, 0, 0.3));\n",
              "      fill: #FFFFFF;\n",
              "    }\n",
              "  </style>\n",
              "\n",
              "    <script>\n",
              "      const buttonEl =\n",
              "        document.querySelector('#df-ccae7c7b-f319-45e4-b047-6a6fce0d4711 button.colab-df-convert');\n",
              "      buttonEl.style.display =\n",
              "        google.colab.kernel.accessAllowed ? 'block' : 'none';\n",
              "\n",
              "      async function convertToInteractive(key) {\n",
              "        const element = document.querySelector('#df-ccae7c7b-f319-45e4-b047-6a6fce0d4711');\n",
              "        const dataTable =\n",
              "          await google.colab.kernel.invokeFunction('convertToInteractive',\n",
              "                                                    [key], {});\n",
              "        if (!dataTable) return;\n",
              "\n",
              "        const docLinkHtml = 'Like what you see? Visit the ' +\n",
              "          '<a target=\"_blank\" href=https://colab.research.google.com/notebooks/data_table.ipynb>data table notebook</a>'\n",
              "          + ' to learn more about interactive tables.';\n",
              "        element.innerHTML = '';\n",
              "        dataTable['output_type'] = 'display_data';\n",
              "        await google.colab.output.renderOutput(dataTable, element);\n",
              "        const docLink = document.createElement('div');\n",
              "        docLink.innerHTML = docLinkHtml;\n",
              "        element.appendChild(docLink);\n",
              "      }\n",
              "    </script>\n",
              "  </div>\n",
              "\n",
              "\n",
              "<div id=\"df-68952a85-9bc6-4b99-b8df-eae614447ae8\">\n",
              "  <button class=\"colab-df-quickchart\" onclick=\"quickchart('df-68952a85-9bc6-4b99-b8df-eae614447ae8')\"\n",
              "            title=\"Suggest charts\"\n",
              "            style=\"display:none;\">\n",
              "\n",
              "<svg xmlns=\"http://www.w3.org/2000/svg\" height=\"24px\"viewBox=\"0 0 24 24\"\n",
              "     width=\"24px\">\n",
              "    <g>\n",
              "        <path d=\"M19 3H5c-1.1 0-2 .9-2 2v14c0 1.1.9 2 2 2h14c1.1 0 2-.9 2-2V5c0-1.1-.9-2-2-2zM9 17H7v-7h2v7zm4 0h-2V7h2v10zm4 0h-2v-4h2v4z\"/>\n",
              "    </g>\n",
              "</svg>\n",
              "  </button>\n",
              "\n",
              "<style>\n",
              "  .colab-df-quickchart {\n",
              "      --bg-color: #E8F0FE;\n",
              "      --fill-color: #1967D2;\n",
              "      --hover-bg-color: #E2EBFA;\n",
              "      --hover-fill-color: #174EA6;\n",
              "      --disabled-fill-color: #AAA;\n",
              "      --disabled-bg-color: #DDD;\n",
              "  }\n",
              "\n",
              "  [theme=dark] .colab-df-quickchart {\n",
              "      --bg-color: #3B4455;\n",
              "      --fill-color: #D2E3FC;\n",
              "      --hover-bg-color: #434B5C;\n",
              "      --hover-fill-color: #FFFFFF;\n",
              "      --disabled-bg-color: #3B4455;\n",
              "      --disabled-fill-color: #666;\n",
              "  }\n",
              "\n",
              "  .colab-df-quickchart {\n",
              "    background-color: var(--bg-color);\n",
              "    border: none;\n",
              "    border-radius: 50%;\n",
              "    cursor: pointer;\n",
              "    display: none;\n",
              "    fill: var(--fill-color);\n",
              "    height: 32px;\n",
              "    padding: 0;\n",
              "    width: 32px;\n",
              "  }\n",
              "\n",
              "  .colab-df-quickchart:hover {\n",
              "    background-color: var(--hover-bg-color);\n",
              "    box-shadow: 0 1px 2px rgba(60, 64, 67, 0.3), 0 1px 3px 1px rgba(60, 64, 67, 0.15);\n",
              "    fill: var(--button-hover-fill-color);\n",
              "  }\n",
              "\n",
              "  .colab-df-quickchart-complete:disabled,\n",
              "  .colab-df-quickchart-complete:disabled:hover {\n",
              "    background-color: var(--disabled-bg-color);\n",
              "    fill: var(--disabled-fill-color);\n",
              "    box-shadow: none;\n",
              "  }\n",
              "\n",
              "  .colab-df-spinner {\n",
              "    border: 2px solid var(--fill-color);\n",
              "    border-color: transparent;\n",
              "    border-bottom-color: var(--fill-color);\n",
              "    animation:\n",
              "      spin 1s steps(1) infinite;\n",
              "  }\n",
              "\n",
              "  @keyframes spin {\n",
              "    0% {\n",
              "      border-color: transparent;\n",
              "      border-bottom-color: var(--fill-color);\n",
              "      border-left-color: var(--fill-color);\n",
              "    }\n",
              "    20% {\n",
              "      border-color: transparent;\n",
              "      border-left-color: var(--fill-color);\n",
              "      border-top-color: var(--fill-color);\n",
              "    }\n",
              "    30% {\n",
              "      border-color: transparent;\n",
              "      border-left-color: var(--fill-color);\n",
              "      border-top-color: var(--fill-color);\n",
              "      border-right-color: var(--fill-color);\n",
              "    }\n",
              "    40% {\n",
              "      border-color: transparent;\n",
              "      border-right-color: var(--fill-color);\n",
              "      border-top-color: var(--fill-color);\n",
              "    }\n",
              "    60% {\n",
              "      border-color: transparent;\n",
              "      border-right-color: var(--fill-color);\n",
              "    }\n",
              "    80% {\n",
              "      border-color: transparent;\n",
              "      border-right-color: var(--fill-color);\n",
              "      border-bottom-color: var(--fill-color);\n",
              "    }\n",
              "    90% {\n",
              "      border-color: transparent;\n",
              "      border-bottom-color: var(--fill-color);\n",
              "    }\n",
              "  }\n",
              "</style>\n",
              "\n",
              "  <script>\n",
              "    async function quickchart(key) {\n",
              "      const quickchartButtonEl =\n",
              "        document.querySelector('#' + key + ' button');\n",
              "      quickchartButtonEl.disabled = true;  // To prevent multiple clicks.\n",
              "      quickchartButtonEl.classList.add('colab-df-spinner');\n",
              "      try {\n",
              "        const charts = await google.colab.kernel.invokeFunction(\n",
              "            'suggestCharts', [key], {});\n",
              "      } catch (error) {\n",
              "        console.error('Error during call to suggestCharts:', error);\n",
              "      }\n",
              "      quickchartButtonEl.classList.remove('colab-df-spinner');\n",
              "      quickchartButtonEl.classList.add('colab-df-quickchart-complete');\n",
              "    }\n",
              "    (() => {\n",
              "      let quickchartButtonEl =\n",
              "        document.querySelector('#df-68952a85-9bc6-4b99-b8df-eae614447ae8 button');\n",
              "      quickchartButtonEl.style.display =\n",
              "        google.colab.kernel.accessAllowed ? 'block' : 'none';\n",
              "    })();\n",
              "  </script>\n",
              "</div>\n",
              "    </div>\n",
              "  </div>\n"
            ],
            "application/vnd.google.colaboratory.intrinsic+json": {
              "type": "dataframe"
            }
          },
          "metadata": {},
          "execution_count": 48
        }
      ]
    },
    {
      "cell_type": "markdown",
      "source": [
        "# Latent Semantic Analysis"
      ],
      "metadata": {
        "id": "IaLCnN8djNms"
      }
    },
    {
      "cell_type": "code",
      "source": [
        "from scipy.sparse.linalg import svds\n",
        "\n",
        "def low_rank_svd(matrix, singular_count=2):\n",
        "  u,s,vt= svds(matrix, k = singular_count)\n",
        "  return u, s, vt"
      ],
      "metadata": {
        "id": "jP8cQykZjRdC"
      },
      "execution_count": 49,
      "outputs": []
    },
    {
      "cell_type": "code",
      "source": [
        "num_sentences = 8\n",
        "num_topics = 3\n",
        "\n",
        "u,s,vt = low_rank_svd(td_matrix, singular_count=num_topics)\n",
        "print(u.shape, s.shape, vt.shape)\n",
        "\n",
        "term_topic_mat, singular_values, topic_document_mat = u, s, vt"
      ],
      "metadata": {
        "colab": {
          "base_uri": "https://localhost:8080/"
        },
        "id": "LHOG79PRju2O",
        "outputId": "1b1acdeb-16c8-4890-9bc0-6ce471178005"
      },
      "execution_count": 51,
      "outputs": [
        {
          "output_type": "stream",
          "name": "stdout",
          "text": [
            "(460, 3) (3,) (3, 41)\n"
          ]
        }
      ]
    },
    {
      "cell_type": "code",
      "source": [
        "# remove singular values below threshold\n",
        "sv_threshold = 0.5\n",
        "min_sigma_value = max(singular_values) * sv_threshold\n",
        "singular_values[singular_values < min_sigma_value] = 0"
      ],
      "metadata": {
        "id": "YFG7Pe-zkwb4"
      },
      "execution_count": 53,
      "outputs": []
    },
    {
      "cell_type": "code",
      "source": [
        "salience_scores = np.sqrt(np.dot(np.square(singular_values),\n",
        "                                 np.square(topic_document_mat)))\n",
        "salience_scores"
      ],
      "metadata": {
        "colab": {
          "base_uri": "https://localhost:8080/"
        },
        "id": "MlXowJm7lLTB",
        "outputId": "76467e39-ec94-4adb-d719-95b199e2bb33"
      },
      "execution_count": 54,
      "outputs": [
        {
          "output_type": "execute_result",
          "data": {
            "text/plain": [
              "array([2.49950843e-01, 1.33321279e-01, 2.64407420e-01, 1.30929653e-01,\n",
              "       1.03173671e-01, 1.51215269e-01, 3.28786041e-01, 3.31756669e-01,\n",
              "       1.23957482e-01, 5.18289389e-01, 1.83353401e-01, 4.36450042e-01,\n",
              "       4.06605830e-01, 3.39600227e-01, 6.17525968e-01, 1.08357768e-01,\n",
              "       2.96374343e-01, 3.78648916e-01, 1.69038704e-01, 3.20119850e-01,\n",
              "       6.94092257e-01, 3.77652164e-01, 7.48167717e-01, 3.32698066e-01,\n",
              "       9.62542396e-02, 2.50131253e-01, 6.98577783e-01, 3.89804828e-01,\n",
              "       2.98584707e-17, 5.59912918e-20, 1.91565277e-01, 2.48137097e-01,\n",
              "       2.40381697e-01, 6.63551604e-01, 8.35529277e-02, 3.15185735e-01,\n",
              "       2.74150111e-01, 6.84959001e-17, 1.41276413e-01, 3.39723065e-01,\n",
              "       5.18322818e-18])"
            ]
          },
          "metadata": {},
          "execution_count": 54
        }
      ]
    },
    {
      "cell_type": "code",
      "source": [
        "top_sentence_indices = (-salience_scores).argsort()[:num_sentences]\n",
        "top_sentence_indices.sort()"
      ],
      "metadata": {
        "id": "mgJOK7pSlT-S"
      },
      "execution_count": 55,
      "outputs": []
    },
    {
      "cell_type": "code",
      "source": [
        "print('\\n'.join(np.array(sentence)[top_sentence_indices]))"
      ],
      "metadata": {
        "colab": {
          "base_uri": "https://localhost:8080/"
        },
        "id": "9Qmy-FSVlWz0",
        "outputId": "6e82da74-ce2e-4d78-bd2f-cdfe5717770d"
      },
      "execution_count": 57,
      "outputs": [
        {
          "output_type": "stream",
          "name": "stdout",
          "text": [
            "Woolly bats and pitcher plants Not everyone could handle the carnivorous pitcher plant but the Borneo-based beauty has found its perfect match in the form of a woolly bat.\n",
            "But it's not the bat the plant is after; this tropical hunter has eyes for only one thing: the bat's droppings.\n",
            "The pitcher plants grow in soil that's low in nutrients, and they need additional fertiliser – which the droppings provide.\n",
            "They spend their days resting inside the plant, which offers the bats a safe refuge instead of turning them into food.Pitcher plants receive additional fertiliser from the droppings of woolly bats (Credit: Getty Images)Clover roots and sugar-munching bacteria Legumes, such as beans, peas, chickpeas and clover, form a symbiotic relationship with bacteria that can fix nitrogen from the air, and turn it into ammonia – which the plants then convert into protein and use to grow.\n",
            "In the US, long-legged wading birds actively choose nesting sites above American alligators, to take advantage of the protection these reptiles can offer from other egg-stealing predators.\n",
            "A tasty feast provided by the chicks that fall out of the nests.Somewhat counter-intuitively, long-legged wading birds can seek protection from predators by nesting above American alligators (Credit: Getty Images)Ostriches and zebras Ostriches have poor eyesight, but smell well.\n",
            "And then there was one But what happens to these mutualisms when one species is under threat – or goes extinct?\n",
            "Mutualisms can \"bind species to a common fate\", noted one study on species partnerships.\n"
          ]
        }
      ]
    },
    {
      "cell_type": "markdown",
      "source": [
        "# Text Rank"
      ],
      "metadata": {
        "id": "k5mp7c9FmN1D"
      }
    },
    {
      "cell_type": "code",
      "source": [
        "similarity_matrix = np.matmul(dt_matrix, dt_matrix.T)\n",
        "print(similarity_matrix.shape)\n",
        "np.round(similarity_matrix,3)"
      ],
      "metadata": {
        "colab": {
          "base_uri": "https://localhost:8080/"
        },
        "id": "UOJghqmxmMKu",
        "outputId": "3bf26406-db56-4db9-d931-1484594e67f3"
      },
      "execution_count": 59,
      "outputs": [
        {
          "output_type": "stream",
          "name": "stdout",
          "text": [
            "(41, 41)\n"
          ]
        },
        {
          "output_type": "execute_result",
          "data": {
            "text/plain": [
              "array([[1., 0., 0., ..., 0., 0., 0.],\n",
              "       [0., 1., 0., ..., 0., 0., 0.],\n",
              "       [0., 0., 1., ..., 0., 0., 0.],\n",
              "       ...,\n",
              "       [0., 0., 0., ..., 1., 0., 0.],\n",
              "       [0., 0., 0., ..., 0., 1., 0.],\n",
              "       [0., 0., 0., ..., 0., 0., 1.]])"
            ]
          },
          "metadata": {},
          "execution_count": 59
        }
      ]
    },
    {
      "cell_type": "code",
      "source": [
        "import networkx\n",
        "similarity_graph = networkx.from_numpy_array(similarity_matrix)\n",
        "similarity_graph"
      ],
      "metadata": {
        "colab": {
          "base_uri": "https://localhost:8080/"
        },
        "id": "cNh7q00Xnimi",
        "outputId": "d1df7513-fa06-42b0-d3e7-59aaef4b3c81"
      },
      "execution_count": 61,
      "outputs": [
        {
          "output_type": "execute_result",
          "data": {
            "text/plain": [
              "<networkx.classes.graph.Graph at 0x78f91f1b8af0>"
            ]
          },
          "metadata": {},
          "execution_count": 61
        }
      ]
    },
    {
      "cell_type": "code",
      "source": [
        "import matplotlib.pyplot as plt\n",
        "%matplotlib inline\n",
        "\n",
        "plt.figure(figsize=(12,6))\n",
        "networkx.draw_networkx(similarity_graph, node_color='lime')"
      ],
      "metadata": {
        "colab": {
          "base_uri": "https://localhost:8080/",
          "height": 499
        },
        "id": "koNjbNR9n0ES",
        "outputId": "7ea46d47-dc3f-4ecb-a0f5-c371c8ff5348"
      },
      "execution_count": 62,
      "outputs": [
        {
          "output_type": "display_data",
          "data": {
            "text/plain": [
              "<Figure size 1200x600 with 1 Axes>"
            ],
            "image/png": "[encoded data removed]"
          },
          "metadata": {}
        }
      ]
    },
    {
      "cell_type": "code",
      "source": [
        "scores = networkx.pagerank(similarity_graph)\n",
        "ranked_sentences = sorted(((score, index) for index, score\n",
        "                                            in scores.items()),\n",
        "                          reverse=True)\n",
        "ranked_sentences[:10]"
      ],
      "metadata": {
        "colab": {
          "base_uri": "https://localhost:8080/"
        },
        "id": "o6bxhiisoGAA",
        "outputId": "28e7938c-d5b1-42d3-c69d-28c2a58ec304"
      },
      "execution_count": 63,
      "outputs": [
        {
          "output_type": "execute_result",
          "data": {
            "text/plain": [
              "[(0.03253380221089034, 14),\n",
              " (0.030435313860855212, 7),\n",
              " (0.029850254532246302, 11),\n",
              " (0.029114380974029196, 9),\n",
              " (0.028721243488514007, 17),\n",
              " (0.028606219810649963, 22),\n",
              " (0.02809148777534015, 26),\n",
              " (0.026499308291807744, 20),\n",
              " (0.026369454671346885, 35),\n",
              " (0.026189287657893162, 6)]"
            ]
          },
          "metadata": {},
          "execution_count": 63
        }
      ]
    },
    {
      "cell_type": "code",
      "source": [
        "top_sentence_indices = [ranked_sentences[index][1]\n",
        "                        for index in range(num_sentences)]\n",
        "top_sentence_indices.sort()"
      ],
      "metadata": {
        "id": "YkB_p3FOoQsV"
      },
      "execution_count": 64,
      "outputs": []
    },
    {
      "cell_type": "code",
      "source": [
        "print('\\n'.join(np.array(sentence)[top_sentence_indices]))"
      ],
      "metadata": {
        "colab": {
          "base_uri": "https://localhost:8080/"
        },
        "id": "fOMxvENWodDK",
        "outputId": "bb511f0a-5d28-4299-b2ca-22afb76e7043"
      },
      "execution_count": 66,
      "outputs": [
        {
          "output_type": "stream",
          "name": "stdout",
          "text": [
            "This latter type gets something out of the relationship, but they'd survive without each other just fine.Periphytons are formed from a cross-species coupling of algae and fungi, together with plant detritus, microbes and bacteria (Credit: Getty Images)In this sense, while periphyton's slimy mixing of algae and fungal matter perhaps isn't nature's most glamourous pairing, it has resulted in a symbiotic romance which has lasted for \"probably hundreds of millions of years\" says Chabba.\n",
            "Woolly bats and pitcher plants Not everyone could handle the carnivorous pitcher plant but the Borneo-based beauty has found its perfect match in the form of a woolly bat.\n",
            "But it's not the bat the plant is after; this tropical hunter has eyes for only one thing: the bat's droppings.\n",
            "They spend their days resting inside the plant, which offers the bats a safe refuge instead of turning them into food.Pitcher plants receive additional fertiliser from the droppings of woolly bats (Credit: Getty Images)Clover roots and sugar-munching bacteria Legumes, such as beans, peas, chickpeas and clover, form a symbiotic relationship with bacteria that can fix nitrogen from the air, and turn it into ammonia – which the plants then convert into protein and use to grow.\n",
            "So next time you're weeding and pull out a clover, have a look at the roots and marvel at this ancient partnership.Legumes form a symbiotic relationship with bacteria that can fix nitrogen from the air (Credit: Getty Images)Crocodiles and birds The Nile crocodile and Egyptian plover may seem like unlikely bedfellows but it's an alliance that's been documented since ancient times – at least 440BC.\n",
            "In the US, long-legged wading birds actively choose nesting sites above American alligators, to take advantage of the protection these reptiles can offer from other egg-stealing predators.\n",
            "A tasty feast provided by the chicks that fall out of the nests.Somewhat counter-intuitively, long-legged wading birds can seek protection from predators by nesting above American alligators (Credit: Getty Images)Ostriches and zebras Ostriches have poor eyesight, but smell well.\n",
            "And then there was one But what happens to these mutualisms when one species is under threat – or goes extinct?\n"
          ]
        }
      ]
    },
    {
      "cell_type": "code",
      "source": [],
      "metadata": {
        "id": "4VpvRoXRoe-U"
      },
      "execution_count": null,
      "outputs": []
    }
  ]
}
